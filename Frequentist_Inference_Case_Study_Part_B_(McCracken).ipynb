{
  "cells": [
    {
      "cell_type": "markdown",
      "metadata": {
        "id": "view-in-github",
        "colab_type": "text"
      },
      "source": [
        "<a href=\"https://colab.research.google.com/github/smccracken13/DataScienceCareerTrack/blob/main/Frequentist_Inference_Case_Study_Part_B_(McCracken).ipynb\" target=\"_parent\"><img src=\"https://colab.research.google.com/assets/colab-badge.svg\" alt=\"Open In Colab\"/></a>"
      ]
    },
    {
      "cell_type": "markdown",
      "metadata": {
        "id": "1B2aB20TA5qI"
      },
      "source": [
        "# Frequentist Inference Case Study - Part B"
      ]
    },
    {
      "cell_type": "markdown",
      "metadata": {
        "id": "j-Di7oeMA5qJ"
      },
      "source": [
        "## Learning objectives"
      ]
    },
    {
      "cell_type": "markdown",
      "metadata": {
        "id": "chRHeG7mA5qK"
      },
      "source": [
        "Welcome to Part B of the Frequentist inference case study! The purpose of this case study is to help you apply the concepts associated with Frequentist inference in Python. In particular, you'll practice writing Python code to apply the following statistical concepts: \n",
        "* the _z_-statistic\n",
        "* the _t_-statistic\n",
        "* the difference and relationship between the two\n",
        "* the Central Limit Theorem, including its assumptions and consequences\n",
        "* how to estimate the population mean and standard deviation from a sample\n",
        "* the concept of a sampling distribution of a test statistic, particularly for the mean\n",
        "* how to combine these concepts to calculate a confidence interval"
      ]
    },
    {
      "cell_type": "markdown",
      "metadata": {
        "id": "gUV23UysA5qK"
      },
      "source": [
        "In the previous notebook, we used only data from a known normal distribution. **You'll now tackle real data, rather than simulated data, and answer some relevant real-world business problems using the data.**"
      ]
    },
    {
      "cell_type": "markdown",
      "metadata": {
        "id": "piNB2hJXA5qK"
      },
      "source": [
        "## Hospital medical charges"
      ]
    },
    {
      "cell_type": "markdown",
      "metadata": {
        "id": "ViAC5exSA5qK"
      },
      "source": [
        "Imagine that a hospital has hired you as their data scientist. An administrator is working on the hospital's business operations plan and needs you to help them answer some business questions. \n",
        "\n",
        "In this assignment notebook, you're going to use frequentist statistical inference on a data sample to answer the questions:\n",
        "* has the hospital's revenue stream fallen below a key threshold?\n",
        "* are patients with insurance really charged different amounts than those without?\n",
        "\n",
        "Answering that last question with a frequentist approach makes some assumptions, and requires some knowledge, about the two groups."
      ]
    },
    {
      "cell_type": "markdown",
      "metadata": {
        "id": "g5uzixbjA5qK"
      },
      "source": [
        "We are going to use some data on medical charges obtained from [Kaggle](https://www.kaggle.com/easonlai/sample-insurance-claim-prediction-dataset). \n",
        "\n",
        "For the purposes of this exercise, assume the observations are the result of random sampling from our single hospital. Recall that in the previous assignment, we introduced the Central Limit Theorem (CLT), and its consequence that the distributions of sample statistics approach a normal distribution as $n$ increases. The amazing thing about this is that it applies to the sampling distributions of statistics that have been calculated from even highly non-normal distributions of data! Recall, also, that hypothesis testing is very much based on making inferences about such sample statistics. You're going to rely heavily on the CLT to apply frequentist (parametric) tests to answer the questions in this notebook."
      ]
    },
    {
      "cell_type": "code",
      "execution_count": 63,
      "metadata": {
        "id": "bMUba3WSA5qL"
      },
      "outputs": [],
      "source": [
        "import pandas as pd\n",
        "import numpy as np\n",
        "import matplotlib.pyplot as plt\n",
        "import scipy.stats as stats\n",
        "from scipy.stats import t\n",
        "from numpy.random import seed\n",
        "insurance2url = 'https://raw.githubusercontent.com/smccracken13/DataScienceCareerTrack/main/Frequentist%20Case%20Study/insurance2.csv'\n",
        "medical = pd.read_csv(insurance2url)"
      ]
    },
    {
      "cell_type": "code",
      "execution_count": null,
      "metadata": {
        "id": "fS277JcVA5qL",
        "outputId": "1f3b11ce-f298-4178-a7f1-bef02735fe9b"
      },
      "outputs": [
        {
          "data": {
            "text/plain": [
              "(1338, 8)"
            ]
          },
          "execution_count": 2,
          "metadata": {},
          "output_type": "execute_result"
        }
      ],
      "source": [
        "medical.shape"
      ]
    },
    {
      "cell_type": "code",
      "execution_count": null,
      "metadata": {
        "id": "sbuHA4xRA5qM",
        "outputId": "e288bf12-1601-4434-f0eb-1ceb78a5b93a"
      },
      "outputs": [
        {
          "data": {
            "text/html": [
              "<div>\n",
              "<style scoped>\n",
              "    .dataframe tbody tr th:only-of-type {\n",
              "        vertical-align: middle;\n",
              "    }\n",
              "\n",
              "    .dataframe tbody tr th {\n",
              "        vertical-align: top;\n",
              "    }\n",
              "\n",
              "    .dataframe thead th {\n",
              "        text-align: right;\n",
              "    }\n",
              "</style>\n",
              "<table border=\"1\" class=\"dataframe\">\n",
              "  <thead>\n",
              "    <tr style=\"text-align: right;\">\n",
              "      <th></th>\n",
              "      <th>age</th>\n",
              "      <th>sex</th>\n",
              "      <th>bmi</th>\n",
              "      <th>children</th>\n",
              "      <th>smoker</th>\n",
              "      <th>region</th>\n",
              "      <th>charges</th>\n",
              "      <th>insuranceclaim</th>\n",
              "    </tr>\n",
              "  </thead>\n",
              "  <tbody>\n",
              "    <tr>\n",
              "      <th>0</th>\n",
              "      <td>19</td>\n",
              "      <td>0</td>\n",
              "      <td>27.900</td>\n",
              "      <td>0</td>\n",
              "      <td>1</td>\n",
              "      <td>3</td>\n",
              "      <td>16884.92400</td>\n",
              "      <td>1</td>\n",
              "    </tr>\n",
              "    <tr>\n",
              "      <th>1</th>\n",
              "      <td>18</td>\n",
              "      <td>1</td>\n",
              "      <td>33.770</td>\n",
              "      <td>1</td>\n",
              "      <td>0</td>\n",
              "      <td>2</td>\n",
              "      <td>1725.55230</td>\n",
              "      <td>1</td>\n",
              "    </tr>\n",
              "    <tr>\n",
              "      <th>2</th>\n",
              "      <td>28</td>\n",
              "      <td>1</td>\n",
              "      <td>33.000</td>\n",
              "      <td>3</td>\n",
              "      <td>0</td>\n",
              "      <td>2</td>\n",
              "      <td>4449.46200</td>\n",
              "      <td>0</td>\n",
              "    </tr>\n",
              "    <tr>\n",
              "      <th>3</th>\n",
              "      <td>33</td>\n",
              "      <td>1</td>\n",
              "      <td>22.705</td>\n",
              "      <td>0</td>\n",
              "      <td>0</td>\n",
              "      <td>1</td>\n",
              "      <td>21984.47061</td>\n",
              "      <td>0</td>\n",
              "    </tr>\n",
              "    <tr>\n",
              "      <th>4</th>\n",
              "      <td>32</td>\n",
              "      <td>1</td>\n",
              "      <td>28.880</td>\n",
              "      <td>0</td>\n",
              "      <td>0</td>\n",
              "      <td>1</td>\n",
              "      <td>3866.85520</td>\n",
              "      <td>1</td>\n",
              "    </tr>\n",
              "  </tbody>\n",
              "</table>\n",
              "</div>"
            ],
            "text/plain": [
              "   age  sex     bmi  children  smoker  region      charges  insuranceclaim\n",
              "0   19    0  27.900         0       1       3  16884.92400               1\n",
              "1   18    1  33.770         1       0       2   1725.55230               1\n",
              "2   28    1  33.000         3       0       2   4449.46200               0\n",
              "3   33    1  22.705         0       0       1  21984.47061               0\n",
              "4   32    1  28.880         0       0       1   3866.85520               1"
            ]
          },
          "execution_count": 3,
          "metadata": {},
          "output_type": "execute_result"
        }
      ],
      "source": [
        "medical.head()"
      ]
    },
    {
      "cell_type": "markdown",
      "metadata": {
        "id": "dClKvU4-A5qM"
      },
      "source": [
        "__Q1:__ Plot the histogram of charges and calculate the mean and standard deviation. Comment on the appropriateness of these statistics for the data."
      ]
    },
    {
      "cell_type": "markdown",
      "metadata": {
        "id": "Xh8UplcgA5qM"
      },
      "source": [
        "__A:__The mean charge is 13,270.42 but the data is clearly skewed the the right. The median would be a better indicator of a typical charge. The standard deviation is 12,105, which seems extremely high."
      ]
    },
    {
      "cell_type": "code",
      "execution_count": 7,
      "metadata": {
        "id": "b1eD79PuA5qM",
        "colab": {
          "base_uri": "https://localhost:8080/",
          "height": 295
        },
        "outputId": "70631580-4093-41e2-ce82-cb7aa8d21d40"
      },
      "outputs": [
        {
          "output_type": "display_data",
          "data": {
            "text/plain": [
              "<Figure size 432x288 with 1 Axes>"
            ],
            "image/png": "[encoded data removed]"
          },
          "metadata": {
            "needs_background": "light"
          }
        }
      ],
      "source": [
        "plt.hist(medical.charges)\n",
        "_=plt.xlabel('charges')\n",
        "_=plt.ylabel('count')\n",
        "_=plt.title('Histogram of Medical Charges')"
      ]
    },
    {
      "cell_type": "code",
      "execution_count": 8,
      "metadata": {
        "id": "xThuB3j8A5qM",
        "colab": {
          "base_uri": "https://localhost:8080/"
        },
        "outputId": "bc9b1a71-8614-46f4-f868-b56de5a72302"
      },
      "outputs": [
        {
          "output_type": "stream",
          "name": "stdout",
          "text": [
            "Mean:  13270.422265141257\n",
            "Std:  12105.484975561612\n"
          ]
        }
      ],
      "source": [
        "print('Mean: ',np.mean(medical.charges))\n",
        "print('Std: ',np.std(medical.charges))"
      ]
    },
    {
      "cell_type": "markdown",
      "metadata": {
        "id": "EZn918VCA5qM"
      },
      "source": [
        "__Q2:__ The administrator is concerned that the actual average charge has fallen below 12,000, threatening the hospital's operational model. On the assumption that these data represent a random sample of charges, how would you justify that these data allow you to answer that question? And what would be the most appropriate frequentist test, of the ones discussed so far, to apply?"
      ]
    },
    {
      "cell_type": "markdown",
      "metadata": {
        "id": "bJBAxE4eA5qM"
      },
      "source": [
        "__A:__I would run a t test on sample means. A distribution of sample means should be normally distributed according to the Central Limit Theorem, and we do not know the population standard deviation so we should not use the z distribution."
      ]
    },
    {
      "cell_type": "markdown",
      "metadata": {
        "id": "G9xuk2SvA5qM"
      },
      "source": [
        "__Q3:__ Given the nature of the administrator's concern, what is the appropriate confidence interval in this case? A ***one-sided*** or ***two-sided*** interval? (Refresh your understanding of this concept on p. 399 of the *AoS*). Calculate the critical value and the relevant 95% confidence interval for the mean, and comment on whether the administrator should be concerned."
      ]
    },
    {
      "cell_type": "markdown",
      "metadata": {
        "id": "giuC-tngA5qM"
      },
      "source": [
        "__A:__We should use a one-side interval because the admin is concerned that our value is less than 12,000."
      ]
    },
    {
      "cell_type": "code",
      "execution_count": 37,
      "metadata": {
        "id": "HNbAmnW1A5qM",
        "colab": {
          "base_uri": "https://localhost:8080/"
        },
        "outputId": "68374429-aab3-4436-a6af-47e9fe443a68"
      },
      "outputs": [
        {
          "output_type": "stream",
          "name": "stdout",
          "text": [
            "Critical T:  11334.129796919777\n",
            "CI90:  (10948.640674844795, 15774.295189191485)\n",
            "From our 90% CI, we are are 95% certain that the true mean is greater than 10,948.64\n",
            "We cannot rule out the possibility that our mean is below the critical t-value. It is possible that our mean is less than 12,000\n"
          ]
        }
      ],
      "source": [
        "seed(47)\n",
        "def charges_sample_means(samples,sample_size):\n",
        "  charges_sample_means = []\n",
        "  for i in range(samples):\n",
        "    sample_mean = np.mean(np.random.choice(medical.charges, sample_size))\n",
        "    charges_sample_means.append(sample_mean)\n",
        "  return charges_sample_means\n",
        "\n",
        "critical_t=t.ppf(q=.05,df=999, loc=np.mean(charges_sample_means(1000,100)), scale=np.std(charges_sample_means(1000,100)))\n",
        "CI90 = t.interval(alpha=0.95, df=999, loc=np.mean(charges_sample_means(1000,100)), scale=np.std(charges_sample_means(1000,100))) \n",
        "print('Critical T: ',critical_t)\n",
        "print('CI90: ',CI90)\n",
        "print('From our 90% CI, we are are 95% certain that the true mean is greater than 10,948.64')\n",
        "print('We cannot rule out the possibility that our mean is below the critical t-value. It is possible that our mean is less than 12,000')"
      ]
    },
    {
      "cell_type": "markdown",
      "metadata": {
        "id": "WakuifhiA5qM"
      },
      "source": [
        "The administrator then wants to know whether people with insurance really are charged a different amount to those without.\n",
        "\n",
        "__Q4:__ State the null and alternative hypothesis here. Use the _t_-test for the difference between means, where the pooled standard deviation of the two groups is given by:\n",
        "\\begin{equation}\n",
        "s_p = \\sqrt{\\frac{(n_0 - 1)s^2_0 + (n_1 - 1)s^2_1}{n_0 + n_1 - 2}}\n",
        "\\end{equation}\n",
        "\n",
        "and the *t*-test statistic is then given by:\n",
        "\n",
        "\\begin{equation}\n",
        "t = \\frac{\\bar{x}_0 - \\bar{x}_1}{s_p \\sqrt{1/n_0 + 1/n_1}}.\n",
        "\\end{equation}\n",
        "\n",
        "(If you need some reminding of the general definition of ***t-statistic***, check out the definition on p. 404 of *AoS*). \n",
        "\n",
        "What assumption about the variances of the two groups are we making here?"
      ]
    },
    {
      "cell_type": "markdown",
      "metadata": {
        "id": "Pl3b9O39A5qN"
      },
      "source": [
        "__A:__The H0 is that the mean charge for people with insurance is equal to that of people without insurance. The H1 is that they are not equal.\n",
        "We are assuming the variances of the two groups are equal."
      ]
    },
    {
      "cell_type": "markdown",
      "metadata": {
        "id": "1Wq-UBSdA5qN"
      },
      "source": [
        "__Q5:__ Perform this hypothesis test both manually, using the above formulae, and then using the appropriate function from [scipy.stats](https://docs.scipy.org/doc/scipy/reference/stats.html#statistical-tests) (hint, you're looking for a function to perform a _t_-test on two independent samples). For the manual approach, calculate the value of the test statistic and then its probability (the p-value). Verify you get the same results from both."
      ]
    },
    {
      "cell_type": "markdown",
      "metadata": {
        "id": "kUvLsmUJA5qN"
      },
      "source": [
        "__A:__ "
      ]
    },
    {
      "cell_type": "code",
      "execution_count": 59,
      "metadata": {
        "id": "nZAs5ZSnA5qN",
        "colab": {
          "base_uri": "https://localhost:8080/"
        },
        "outputId": "1d14f573-5600-44c0-bac6-0329cb013ab6"
      },
      "outputs": [
        {
          "output_type": "stream",
          "name": "stdout",
          "text": [
            "T-statistic:  0.0\n"
          ]
        }
      ],
      "source": [
        "# separate charges into insured/uninsured\n",
        "charges_insured = medical.charges[medical.insuranceclaim==1]\n",
        "charges_uninsured = medical.charges[medical.insuranceclaim==0]\n",
        "# calculate mean, std, and n for insured/uninsured\n",
        "mean_insured, std_insured, n_insured = np.mean(charges_insured), np.std(charges_insured), len(charges_insured)\n",
        "mean_uninsured, std_uninsured, n_uninsured = np.mean(charges_insured), np.std(charges_uninsured), len(charges_uninsured)\n",
        "# manually calculated s_pooled and t_stat\n",
        "s_pooled = np.sqrt(((n_insured-1)*(std_insured**2)+(n_uninsured-1)*(std_uninsured**2))/(n_insured+n_insured-2))\n",
        "t_stat = (mean_insured-mean_uninsured)/(s_pooled*np.sqrt(1/n_insured+1/n_uninsured))\n",
        "print(\"T-statistic: \", t_stat)"
      ]
    },
    {
      "cell_type": "code",
      "execution_count": 64,
      "metadata": {
        "id": "mbKk7aIYA5qN",
        "colab": {
          "base_uri": "https://localhost:8080/"
        },
        "outputId": "946d14f3-f754-45ad-912d-3fd5c00095b2"
      },
      "outputs": [
        {
          "output_type": "execute_result",
          "data": {
            "text/plain": [
              "Ttest_indResult(statistic=11.893299030876712, pvalue=4.461230231620717e-31)"
            ]
          },
          "metadata": {},
          "execution_count": 64
        }
      ],
      "source": [
        "#ttest_ind(data_group1, data_group2, equal_var=True/False)\n",
        "stats.ttest_ind(charges_insured, charges_uninsured, equal_var=True)"
      ]
    },
    {
      "cell_type": "markdown",
      "metadata": {
        "id": "IE4zElKdA5qN"
      },
      "source": [
        "Congratulations! Hopefully you got the exact same numerical results. This shows that you correctly calculated the numbers by hand. Secondly, you used the correct function and saw that it's much easier to use. All you need to do is pass your data to it."
      ]
    },
    {
      "cell_type": "markdown",
      "metadata": {
        "id": "RgLoN__TA5qN"
      },
      "source": [
        "__Q6:__ Conceptual question: look through the documentation for statistical test functions in scipy.stats. You'll see the above _t_-test for a sample, but can you see an equivalent one for performing a *z*-test from a sample? Comment on your answer."
      ]
    },
    {
      "cell_type": "markdown",
      "metadata": {
        "id": "uZ6UM9QpA5qN"
      },
      "source": [
        "__A:__I see a normaltest() that would function as a z-test. The z-distribution is the same thing as a normal distribution."
      ]
    },
    {
      "cell_type": "markdown",
      "metadata": {
        "id": "ZHmCrg00A5qN"
      },
      "source": [
        "## Learning outcomes"
      ]
    },
    {
      "cell_type": "markdown",
      "metadata": {
        "id": "l7Zq-75SA5qN"
      },
      "source": [
        "Having completed this project notebook, you now have good hands-on experience:\n",
        "* using the central limit theorem to help you apply frequentist techniques to answer questions that pertain to very non-normally distributed data from the real world\n",
        "* performing inference using such data to answer business questions\n",
        "* forming a hypothesis and framing the null and alternative hypotheses\n",
        "* testing this using a _t_-test"
      ]
    }
  ],
  "metadata": {
    "kernelspec": {
      "display_name": "Python 3",
      "language": "python",
      "name": "python3"
    },
    "language_info": {
      "codemirror_mode": {
        "name": "ipython",
        "version": 3
      },
      "file_extension": ".py",
      "mimetype": "text/x-python",
      "name": "python",
      "nbconvert_exporter": "python",
      "pygments_lexer": "ipython3",
      "version": "3.7.3"
    },
    "colab": {
      "provenance": [],
      "include_colab_link": true
    }
  },
  "nbformat": 4,
  "nbformat_minor": 0
}
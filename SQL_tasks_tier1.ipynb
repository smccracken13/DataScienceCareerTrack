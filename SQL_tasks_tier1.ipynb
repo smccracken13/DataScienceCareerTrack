{
  "nbformat": 4,
  "nbformat_minor": 0,
  "metadata": {
    "colab": {
      "provenance": [],
      "authorship_tag": "ABX9TyPCbljrReNRsT4ZL5JWf3Rf",
      "include_colab_link": true
    },
    "kernelspec": {
      "name": "python3",
      "display_name": "Python 3"
    },
    "language_info": {
      "name": "python"
    }
  },
  "cells": [
    {
      "cell_type": "markdown",
      "metadata": {
        "id": "view-in-github",
        "colab_type": "text"
      },
      "source": [
        "<a href=\"https://colab.research.google.com/github/smccracken13/DataScienceCareerTrack/blob/main/SQL_tasks_tier1.ipynb\" target=\"_parent\"><img src=\"https://colab.research.google.com/assets/colab-badge.svg\" alt=\"Open In Colab\"/></a>"
      ]
    },
    {
      "cell_type": "code",
      "source": [
        "''' Welcome to the SQL mini project. You will carry out this project partly in\n",
        "the PHPMyAdmin interface, and partly in Jupyter via a Python connection.\n",
        "This is Tier 1 of the case study, which means that there'll be more guidance for you about how to \n",
        "setup your local SQLite connection in PART 2 of the case study. \n",
        "The questions in the case study are exactly the same as with Tier 2. \n",
        "\n",
        "PART 1: PHPMyAdmin\n",
        "You will complete questions 1-9 below in the PHPMyAdmin interface. \n",
        "Log in by pasting the following URL into your browser, and\n",
        "using the following Username and Password:\n",
        "URL: https://sql.springboard.com/\n",
        "Username: student\n",
        "Password: learn_sql@springboard\n",
        "The data you need is in the \"country_club\" database. This database\n",
        "contains 3 tables:\n",
        "    i) the \"Bookings\" table,\n",
        "    ii) the \"Facilities\" table, and\n",
        "    iii) the \"Members\" table.\n",
        "In this case study, you'll be asked a series of questions. You can\n",
        "solve them using the platform, but for the final deliverable,\n",
        "paste the code for each solution into this script, and upload it\n",
        "to your GitHub.\n",
        "Before starting with the questions, feel free to take your time,\n",
        "exploring the data, and getting acquainted with the 3 tables. '''\n",
        "\n",
        "# PART 2: SQLite\n",
        "# We now want you to jump over to a local instance of the database on your machine. \n",
        "# Copy and paste the LocalSQLConnection.py script into an empty Jupyter notebook, and run it. \n",
        "# Make sure that the SQLFiles folder containing these files is in your working directory, and\n",
        "# that you have not changed the name of the .db file from 'sqlite\\db\\pythonsqlite'.\n",
        "# You should see the output from the initial query 'SELECT * FROM FACILITIES'.\n",
        "# Complete the remaining tasks in the Jupyter interface. If you struggle, feel free to go back\n",
        "# to the PHPMyAdmin interface as and when you need to. \n",
        "# You'll need to paste your query into value of the 'query1' variable and run the code block again to get an output."
      ],
      "metadata": {
        "colab": {
          "base_uri": "https://localhost:8080/",
          "height": 139
        },
        "id": "MZt14R09AFZq",
        "outputId": "3edfd8e3-e5fe-441b-9f2d-780e3a84a994"
      },
      "execution_count": 1,
      "outputs": [
        {
          "output_type": "execute_result",
          "data": {
            "text/plain": [
              "' Welcome to the SQL mini project. You will carry out this project partly in\\nthe PHPMyAdmin interface, and partly in Jupyter via a Python connection.\\nThis is Tier 1 of the case study, which means that there\\'ll be more guidance for you about how to \\nsetup your local SQLite connection in PART 2 of the case study. \\nThe questions in the case study are exactly the same as with Tier 2. \\nPART 1: PHPMyAdmin\\nYou will complete questions 1-9 below in the PHPMyAdmin interface. \\nLog in by pasting the following URL into your browser, and\\nusing the following Username and Password:\\nURL: https://sql.springboard.com/\\nUsername: student\\nPassword: learn_sql@springboard\\nThe data you need is in the \"country_club\" database. This database\\ncontains 3 tables:\\n    i) the \"Bookings\" table,\\n    ii) the \"Facilities\" table, and\\n    iii) the \"Members\" table.\\nIn this case study, you\\'ll be asked a series of questions. You can\\nsolve them using the platform, but for the final deliverable,\\npaste the code for each solution into this script, and upload it\\nto your GitHub.\\nBefore starting with the questions, feel free to take your time,\\nexploring the data, and getting acquainted with the 3 tables. '"
            ],
            "application/vnd.google.colaboratory.intrinsic+json": {
              "type": "string"
            }
          },
          "metadata": {},
          "execution_count": 1
        }
      ]
    },
    {
      "cell_type": "code",
      "source": [
        "# Q1: Some of the facilities charge a fee to members, but some do not.\n",
        "# Write a SQL query to produce a list of the names of the facilities that do.\n",
        "'''\n",
        "SELECT name\n",
        "FROM Facilities\n",
        "WHERE membercost >0\n",
        "ORDER BY membercost DESC;'''"
      ],
      "metadata": {
        "colab": {
          "base_uri": "https://localhost:8080/",
          "height": 35
        },
        "id": "mmYb3oCwAXHV",
        "outputId": "6e5dbbdd-42af-408f-8c19-500174e93246"
      },
      "execution_count": 5,
      "outputs": [
        {
          "output_type": "execute_result",
          "data": {
            "text/plain": [
              "'SELECT *\\nFROM Facilities\\nWHERE membercost >0\\nORDER BY membercost DESC'"
            ],
            "application/vnd.google.colaboratory.intrinsic+json": {
              "type": "string"
            }
          },
          "metadata": {},
          "execution_count": 5
        }
      ]
    },
    {
      "cell_type": "code",
      "source": [
        "# Q2: How many facilities do not charge a fee to members?\n",
        "# Answer: 4\n",
        "'''\n",
        "SELECT COUNT(*) AS count_no_member_fee_facilities\n",
        "FROM Facilities\n",
        "WHERE membercost = 0;'''"
      ],
      "metadata": {
        "id": "fJ3mgEkhBXM7"
      },
      "execution_count": null,
      "outputs": []
    },
    {
      "cell_type": "code",
      "source": [
        "# Q3: Write an SQL query to show a list of facilities that charge a fee to members,\n",
        "# where the fee is less than 20% of the facility's monthly maintenance cost.\n",
        "# Return the facid, facility name, member cost, and monthly maintenance of the\n",
        "# facilities in question.\n",
        "'''\n",
        "SELECT facid, name, membercost, monthlymaintenance\n",
        "FROM Facilities\n",
        "WHERE (membercost < 0.2*monthlymaintenance) AND (membercost>0);'''"
      ],
      "metadata": {
        "colab": {
          "base_uri": "https://localhost:8080/",
          "height": 35
        },
        "id": "q3_YyaL8B7IA",
        "outputId": "0bba5366-67b3-449e-c48d-decbf2e39afa"
      },
      "execution_count": 1,
      "outputs": [
        {
          "output_type": "execute_result",
          "data": {
            "text/plain": [
              "'\\nSELECT facid, name, membercost, monthlymaintenance\\nFROM Facilities\\nWHERE (membercost < 0.2*monthlymaintenance) AND (membercost>0);'"
            ],
            "application/vnd.google.colaboratory.intrinsic+json": {
              "type": "string"
            }
          },
          "metadata": {},
          "execution_count": 1
        }
      ]
    },
    {
      "cell_type": "code",
      "source": [
        "# Q4: Write an SQL query to retrieve the details of facilities with ID 1 and 5.\n",
        "# Try writing the query without using the OR operator.\n",
        "'''\n",
        "SELECT *\n",
        "FROM Facilities\n",
        "WHERE facid IN (1,5);'''"
      ],
      "metadata": {
        "id": "5hcuE1A1DShs"
      },
      "execution_count": null,
      "outputs": []
    },
    {
      "cell_type": "code",
      "source": [
        "# Q5: Produce a list of facilities, with each labelled as cheap' or 'expensive',\n",
        "# depending on if their monthly maintenance cost is more than $100.\n",
        "# Return the name and monthly maintenance of the facilities in question.\n",
        "'''\n",
        "SELECT name, monthlymaintenance,\n",
        "CASE WHEN monthlymaintenance >100 THEN 'expensive'\n",
        "ELSE 'cheap'\n",
        "END\n",
        "AS cheap_or_expensive\n",
        "FROM Facilities'''"
      ],
      "metadata": {
        "id": "T7ez-A7HDwns"
      },
      "execution_count": null,
      "outputs": []
    },
    {
      "cell_type": "code",
      "source": [
        "# Q6: You'd like to get the first and last name of the last member(s)who signed up.\n",
        "# Try not to use the LIMIT clause for your solution.\n",
        "'''\n",
        "SELECT firstname, surname\n",
        "FROM Members\n",
        "ORDER BY joindate DESC;'''"
      ],
      "metadata": {
        "id": "TnN4qZvwSR3t"
      },
      "execution_count": null,
      "outputs": []
    },
    {
      "cell_type": "code",
      "source": [
        "# Q7: Produce a list of all members who have used a tennis court.\n",
        "# Include in your output the name of the court, and the name of the member\n",
        "# formatted as a single column.\n",
        "# Ensure no duplicate data, and order by the member name.\n",
        "'''\n",
        "SELECT DISTINCT\n",
        "CASE WHEN facid = 0 THEN 'Tennis Court 1'\n",
        "WHEN facid = 1 THEN 'Tennis Court 2'\n",
        "ELSE 'not a tennis court' END\n",
        "AS court,\n",
        "CONCAT(firstname, ' ', surname) AS member\n",
        "FROM Bookings\n",
        "INNER JOIN Members\n",
        "ON Bookings.memid = Members.memid\n",
        "AND Bookings.facid IN (0,1)\n",
        "AND Bookings.memid != 0\n",
        "ORDER BY member, court;'''"
      ],
      "metadata": {
        "id": "7QXGXcOxSzyK"
      },
      "execution_count": null,
      "outputs": []
    },
    {
      "cell_type": "code",
      "source": [
        "# Q8: Produce a list of bookings on the day of 2012-09-14 which\n",
        "# will cost the member (or guest) more than $30.\n",
        "# Remember that guests have different costs to members,\n",
        "# (the listed costs are per half-hour 'slot'),\n",
        "# and the guest user's ID is always 0.\n",
        "# Include in your output the facility, member name(single column), and the cost.\n",
        "# Order by descending cost, and do not use any subqueries.\n",
        "'''\n",
        "SELECT Facilities.name AS facility, CONCAT(firstname, ' ', surname) AS member,\n",
        "CASE WHEN Bookings.memid = 0 THEN guestcost*slots\n",
        "ELSE membercost*slots END AS cost\n",
        "FROM Facilities\n",
        "INNER JOIN Bookings\n",
        "ON Bookings.facid = Facilities.facid\n",
        "AND Bookings.starttime LIKE \"2012-09-14%\"\n",
        "INNER JOIN Members\n",
        "ON Members.memid = Bookings.memid\n",
        "HAVING cost>30\n",
        "ORDER BY cost DESC;'''"
      ],
      "metadata": {
        "id": "XhQMpFe-cw1e"
      },
      "execution_count": null,
      "outputs": []
    },
    {
      "cell_type": "code",
      "source": [
        "# Q9: This time, produce the same result as in Q8, but using a subquery.\n",
        "'''\n",
        "SELECT facility, member, cost\n",
        "FROM\n",
        "(SELECT f.name AS facility, CONCAT(firstname, ' ', surname) AS member,\n",
        "CASE WHEN b.memid = 0 THEN guestcost*slots\n",
        "ELSE membercost*slots END AS cost\n",
        "FROM Facilities AS f\n",
        "INNER JOIN Bookings AS b\n",
        "ON b.facid = f.facid\n",
        "AND b.starttime LIKE \"2012-09-14%\"\n",
        "INNER JOIN Members AS m\n",
        "ON m.memid = b.memid) AS subtable\n",
        "WHERE cost>30\n",
        "ORDER BY cost DESC;'''"
      ],
      "metadata": {
        "id": "URDYZ_QLlUWp"
      },
      "execution_count": null,
      "outputs": []
    },
    {
      "cell_type": "code",
      "source": [
        "from types import MemberDescriptorType\n",
        "# Q10: Produce a list of facilities with a total revenue less than 1000.\n",
        "# The output of facility name and total revenue, sorted by revenue.\n",
        "#Remember that there's a different cost for guests and members!\n",
        "'''\n",
        "SELECT facility, SUM(revenue) AS total_revenue\n",
        "FROM\n",
        "(SELECT Facilities.name AS facility,\n",
        "CASE WHEN Bookings.memid = 0 THEN guestcost*slots\n",
        "ELSE membercost*slots END AS revenue\n",
        "FROM Facilities\n",
        "INNER JOIN Bookings\n",
        "ON Bookings.facid = Facilities.facid\n",
        "INNER JOIN Members\n",
        "ON Members.memid = Bookings.memid) AS revenue_table\n",
        "GROUP BY facility\n",
        "HAVING total_revenue<1000\n",
        "ORDER BY total_revenue DESC;'''"
      ],
      "metadata": {
        "id": "H7-hXTVhwvBm"
      },
      "execution_count": null,
      "outputs": []
    },
    {
      "cell_type": "code",
      "source": [
        "# Q11: Produce a report of members and who recommended them\n",
        "# in alphabetic surname,firstname order.\n",
        "'''\n",
        "SELECT member,\n",
        "CASE WHEN recommendedby = \"GUEST, GUEST\" THEN \"no recommender\"\n",
        "ELSE recommendedby END\n",
        "FROM (SELECT CONCAT(m1.surname, ', ', m1.firstname) AS member,\n",
        "CONCAT(m2.surname, ', ', m2.firstname) AS recommendedby\n",
        "FROM Members AS m1\n",
        "INNER JOIN Members AS m2\n",
        "ON m1.recommendedby = m2.memid) AS subtable\n",
        "ORDER BY member;'''"
      ],
      "metadata": {
        "id": "SCAEMZc7QSTo"
      },
      "execution_count": null,
      "outputs": []
    },
    {
      "cell_type": "code",
      "source": [
        "# Q12: Find the facilities with their usage by member, but not guests.\n",
        "'''\n",
        "SELECT facility, SUM(uses) AS total_uses\n",
        "FROM (\n",
        "SELECT Facilities.name AS facility, CASE WHEN memid>0 THEN slots END AS uses\n",
        "FROM Bookings\n",
        "INNER JOIN Facilities\n",
        "ON Facilities.facid = Bookings.facid\n",
        ") AS subtable\n",
        "GROUP BY facility\n",
        "ORDER BY total_uses DESC;'''"
      ],
      "metadata": {
        "id": "FTvW5p1WOuPe"
      },
      "execution_count": null,
      "outputs": []
    },
    {
      "cell_type": "code",
      "source": [
        "# Q13: Find the facilities usage by month, but not guests\n",
        "'''\n",
        "SELECT facility, month, SUM(uses) AS total_uses\n",
        "FROM (\n",
        "SELECT Facilities.name AS facility, MONTH(starttime) AS month, CASE WHEN memid>0 THEN slots END AS uses\n",
        "FROM Bookings\n",
        "INNER JOIN Facilities\n",
        "ON Facilities.facid = Bookings.facid\n",
        ") AS subtable\n",
        "GROUP BY facility, month\n",
        "ORDER BY month, total_uses DESC;'''"
      ],
      "metadata": {
        "id": "gWkIWt8VSAit"
      },
      "execution_count": null,
      "outputs": []
    }
  ]
}
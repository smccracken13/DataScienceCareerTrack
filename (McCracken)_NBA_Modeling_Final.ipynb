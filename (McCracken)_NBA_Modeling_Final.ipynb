{
  "nbformat": 4,
  "nbformat_minor": 0,
  "metadata": {
    "colab": {
      "provenance": [],
      "authorship_tag": "ABX9TyOjhtxA47rMoro0218Je0zi",
      "include_colab_link": true
    },
    "kernelspec": {
      "name": "python3",
      "display_name": "Python 3"
    },
    "language_info": {
      "name": "python"
    }
  },
  "cells": [
    {
      "cell_type": "markdown",
      "metadata": {
        "id": "view-in-github",
        "colab_type": "text"
      },
      "source": [
        "<a href=\"https://colab.research.google.com/github/smccracken13/DataScienceCareerTrack/blob/main/(McCracken)_NBA_Modeling_Final.ipynb\" target=\"_parent\"><img src=\"https://colab.research.google.com/assets/colab-badge.svg\" alt=\"Open In Colab\"/></a>"
      ]
    },
    {
      "cell_type": "markdown",
      "source": [
        "#Pre-processing and Training Data Development\n",
        "\n",
        "The goals of this notebook are to:\n",
        "\n",
        "1. Create dummies for categorical data ('pos', 'team')\n",
        "2. create train_test_split\n",
        "3. standardize the data"
      ],
      "metadata": {
        "id": "HACusrZgYkea"
      }
    },
    {
      "cell_type": "markdown",
      "source": [
        "# Modeling goals:\n",
        "1. Review the types of models that would be appropriate given your modeling response and the features in your dataset.\n",
        "2. build two to three models and identify the best one.\n",
        "3. implement both an entropy model and a Gini impurity model.\n",
        "4. For hyperparameter tuning, think of methods like cross-validation\n",
        "5. use standard model evaluation metrics such as accuracy, recall, precision, and F1."
      ],
      "metadata": {
        "id": "Wl-CUGbg6Joz"
      }
    },
    {
      "cell_type": "code",
      "source": [
        "import pandas as pd\n",
        "import numpy as np\n",
        "from matplotlib import pyplot as plt\n",
        "import seaborn as sns\n",
        "\n",
        "# sklearn libraries\n",
        "from sklearn.neighbors import KNeighborsClassifier\n",
        "from sklearn.model_selection import train_test_split\n",
        "from sklearn.preprocessing import normalize\n",
        "from sklearn.metrics import confusion_matrix,accuracy_score,precision_score,recall_score,f1_score,matthews_corrcoef,classification_report,roc_curve\n",
        "from sklearn.preprocessing import StandardScaler\n",
        "from sklearn.decomposition import PCA"
      ],
      "metadata": {
        "id": "cmiQRg4WYGzW"
      },
      "execution_count": 1,
      "outputs": []
    },
    {
      "cell_type": "code",
      "execution_count": 2,
      "metadata": {
        "id": "Bqi8fYuYX1yg"
      },
      "outputs": [],
      "source": [
        "# load the nba_clean2 dataframe\n",
        "url = 'https://github.com/smccracken13/NBA-All-Star-Prediction-Project/blob/main/Data/nba_clean2.csv?raw=true'\n",
        "df = pd.read_csv(url)"
      ]
    },
    {
      "cell_type": "markdown",
      "source": [
        "Create dummy variables for categorical data"
      ],
      "metadata": {
        "id": "SrsCfBRHaBXA"
      }
    },
    {
      "cell_type": "code",
      "source": [
        "df.select_dtypes(exclude=['int','float']).dtypes"
      ],
      "metadata": {
        "colab": {
          "base_uri": "https://localhost:8080/"
        },
        "id": "sdAqFSy0iGk4",
        "outputId": "cbeb1c52-bdc9-4d96-dc46-11d179abdd33"
      },
      "execution_count": 3,
      "outputs": [
        {
          "output_type": "execute_result",
          "data": {
            "text/plain": [
              "player    object\n",
              "pos       object\n",
              "tm        object\n",
              "dtype: object"
            ]
          },
          "metadata": {},
          "execution_count": 3
        }
      ]
    },
    {
      "cell_type": "code",
      "source": [
        "# value counts of teams\n",
        "df['tm'].value_counts()\n",
        "\n",
        "# value counts of teams for players that were all-stars\n",
        "df[df['all_star']==1]['tm'].value_counts()\n",
        "\n",
        "# I am going to drop the team column because I don't see it factoring into all_star selection.\n",
        "# It was interesting however to see that Lakers are the most represented by quite a bit"
      ],
      "metadata": {
        "colab": {
          "base_uri": "https://localhost:8080/"
        },
        "id": "bwuHzC6KaM7j",
        "outputId": "26d339ec-da29-4445-d45f-804841da94b7"
      },
      "execution_count": 4,
      "outputs": [
        {
          "output_type": "execute_result",
          "data": {
            "text/plain": [
              "LAL    51\n",
              "SAS    41\n",
              "UTA    34\n",
              "HOU    33\n",
              "PHO    33\n",
              "PHI    28\n",
              "BOS    24\n",
              "GSW    24\n",
              "DET    23\n",
              "CHI    23\n",
              "MIA    21\n",
              "MIL    19\n",
              "SEA    19\n",
              "DAL    17\n",
              "OKC    17\n",
              "CLE    16\n",
              "LAC    16\n",
              "POR    16\n",
              "ORL    16\n",
              "NYK    14\n",
              "MIN    14\n",
              "DEN    13\n",
              "SAC    13\n",
              "ATL    12\n",
              "IND    11\n",
              "TOR     9\n",
              "NJN     8\n",
              "WAS     6\n",
              "NOH     5\n",
              "CHH     5\n",
              "TOT     4\n",
              "MEM     4\n",
              "NOP     3\n",
              "WSB     3\n",
              "BRK     2\n",
              "CHA     1\n",
              "CHO     1\n",
              "KCK     1\n",
              "Name: tm, dtype: int64"
            ]
          },
          "metadata": {},
          "execution_count": 4
        }
      ]
    },
    {
      "cell_type": "code",
      "source": [
        "# player and team will not be used in analysis but I would like to keep it for reference\n",
        "reference_df = df[['season', 'player_id', 'player','tm']]\n",
        "df = df.drop(['season', 'player_id', 'player','tm'],axis=1)\n",
        "# drop weird extra columns (don't need this if I fix this issue earlier)\n",
        "# set seas_id to index\n",
        "df = df.drop(['Unnamed: 0.1', 'Unnamed: 0'],axis=1)\n",
        "df.set_index('seas_id')"
      ],
      "metadata": {
        "colab": {
          "base_uri": "https://localhost:8080/",
          "height": 519
        },
        "id": "D4UiOhYQZm27",
        "outputId": "a0512f51-27e8-4f97-c111-63615ab3d8b5"
      },
      "execution_count": 5,
      "outputs": [
        {
          "output_type": "execute_result",
          "data": {
            "text/plain": [
              "        pos  experience   g  ts_percent  x3p_ar   f_tr  orb_percent  \\\n",
              "seas_id                                                               \n",
              "29646    PF           8  75       0.602   0.312  0.276          6.1   \n",
              "29647    SF           1   6       0.200   0.200  0.000          0.0   \n",
              "29648    PG           4  63       0.544   0.305  0.201          2.6   \n",
              "29649    PG           4  41       0.547   0.313  0.164          1.5   \n",
              "29650    PG           4  22       0.538   0.290  0.266          4.6   \n",
              "...      ..         ...  ..         ...     ...    ...          ...   \n",
              "8343      C          12  82       0.545   0.003  0.328         11.2   \n",
              "8344     SF           1  52       0.466   0.012  0.325         11.5   \n",
              "8345     PG           4  62       0.442   0.225  0.165          5.4   \n",
              "8346     SG           2  64       0.518   0.009  0.291          4.8   \n",
              "8347     SG           5  68       0.544   0.016  0.488          5.2   \n",
              "\n",
              "         trb_percent  ast_percent  stl_percent  ...  ast   stl   blk    tov  \\\n",
              "seas_id                                         ...                           \n",
              "29646           10.3         11.6          0.9  ...  188  44.0  44.0  133.0   \n",
              "29647            3.3          0.0          0.0  ...    0   0.0   2.0    2.0   \n",
              "29648            6.5         20.7          2.0  ...  153  42.0   9.0   67.0   \n",
              "29649            5.6         17.1          1.8  ...   78  24.0   9.0   39.0   \n",
              "29650            8.2         27.4          2.4  ...   75  18.0   0.0   28.0   \n",
              "...              ...          ...          ...  ...  ...   ...   ...    ...   \n",
              "8343            18.5         15.6          1.0  ...  366  65.0  61.0  153.0   \n",
              "8344            15.6          6.1          1.2  ...   33  17.0  23.0   48.0   \n",
              "8345             6.1         29.3          3.2  ...  259  75.0   1.0   95.0   \n",
              "8346             6.3         12.8          2.4  ...   95  59.0  19.0   96.0   \n",
              "8347             5.0         18.0          1.5  ...  283  81.0  32.0  228.0   \n",
              "\n",
              "          pf   pts  all_star         attend  tm_win_percent  seas_avg_attend  \n",
              "seas_id                                                                       \n",
              "29646    148  1126         0  695262.000000        0.585366    692948.753846  \n",
              "29647      2     2         0  846867.000000        0.621951    692948.753846  \n",
              "29648     92   400         0  692948.753846        0.500000    692948.753846  \n",
              "29649     60   251         0  641499.000000        0.426829    692948.753846  \n",
              "29650     32   149         0  663171.000000        0.780488    692948.753846  \n",
              "...      ...   ...       ...            ...             ...              ...  \n",
              "8343     249   794         0  588867.333333        0.475610    588867.333333  \n",
              "8344     100   180         0  588867.333333        0.500000    588867.333333  \n",
              "8345     110   299         0  588867.333333        0.451220    588867.333333  \n",
              "8346     132   546         0  588867.333333        0.414634    588867.333333  \n",
              "8347     195  2055         0  588867.333333        0.426829    588867.333333  \n",
              "\n",
              "[21129 rows x 34 columns]"
            ],
            "text/html": [
              "\n",
              "  <div id=\"df-02a84ba4-2573-40ae-8323-0cea3b46bcb0\">\n",
              "    <div class=\"colab-df-container\">\n",
              "      <div>\n",
              "<style scoped>\n",
              "    .dataframe tbody tr th:only-of-type {\n",
              "        vertical-align: middle;\n",
              "    }\n",
              "\n",
              "    .dataframe tbody tr th {\n",
              "        vertical-align: top;\n",
              "    }\n",
              "\n",
              "    .dataframe thead th {\n",
              "        text-align: right;\n",
              "    }\n",
              "</style>\n",
              "<table border=\"1\" class=\"dataframe\">\n",
              "  <thead>\n",
              "    <tr style=\"text-align: right;\">\n",
              "      <th></th>\n",
              "      <th>pos</th>\n",
              "      <th>experience</th>\n",
              "      <th>g</th>\n",
              "      <th>ts_percent</th>\n",
              "      <th>x3p_ar</th>\n",
              "      <th>f_tr</th>\n",
              "      <th>orb_percent</th>\n",
              "      <th>trb_percent</th>\n",
              "      <th>ast_percent</th>\n",
              "      <th>stl_percent</th>\n",
              "      <th>...</th>\n",
              "      <th>ast</th>\n",
              "      <th>stl</th>\n",
              "      <th>blk</th>\n",
              "      <th>tov</th>\n",
              "      <th>pf</th>\n",
              "      <th>pts</th>\n",
              "      <th>all_star</th>\n",
              "      <th>attend</th>\n",
              "      <th>tm_win_percent</th>\n",
              "      <th>seas_avg_attend</th>\n",
              "    </tr>\n",
              "    <tr>\n",
              "      <th>seas_id</th>\n",
              "      <th></th>\n",
              "      <th></th>\n",
              "      <th></th>\n",
              "      <th></th>\n",
              "      <th></th>\n",
              "      <th></th>\n",
              "      <th></th>\n",
              "      <th></th>\n",
              "      <th></th>\n",
              "      <th></th>\n",
              "      <th></th>\n",
              "      <th></th>\n",
              "      <th></th>\n",
              "      <th></th>\n",
              "      <th></th>\n",
              "      <th></th>\n",
              "      <th></th>\n",
              "      <th></th>\n",
              "      <th></th>\n",
              "      <th></th>\n",
              "      <th></th>\n",
              "    </tr>\n",
              "  </thead>\n",
              "  <tbody>\n",
              "    <tr>\n",
              "      <th>29646</th>\n",
              "      <td>PF</td>\n",
              "      <td>8</td>\n",
              "      <td>75</td>\n",
              "      <td>0.602</td>\n",
              "      <td>0.312</td>\n",
              "      <td>0.276</td>\n",
              "      <td>6.1</td>\n",
              "      <td>10.3</td>\n",
              "      <td>11.6</td>\n",
              "      <td>0.9</td>\n",
              "      <td>...</td>\n",
              "      <td>188</td>\n",
              "      <td>44.0</td>\n",
              "      <td>44.0</td>\n",
              "      <td>133.0</td>\n",
              "      <td>148</td>\n",
              "      <td>1126</td>\n",
              "      <td>0</td>\n",
              "      <td>695262.000000</td>\n",
              "      <td>0.585366</td>\n",
              "      <td>692948.753846</td>\n",
              "    </tr>\n",
              "    <tr>\n",
              "      <th>29647</th>\n",
              "      <td>SF</td>\n",
              "      <td>1</td>\n",
              "      <td>6</td>\n",
              "      <td>0.200</td>\n",
              "      <td>0.200</td>\n",
              "      <td>0.000</td>\n",
              "      <td>0.0</td>\n",
              "      <td>3.3</td>\n",
              "      <td>0.0</td>\n",
              "      <td>0.0</td>\n",
              "      <td>...</td>\n",
              "      <td>0</td>\n",
              "      <td>0.0</td>\n",
              "      <td>2.0</td>\n",
              "      <td>2.0</td>\n",
              "      <td>2</td>\n",
              "      <td>2</td>\n",
              "      <td>0</td>\n",
              "      <td>846867.000000</td>\n",
              "      <td>0.621951</td>\n",
              "      <td>692948.753846</td>\n",
              "    </tr>\n",
              "    <tr>\n",
              "      <th>29648</th>\n",
              "      <td>PG</td>\n",
              "      <td>4</td>\n",
              "      <td>63</td>\n",
              "      <td>0.544</td>\n",
              "      <td>0.305</td>\n",
              "      <td>0.201</td>\n",
              "      <td>2.6</td>\n",
              "      <td>6.5</td>\n",
              "      <td>20.7</td>\n",
              "      <td>2.0</td>\n",
              "      <td>...</td>\n",
              "      <td>153</td>\n",
              "      <td>42.0</td>\n",
              "      <td>9.0</td>\n",
              "      <td>67.0</td>\n",
              "      <td>92</td>\n",
              "      <td>400</td>\n",
              "      <td>0</td>\n",
              "      <td>692948.753846</td>\n",
              "      <td>0.500000</td>\n",
              "      <td>692948.753846</td>\n",
              "    </tr>\n",
              "    <tr>\n",
              "      <th>29649</th>\n",
              "      <td>PG</td>\n",
              "      <td>4</td>\n",
              "      <td>41</td>\n",
              "      <td>0.547</td>\n",
              "      <td>0.313</td>\n",
              "      <td>0.164</td>\n",
              "      <td>1.5</td>\n",
              "      <td>5.6</td>\n",
              "      <td>17.1</td>\n",
              "      <td>1.8</td>\n",
              "      <td>...</td>\n",
              "      <td>78</td>\n",
              "      <td>24.0</td>\n",
              "      <td>9.0</td>\n",
              "      <td>39.0</td>\n",
              "      <td>60</td>\n",
              "      <td>251</td>\n",
              "      <td>0</td>\n",
              "      <td>641499.000000</td>\n",
              "      <td>0.426829</td>\n",
              "      <td>692948.753846</td>\n",
              "    </tr>\n",
              "    <tr>\n",
              "      <th>29650</th>\n",
              "      <td>PG</td>\n",
              "      <td>4</td>\n",
              "      <td>22</td>\n",
              "      <td>0.538</td>\n",
              "      <td>0.290</td>\n",
              "      <td>0.266</td>\n",
              "      <td>4.6</td>\n",
              "      <td>8.2</td>\n",
              "      <td>27.4</td>\n",
              "      <td>2.4</td>\n",
              "      <td>...</td>\n",
              "      <td>75</td>\n",
              "      <td>18.0</td>\n",
              "      <td>0.0</td>\n",
              "      <td>28.0</td>\n",
              "      <td>32</td>\n",
              "      <td>149</td>\n",
              "      <td>0</td>\n",
              "      <td>663171.000000</td>\n",
              "      <td>0.780488</td>\n",
              "      <td>692948.753846</td>\n",
              "    </tr>\n",
              "    <tr>\n",
              "      <th>...</th>\n",
              "      <td>...</td>\n",
              "      <td>...</td>\n",
              "      <td>...</td>\n",
              "      <td>...</td>\n",
              "      <td>...</td>\n",
              "      <td>...</td>\n",
              "      <td>...</td>\n",
              "      <td>...</td>\n",
              "      <td>...</td>\n",
              "      <td>...</td>\n",
              "      <td>...</td>\n",
              "      <td>...</td>\n",
              "      <td>...</td>\n",
              "      <td>...</td>\n",
              "      <td>...</td>\n",
              "      <td>...</td>\n",
              "      <td>...</td>\n",
              "      <td>...</td>\n",
              "      <td>...</td>\n",
              "      <td>...</td>\n",
              "      <td>...</td>\n",
              "    </tr>\n",
              "    <tr>\n",
              "      <th>8343</th>\n",
              "      <td>C</td>\n",
              "      <td>12</td>\n",
              "      <td>82</td>\n",
              "      <td>0.545</td>\n",
              "      <td>0.003</td>\n",
              "      <td>0.328</td>\n",
              "      <td>11.2</td>\n",
              "      <td>18.5</td>\n",
              "      <td>15.6</td>\n",
              "      <td>1.0</td>\n",
              "      <td>...</td>\n",
              "      <td>366</td>\n",
              "      <td>65.0</td>\n",
              "      <td>61.0</td>\n",
              "      <td>153.0</td>\n",
              "      <td>249</td>\n",
              "      <td>794</td>\n",
              "      <td>0</td>\n",
              "      <td>588867.333333</td>\n",
              "      <td>0.475610</td>\n",
              "      <td>588867.333333</td>\n",
              "    </tr>\n",
              "    <tr>\n",
              "      <th>8344</th>\n",
              "      <td>SF</td>\n",
              "      <td>1</td>\n",
              "      <td>52</td>\n",
              "      <td>0.466</td>\n",
              "      <td>0.012</td>\n",
              "      <td>0.325</td>\n",
              "      <td>11.5</td>\n",
              "      <td>15.6</td>\n",
              "      <td>6.1</td>\n",
              "      <td>1.2</td>\n",
              "      <td>...</td>\n",
              "      <td>33</td>\n",
              "      <td>17.0</td>\n",
              "      <td>23.0</td>\n",
              "      <td>48.0</td>\n",
              "      <td>100</td>\n",
              "      <td>180</td>\n",
              "      <td>0</td>\n",
              "      <td>588867.333333</td>\n",
              "      <td>0.500000</td>\n",
              "      <td>588867.333333</td>\n",
              "    </tr>\n",
              "    <tr>\n",
              "      <th>8345</th>\n",
              "      <td>PG</td>\n",
              "      <td>4</td>\n",
              "      <td>62</td>\n",
              "      <td>0.442</td>\n",
              "      <td>0.225</td>\n",
              "      <td>0.165</td>\n",
              "      <td>5.4</td>\n",
              "      <td>6.1</td>\n",
              "      <td>29.3</td>\n",
              "      <td>3.2</td>\n",
              "      <td>...</td>\n",
              "      <td>259</td>\n",
              "      <td>75.0</td>\n",
              "      <td>1.0</td>\n",
              "      <td>95.0</td>\n",
              "      <td>110</td>\n",
              "      <td>299</td>\n",
              "      <td>0</td>\n",
              "      <td>588867.333333</td>\n",
              "      <td>0.451220</td>\n",
              "      <td>588867.333333</td>\n",
              "    </tr>\n",
              "    <tr>\n",
              "      <th>8346</th>\n",
              "      <td>SG</td>\n",
              "      <td>2</td>\n",
              "      <td>64</td>\n",
              "      <td>0.518</td>\n",
              "      <td>0.009</td>\n",
              "      <td>0.291</td>\n",
              "      <td>4.8</td>\n",
              "      <td>6.3</td>\n",
              "      <td>12.8</td>\n",
              "      <td>2.4</td>\n",
              "      <td>...</td>\n",
              "      <td>95</td>\n",
              "      <td>59.0</td>\n",
              "      <td>19.0</td>\n",
              "      <td>96.0</td>\n",
              "      <td>132</td>\n",
              "      <td>546</td>\n",
              "      <td>0</td>\n",
              "      <td>588867.333333</td>\n",
              "      <td>0.414634</td>\n",
              "      <td>588867.333333</td>\n",
              "    </tr>\n",
              "    <tr>\n",
              "      <th>8347</th>\n",
              "      <td>SG</td>\n",
              "      <td>5</td>\n",
              "      <td>68</td>\n",
              "      <td>0.544</td>\n",
              "      <td>0.016</td>\n",
              "      <td>0.488</td>\n",
              "      <td>5.2</td>\n",
              "      <td>5.0</td>\n",
              "      <td>18.0</td>\n",
              "      <td>1.5</td>\n",
              "      <td>...</td>\n",
              "      <td>283</td>\n",
              "      <td>81.0</td>\n",
              "      <td>32.0</td>\n",
              "      <td>228.0</td>\n",
              "      <td>195</td>\n",
              "      <td>2055</td>\n",
              "      <td>0</td>\n",
              "      <td>588867.333333</td>\n",
              "      <td>0.426829</td>\n",
              "      <td>588867.333333</td>\n",
              "    </tr>\n",
              "  </tbody>\n",
              "</table>\n",
              "<p>21129 rows × 34 columns</p>\n",
              "</div>\n",
              "      <button class=\"colab-df-convert\" onclick=\"convertToInteractive('df-02a84ba4-2573-40ae-8323-0cea3b46bcb0')\"\n",
              "              title=\"Convert this dataframe to an interactive table.\"\n",
              "              style=\"display:none;\">\n",
              "        \n",
              "  <svg xmlns=\"http://www.w3.org/2000/svg\" height=\"24px\"viewBox=\"0 0 24 24\"\n",
              "       width=\"24px\">\n",
              "    <path d=\"M0 0h24v24H0V0z\" fill=\"none\"/>\n",
              "    <path d=\"M18.56 5.44l.94 2.06.94-2.06 2.06-.94-2.06-.94-.94-2.06-.94 2.06-2.06.94zm-11 1L8.5 8.5l.94-2.06 2.06-.94-2.06-.94L8.5 2.5l-.94 2.06-2.06.94zm10 10l.94 2.06.94-2.06 2.06-.94-2.06-.94-.94-2.06-.94 2.06-2.06.94z\"/><path d=\"M17.41 7.96l-1.37-1.37c-.4-.4-.92-.59-1.43-.59-.52 0-1.04.2-1.43.59L10.3 9.45l-7.72 7.72c-.78.78-.78 2.05 0 2.83L4 21.41c.39.39.9.59 1.41.59.51 0 1.02-.2 1.41-.59l7.78-7.78 2.81-2.81c.8-.78.8-2.07 0-2.86zM5.41 20L4 18.59l7.72-7.72 1.47 1.35L5.41 20z\"/>\n",
              "  </svg>\n",
              "      </button>\n",
              "      \n",
              "  <style>\n",
              "    .colab-df-container {\n",
              "      display:flex;\n",
              "      flex-wrap:wrap;\n",
              "      gap: 12px;\n",
              "    }\n",
              "\n",
              "    .colab-df-convert {\n",
              "      background-color: #E8F0FE;\n",
              "      border: none;\n",
              "      border-radius: 50%;\n",
              "      cursor: pointer;\n",
              "      display: none;\n",
              "      fill: #1967D2;\n",
              "      height: 32px;\n",
              "      padding: 0 0 0 0;\n",
              "      width: 32px;\n",
              "    }\n",
              "\n",
              "    .colab-df-convert:hover {\n",
              "      background-color: #E2EBFA;\n",
              "      box-shadow: 0px 1px 2px rgba(60, 64, 67, 0.3), 0px 1px 3px 1px rgba(60, 64, 67, 0.15);\n",
              "      fill: #174EA6;\n",
              "    }\n",
              "\n",
              "    [theme=dark] .colab-df-convert {\n",
              "      background-color: #3B4455;\n",
              "      fill: #D2E3FC;\n",
              "    }\n",
              "\n",
              "    [theme=dark] .colab-df-convert:hover {\n",
              "      background-color: #434B5C;\n",
              "      box-shadow: 0px 1px 3px 1px rgba(0, 0, 0, 0.15);\n",
              "      filter: drop-shadow(0px 1px 2px rgba(0, 0, 0, 0.3));\n",
              "      fill: #FFFFFF;\n",
              "    }\n",
              "  </style>\n",
              "\n",
              "      <script>\n",
              "        const buttonEl =\n",
              "          document.querySelector('#df-02a84ba4-2573-40ae-8323-0cea3b46bcb0 button.colab-df-convert');\n",
              "        buttonEl.style.display =\n",
              "          google.colab.kernel.accessAllowed ? 'block' : 'none';\n",
              "\n",
              "        async function convertToInteractive(key) {\n",
              "          const element = document.querySelector('#df-02a84ba4-2573-40ae-8323-0cea3b46bcb0');\n",
              "          const dataTable =\n",
              "            await google.colab.kernel.invokeFunction('convertToInteractive',\n",
              "                                                     [key], {});\n",
              "          if (!dataTable) return;\n",
              "\n",
              "          const docLinkHtml = 'Like what you see? Visit the ' +\n",
              "            '<a target=\"_blank\" href=https://colab.research.google.com/notebooks/data_table.ipynb>data table notebook</a>'\n",
              "            + ' to learn more about interactive tables.';\n",
              "          element.innerHTML = '';\n",
              "          dataTable['output_type'] = 'display_data';\n",
              "          await google.colab.output.renderOutput(dataTable, element);\n",
              "          const docLink = document.createElement('div');\n",
              "          docLink.innerHTML = docLinkHtml;\n",
              "          element.appendChild(docLink);\n",
              "        }\n",
              "      </script>\n",
              "    </div>\n",
              "  </div>\n",
              "  "
            ]
          },
          "metadata": {},
          "execution_count": 5
        }
      ]
    },
    {
      "cell_type": "code",
      "source": [
        "# Check categories for position\n",
        "df['pos'].value_counts()"
      ],
      "metadata": {
        "colab": {
          "base_uri": "https://localhost:8080/"
        },
        "id": "-vIxUmJKbNAo",
        "outputId": "ebeb4d78-fd51-40b5-dc86-14525d5bdb84"
      },
      "execution_count": 6,
      "outputs": [
        {
          "output_type": "execute_result",
          "data": {
            "text/plain": [
              "PF          4384\n",
              "SG          4245\n",
              "C           4163\n",
              "PG          4149\n",
              "SF          3926\n",
              "SF-SG         40\n",
              "SG-SF         33\n",
              "PG-SG         33\n",
              "SG-PG         32\n",
              "PF-C          31\n",
              "C-PF          31\n",
              "PF-SF         31\n",
              "SF-PF         24\n",
              "SG-PF          4\n",
              "SG-PG-SF       1\n",
              "SF-C           1\n",
              "PG-SF          1\n",
              "Name: pos, dtype: int64"
            ]
          },
          "metadata": {},
          "execution_count": 6
        }
      ]
    },
    {
      "cell_type": "code",
      "source": [
        "# one_hot_encode position\n",
        "df = pd.get_dummies(df, columns=['pos'], prefix='Pos', drop_first=True)"
      ],
      "metadata": {
        "id": "XL6J5CpucZUE"
      },
      "execution_count": 7,
      "outputs": []
    },
    {
      "cell_type": "code",
      "source": [
        "df.head().T"
      ],
      "metadata": {
        "colab": {
          "base_uri": "https://localhost:8080/",
          "height": 1000
        },
        "id": "iZlJErEEcrDe",
        "outputId": "bcda1056-9806-4b44-ef99-a8d966ae24b0"
      },
      "execution_count": 8,
      "outputs": [
        {
          "output_type": "execute_result",
          "data": {
            "text/plain": [
              "                             0              1              2              3  \\\n",
              "seas_id           29646.000000   29647.000000   29648.000000   29649.000000   \n",
              "experience            8.000000       1.000000       4.000000       4.000000   \n",
              "g                    75.000000       6.000000      63.000000      41.000000   \n",
              "ts_percent            0.602000       0.200000       0.544000       0.547000   \n",
              "x3p_ar                0.312000       0.200000       0.305000       0.313000   \n",
              "f_tr                  0.276000       0.000000       0.201000       0.164000   \n",
              "orb_percent           6.100000       0.000000       2.600000       1.500000   \n",
              "trb_percent          10.300000       3.300000       6.500000       5.600000   \n",
              "ast_percent          11.600000       0.000000      20.700000      17.100000   \n",
              "stl_percent           0.900000       0.000000       2.000000       1.800000   \n",
              "blk_percent           1.700000      10.600000       0.700000       1.200000   \n",
              "tov_percent          12.500000      28.600000      15.400000      14.500000   \n",
              "usg_percent          19.700000      18.500000      18.700000      18.000000   \n",
              "dws                   2.000000       0.000000       0.900000       0.400000   \n",
              "ws_48                 0.105000      -0.306000       0.068000       0.038000   \n",
              "obpm                  0.500000     -14.000000      -1.900000      -2.400000   \n",
              "dbpm                 -1.100000      -2.400000       0.300000       0.300000   \n",
              "vorp                  0.900000      -0.100000       0.100000       0.000000   \n",
              "x3p                  87.000000       0.000000      39.000000      23.000000   \n",
              "x3p_percent           0.335000       0.000000       0.379000       0.343000   \n",
              "x2p_percent           0.605000       0.250000       0.477000       0.524000   \n",
              "ft                  171.000000       0.000000      59.000000      28.000000   \n",
              "ft_percent            0.743000       0.000000       0.868000       0.800000   \n",
              "trb                 439.000000       1.000000     122.000000      67.000000   \n",
              "ast                 188.000000       0.000000     153.000000      78.000000   \n",
              "stl                  44.000000       0.000000      42.000000      24.000000   \n",
              "blk                  44.000000       2.000000       9.000000       9.000000   \n",
              "tov                 133.000000       2.000000      67.000000      39.000000   \n",
              "pf                  148.000000       2.000000      92.000000      60.000000   \n",
              "pts                1126.000000       2.000000     400.000000     251.000000   \n",
              "all_star              0.000000       0.000000       0.000000       0.000000   \n",
              "attend           695262.000000  846867.000000  692948.753846  641499.000000   \n",
              "tm_win_percent        0.585366       0.621951       0.500000       0.426829   \n",
              "seas_avg_attend  692948.753846  692948.753846  692948.753846  692948.753846   \n",
              "Pos_C-PF              0.000000       0.000000       0.000000       0.000000   \n",
              "Pos_PF                1.000000       0.000000       0.000000       0.000000   \n",
              "Pos_PF-C              0.000000       0.000000       0.000000       0.000000   \n",
              "Pos_PF-SF             0.000000       0.000000       0.000000       0.000000   \n",
              "Pos_PG                0.000000       0.000000       1.000000       1.000000   \n",
              "Pos_PG-SF             0.000000       0.000000       0.000000       0.000000   \n",
              "Pos_PG-SG             0.000000       0.000000       0.000000       0.000000   \n",
              "Pos_SF                0.000000       1.000000       0.000000       0.000000   \n",
              "Pos_SF-C              0.000000       0.000000       0.000000       0.000000   \n",
              "Pos_SF-PF             0.000000       0.000000       0.000000       0.000000   \n",
              "Pos_SF-SG             0.000000       0.000000       0.000000       0.000000   \n",
              "Pos_SG                0.000000       0.000000       0.000000       0.000000   \n",
              "Pos_SG-PF             0.000000       0.000000       0.000000       0.000000   \n",
              "Pos_SG-PG             0.000000       0.000000       0.000000       0.000000   \n",
              "Pos_SG-PG-SF          0.000000       0.000000       0.000000       0.000000   \n",
              "Pos_SG-SF             0.000000       0.000000       0.000000       0.000000   \n",
              "\n",
              "                             4  \n",
              "seas_id           29650.000000  \n",
              "experience            4.000000  \n",
              "g                    22.000000  \n",
              "ts_percent            0.538000  \n",
              "x3p_ar                0.290000  \n",
              "f_tr                  0.266000  \n",
              "orb_percent           4.600000  \n",
              "trb_percent           8.200000  \n",
              "ast_percent          27.400000  \n",
              "stl_percent           2.400000  \n",
              "blk_percent           0.000000  \n",
              "tov_percent          16.800000  \n",
              "usg_percent          20.000000  \n",
              "dws                   0.500000  \n",
              "ws_48                 0.125000  \n",
              "obpm                 -1.000000  \n",
              "dbpm                  0.300000  \n",
              "vorp                  0.100000  \n",
              "x3p                  16.000000  \n",
              "x3p_percent           0.444000  \n",
              "x2p_percent           0.398000  \n",
              "ft                   31.000000  \n",
              "ft_percent            0.939000  \n",
              "trb                  55.000000  \n",
              "ast                  75.000000  \n",
              "stl                  18.000000  \n",
              "blk                   0.000000  \n",
              "tov                  28.000000  \n",
              "pf                   32.000000  \n",
              "pts                 149.000000  \n",
              "all_star              0.000000  \n",
              "attend           663171.000000  \n",
              "tm_win_percent        0.780488  \n",
              "seas_avg_attend  692948.753846  \n",
              "Pos_C-PF              0.000000  \n",
              "Pos_PF                0.000000  \n",
              "Pos_PF-C              0.000000  \n",
              "Pos_PF-SF             0.000000  \n",
              "Pos_PG                1.000000  \n",
              "Pos_PG-SF             0.000000  \n",
              "Pos_PG-SG             0.000000  \n",
              "Pos_SF                0.000000  \n",
              "Pos_SF-C              0.000000  \n",
              "Pos_SF-PF             0.000000  \n",
              "Pos_SF-SG             0.000000  \n",
              "Pos_SG                0.000000  \n",
              "Pos_SG-PF             0.000000  \n",
              "Pos_SG-PG             0.000000  \n",
              "Pos_SG-PG-SF          0.000000  \n",
              "Pos_SG-SF             0.000000  "
            ],
            "text/html": [
              "\n",
              "  <div id=\"df-8ae79b1d-ab9a-4303-95b5-e756bbbda0fa\">\n",
              "    <div class=\"colab-df-container\">\n",
              "      <div>\n",
              "<style scoped>\n",
              "    .dataframe tbody tr th:only-of-type {\n",
              "        vertical-align: middle;\n",
              "    }\n",
              "\n",
              "    .dataframe tbody tr th {\n",
              "        vertical-align: top;\n",
              "    }\n",
              "\n",
              "    .dataframe thead th {\n",
              "        text-align: right;\n",
              "    }\n",
              "</style>\n",
              "<table border=\"1\" class=\"dataframe\">\n",
              "  <thead>\n",
              "    <tr style=\"text-align: right;\">\n",
              "      <th></th>\n",
              "      <th>0</th>\n",
              "      <th>1</th>\n",
              "      <th>2</th>\n",
              "      <th>3</th>\n",
              "      <th>4</th>\n",
              "    </tr>\n",
              "  </thead>\n",
              "  <tbody>\n",
              "    <tr>\n",
              "      <th>seas_id</th>\n",
              "      <td>29646.000000</td>\n",
              "      <td>29647.000000</td>\n",
              "      <td>29648.000000</td>\n",
              "      <td>29649.000000</td>\n",
              "      <td>29650.000000</td>\n",
              "    </tr>\n",
              "    <tr>\n",
              "      <th>experience</th>\n",
              "      <td>8.000000</td>\n",
              "      <td>1.000000</td>\n",
              "      <td>4.000000</td>\n",
              "      <td>4.000000</td>\n",
              "      <td>4.000000</td>\n",
              "    </tr>\n",
              "    <tr>\n",
              "      <th>g</th>\n",
              "      <td>75.000000</td>\n",
              "      <td>6.000000</td>\n",
              "      <td>63.000000</td>\n",
              "      <td>41.000000</td>\n",
              "      <td>22.000000</td>\n",
              "    </tr>\n",
              "    <tr>\n",
              "      <th>ts_percent</th>\n",
              "      <td>0.602000</td>\n",
              "      <td>0.200000</td>\n",
              "      <td>0.544000</td>\n",
              "      <td>0.547000</td>\n",
              "      <td>0.538000</td>\n",
              "    </tr>\n",
              "    <tr>\n",
              "      <th>x3p_ar</th>\n",
              "      <td>0.312000</td>\n",
              "      <td>0.200000</td>\n",
              "      <td>0.305000</td>\n",
              "      <td>0.313000</td>\n",
              "      <td>0.290000</td>\n",
              "    </tr>\n",
              "    <tr>\n",
              "      <th>f_tr</th>\n",
              "      <td>0.276000</td>\n",
              "      <td>0.000000</td>\n",
              "      <td>0.201000</td>\n",
              "      <td>0.164000</td>\n",
              "      <td>0.266000</td>\n",
              "    </tr>\n",
              "    <tr>\n",
              "      <th>orb_percent</th>\n",
              "      <td>6.100000</td>\n",
              "      <td>0.000000</td>\n",
              "      <td>2.600000</td>\n",
              "      <td>1.500000</td>\n",
              "      <td>4.600000</td>\n",
              "    </tr>\n",
              "    <tr>\n",
              "      <th>trb_percent</th>\n",
              "      <td>10.300000</td>\n",
              "      <td>3.300000</td>\n",
              "      <td>6.500000</td>\n",
              "      <td>5.600000</td>\n",
              "      <td>8.200000</td>\n",
              "    </tr>\n",
              "    <tr>\n",
              "      <th>ast_percent</th>\n",
              "      <td>11.600000</td>\n",
              "      <td>0.000000</td>\n",
              "      <td>20.700000</td>\n",
              "      <td>17.100000</td>\n",
              "      <td>27.400000</td>\n",
              "    </tr>\n",
              "    <tr>\n",
              "      <th>stl_percent</th>\n",
              "      <td>0.900000</td>\n",
              "      <td>0.000000</td>\n",
              "      <td>2.000000</td>\n",
              "      <td>1.800000</td>\n",
              "      <td>2.400000</td>\n",
              "    </tr>\n",
              "    <tr>\n",
              "      <th>blk_percent</th>\n",
              "      <td>1.700000</td>\n",
              "      <td>10.600000</td>\n",
              "      <td>0.700000</td>\n",
              "      <td>1.200000</td>\n",
              "      <td>0.000000</td>\n",
              "    </tr>\n",
              "    <tr>\n",
              "      <th>tov_percent</th>\n",
              "      <td>12.500000</td>\n",
              "      <td>28.600000</td>\n",
              "      <td>15.400000</td>\n",
              "      <td>14.500000</td>\n",
              "      <td>16.800000</td>\n",
              "    </tr>\n",
              "    <tr>\n",
              "      <th>usg_percent</th>\n",
              "      <td>19.700000</td>\n",
              "      <td>18.500000</td>\n",
              "      <td>18.700000</td>\n",
              "      <td>18.000000</td>\n",
              "      <td>20.000000</td>\n",
              "    </tr>\n",
              "    <tr>\n",
              "      <th>dws</th>\n",
              "      <td>2.000000</td>\n",
              "      <td>0.000000</td>\n",
              "      <td>0.900000</td>\n",
              "      <td>0.400000</td>\n",
              "      <td>0.500000</td>\n",
              "    </tr>\n",
              "    <tr>\n",
              "      <th>ws_48</th>\n",
              "      <td>0.105000</td>\n",
              "      <td>-0.306000</td>\n",
              "      <td>0.068000</td>\n",
              "      <td>0.038000</td>\n",
              "      <td>0.125000</td>\n",
              "    </tr>\n",
              "    <tr>\n",
              "      <th>obpm</th>\n",
              "      <td>0.500000</td>\n",
              "      <td>-14.000000</td>\n",
              "      <td>-1.900000</td>\n",
              "      <td>-2.400000</td>\n",
              "      <td>-1.000000</td>\n",
              "    </tr>\n",
              "    <tr>\n",
              "      <th>dbpm</th>\n",
              "      <td>-1.100000</td>\n",
              "      <td>-2.400000</td>\n",
              "      <td>0.300000</td>\n",
              "      <td>0.300000</td>\n",
              "      <td>0.300000</td>\n",
              "    </tr>\n",
              "    <tr>\n",
              "      <th>vorp</th>\n",
              "      <td>0.900000</td>\n",
              "      <td>-0.100000</td>\n",
              "      <td>0.100000</td>\n",
              "      <td>0.000000</td>\n",
              "      <td>0.100000</td>\n",
              "    </tr>\n",
              "    <tr>\n",
              "      <th>x3p</th>\n",
              "      <td>87.000000</td>\n",
              "      <td>0.000000</td>\n",
              "      <td>39.000000</td>\n",
              "      <td>23.000000</td>\n",
              "      <td>16.000000</td>\n",
              "    </tr>\n",
              "    <tr>\n",
              "      <th>x3p_percent</th>\n",
              "      <td>0.335000</td>\n",
              "      <td>0.000000</td>\n",
              "      <td>0.379000</td>\n",
              "      <td>0.343000</td>\n",
              "      <td>0.444000</td>\n",
              "    </tr>\n",
              "    <tr>\n",
              "      <th>x2p_percent</th>\n",
              "      <td>0.605000</td>\n",
              "      <td>0.250000</td>\n",
              "      <td>0.477000</td>\n",
              "      <td>0.524000</td>\n",
              "      <td>0.398000</td>\n",
              "    </tr>\n",
              "    <tr>\n",
              "      <th>ft</th>\n",
              "      <td>171.000000</td>\n",
              "      <td>0.000000</td>\n",
              "      <td>59.000000</td>\n",
              "      <td>28.000000</td>\n",
              "      <td>31.000000</td>\n",
              "    </tr>\n",
              "    <tr>\n",
              "      <th>ft_percent</th>\n",
              "      <td>0.743000</td>\n",
              "      <td>0.000000</td>\n",
              "      <td>0.868000</td>\n",
              "      <td>0.800000</td>\n",
              "      <td>0.939000</td>\n",
              "    </tr>\n",
              "    <tr>\n",
              "      <th>trb</th>\n",
              "      <td>439.000000</td>\n",
              "      <td>1.000000</td>\n",
              "      <td>122.000000</td>\n",
              "      <td>67.000000</td>\n",
              "      <td>55.000000</td>\n",
              "    </tr>\n",
              "    <tr>\n",
              "      <th>ast</th>\n",
              "      <td>188.000000</td>\n",
              "      <td>0.000000</td>\n",
              "      <td>153.000000</td>\n",
              "      <td>78.000000</td>\n",
              "      <td>75.000000</td>\n",
              "    </tr>\n",
              "    <tr>\n",
              "      <th>stl</th>\n",
              "      <td>44.000000</td>\n",
              "      <td>0.000000</td>\n",
              "      <td>42.000000</td>\n",
              "      <td>24.000000</td>\n",
              "      <td>18.000000</td>\n",
              "    </tr>\n",
              "    <tr>\n",
              "      <th>blk</th>\n",
              "      <td>44.000000</td>\n",
              "      <td>2.000000</td>\n",
              "      <td>9.000000</td>\n",
              "      <td>9.000000</td>\n",
              "      <td>0.000000</td>\n",
              "    </tr>\n",
              "    <tr>\n",
              "      <th>tov</th>\n",
              "      <td>133.000000</td>\n",
              "      <td>2.000000</td>\n",
              "      <td>67.000000</td>\n",
              "      <td>39.000000</td>\n",
              "      <td>28.000000</td>\n",
              "    </tr>\n",
              "    <tr>\n",
              "      <th>pf</th>\n",
              "      <td>148.000000</td>\n",
              "      <td>2.000000</td>\n",
              "      <td>92.000000</td>\n",
              "      <td>60.000000</td>\n",
              "      <td>32.000000</td>\n",
              "    </tr>\n",
              "    <tr>\n",
              "      <th>pts</th>\n",
              "      <td>1126.000000</td>\n",
              "      <td>2.000000</td>\n",
              "      <td>400.000000</td>\n",
              "      <td>251.000000</td>\n",
              "      <td>149.000000</td>\n",
              "    </tr>\n",
              "    <tr>\n",
              "      <th>all_star</th>\n",
              "      <td>0.000000</td>\n",
              "      <td>0.000000</td>\n",
              "      <td>0.000000</td>\n",
              "      <td>0.000000</td>\n",
              "      <td>0.000000</td>\n",
              "    </tr>\n",
              "    <tr>\n",
              "      <th>attend</th>\n",
              "      <td>695262.000000</td>\n",
              "      <td>846867.000000</td>\n",
              "      <td>692948.753846</td>\n",
              "      <td>641499.000000</td>\n",
              "      <td>663171.000000</td>\n",
              "    </tr>\n",
              "    <tr>\n",
              "      <th>tm_win_percent</th>\n",
              "      <td>0.585366</td>\n",
              "      <td>0.621951</td>\n",
              "      <td>0.500000</td>\n",
              "      <td>0.426829</td>\n",
              "      <td>0.780488</td>\n",
              "    </tr>\n",
              "    <tr>\n",
              "      <th>seas_avg_attend</th>\n",
              "      <td>692948.753846</td>\n",
              "      <td>692948.753846</td>\n",
              "      <td>692948.753846</td>\n",
              "      <td>692948.753846</td>\n",
              "      <td>692948.753846</td>\n",
              "    </tr>\n",
              "    <tr>\n",
              "      <th>Pos_C-PF</th>\n",
              "      <td>0.000000</td>\n",
              "      <td>0.000000</td>\n",
              "      <td>0.000000</td>\n",
              "      <td>0.000000</td>\n",
              "      <td>0.000000</td>\n",
              "    </tr>\n",
              "    <tr>\n",
              "      <th>Pos_PF</th>\n",
              "      <td>1.000000</td>\n",
              "      <td>0.000000</td>\n",
              "      <td>0.000000</td>\n",
              "      <td>0.000000</td>\n",
              "      <td>0.000000</td>\n",
              "    </tr>\n",
              "    <tr>\n",
              "      <th>Pos_PF-C</th>\n",
              "      <td>0.000000</td>\n",
              "      <td>0.000000</td>\n",
              "      <td>0.000000</td>\n",
              "      <td>0.000000</td>\n",
              "      <td>0.000000</td>\n",
              "    </tr>\n",
              "    <tr>\n",
              "      <th>Pos_PF-SF</th>\n",
              "      <td>0.000000</td>\n",
              "      <td>0.000000</td>\n",
              "      <td>0.000000</td>\n",
              "      <td>0.000000</td>\n",
              "      <td>0.000000</td>\n",
              "    </tr>\n",
              "    <tr>\n",
              "      <th>Pos_PG</th>\n",
              "      <td>0.000000</td>\n",
              "      <td>0.000000</td>\n",
              "      <td>1.000000</td>\n",
              "      <td>1.000000</td>\n",
              "      <td>1.000000</td>\n",
              "    </tr>\n",
              "    <tr>\n",
              "      <th>Pos_PG-SF</th>\n",
              "      <td>0.000000</td>\n",
              "      <td>0.000000</td>\n",
              "      <td>0.000000</td>\n",
              "      <td>0.000000</td>\n",
              "      <td>0.000000</td>\n",
              "    </tr>\n",
              "    <tr>\n",
              "      <th>Pos_PG-SG</th>\n",
              "      <td>0.000000</td>\n",
              "      <td>0.000000</td>\n",
              "      <td>0.000000</td>\n",
              "      <td>0.000000</td>\n",
              "      <td>0.000000</td>\n",
              "    </tr>\n",
              "    <tr>\n",
              "      <th>Pos_SF</th>\n",
              "      <td>0.000000</td>\n",
              "      <td>1.000000</td>\n",
              "      <td>0.000000</td>\n",
              "      <td>0.000000</td>\n",
              "      <td>0.000000</td>\n",
              "    </tr>\n",
              "    <tr>\n",
              "      <th>Pos_SF-C</th>\n",
              "      <td>0.000000</td>\n",
              "      <td>0.000000</td>\n",
              "      <td>0.000000</td>\n",
              "      <td>0.000000</td>\n",
              "      <td>0.000000</td>\n",
              "    </tr>\n",
              "    <tr>\n",
              "      <th>Pos_SF-PF</th>\n",
              "      <td>0.000000</td>\n",
              "      <td>0.000000</td>\n",
              "      <td>0.000000</td>\n",
              "      <td>0.000000</td>\n",
              "      <td>0.000000</td>\n",
              "    </tr>\n",
              "    <tr>\n",
              "      <th>Pos_SF-SG</th>\n",
              "      <td>0.000000</td>\n",
              "      <td>0.000000</td>\n",
              "      <td>0.000000</td>\n",
              "      <td>0.000000</td>\n",
              "      <td>0.000000</td>\n",
              "    </tr>\n",
              "    <tr>\n",
              "      <th>Pos_SG</th>\n",
              "      <td>0.000000</td>\n",
              "      <td>0.000000</td>\n",
              "      <td>0.000000</td>\n",
              "      <td>0.000000</td>\n",
              "      <td>0.000000</td>\n",
              "    </tr>\n",
              "    <tr>\n",
              "      <th>Pos_SG-PF</th>\n",
              "      <td>0.000000</td>\n",
              "      <td>0.000000</td>\n",
              "      <td>0.000000</td>\n",
              "      <td>0.000000</td>\n",
              "      <td>0.000000</td>\n",
              "    </tr>\n",
              "    <tr>\n",
              "      <th>Pos_SG-PG</th>\n",
              "      <td>0.000000</td>\n",
              "      <td>0.000000</td>\n",
              "      <td>0.000000</td>\n",
              "      <td>0.000000</td>\n",
              "      <td>0.000000</td>\n",
              "    </tr>\n",
              "    <tr>\n",
              "      <th>Pos_SG-PG-SF</th>\n",
              "      <td>0.000000</td>\n",
              "      <td>0.000000</td>\n",
              "      <td>0.000000</td>\n",
              "      <td>0.000000</td>\n",
              "      <td>0.000000</td>\n",
              "    </tr>\n",
              "    <tr>\n",
              "      <th>Pos_SG-SF</th>\n",
              "      <td>0.000000</td>\n",
              "      <td>0.000000</td>\n",
              "      <td>0.000000</td>\n",
              "      <td>0.000000</td>\n",
              "      <td>0.000000</td>\n",
              "    </tr>\n",
              "  </tbody>\n",
              "</table>\n",
              "</div>\n",
              "      <button class=\"colab-df-convert\" onclick=\"convertToInteractive('df-8ae79b1d-ab9a-4303-95b5-e756bbbda0fa')\"\n",
              "              title=\"Convert this dataframe to an interactive table.\"\n",
              "              style=\"display:none;\">\n",
              "        \n",
              "  <svg xmlns=\"http://www.w3.org/2000/svg\" height=\"24px\"viewBox=\"0 0 24 24\"\n",
              "       width=\"24px\">\n",
              "    <path d=\"M0 0h24v24H0V0z\" fill=\"none\"/>\n",
              "    <path d=\"M18.56 5.44l.94 2.06.94-2.06 2.06-.94-2.06-.94-.94-2.06-.94 2.06-2.06.94zm-11 1L8.5 8.5l.94-2.06 2.06-.94-2.06-.94L8.5 2.5l-.94 2.06-2.06.94zm10 10l.94 2.06.94-2.06 2.06-.94-2.06-.94-.94-2.06-.94 2.06-2.06.94z\"/><path d=\"M17.41 7.96l-1.37-1.37c-.4-.4-.92-.59-1.43-.59-.52 0-1.04.2-1.43.59L10.3 9.45l-7.72 7.72c-.78.78-.78 2.05 0 2.83L4 21.41c.39.39.9.59 1.41.59.51 0 1.02-.2 1.41-.59l7.78-7.78 2.81-2.81c.8-.78.8-2.07 0-2.86zM5.41 20L4 18.59l7.72-7.72 1.47 1.35L5.41 20z\"/>\n",
              "  </svg>\n",
              "      </button>\n",
              "      \n",
              "  <style>\n",
              "    .colab-df-container {\n",
              "      display:flex;\n",
              "      flex-wrap:wrap;\n",
              "      gap: 12px;\n",
              "    }\n",
              "\n",
              "    .colab-df-convert {\n",
              "      background-color: #E8F0FE;\n",
              "      border: none;\n",
              "      border-radius: 50%;\n",
              "      cursor: pointer;\n",
              "      display: none;\n",
              "      fill: #1967D2;\n",
              "      height: 32px;\n",
              "      padding: 0 0 0 0;\n",
              "      width: 32px;\n",
              "    }\n",
              "\n",
              "    .colab-df-convert:hover {\n",
              "      background-color: #E2EBFA;\n",
              "      box-shadow: 0px 1px 2px rgba(60, 64, 67, 0.3), 0px 1px 3px 1px rgba(60, 64, 67, 0.15);\n",
              "      fill: #174EA6;\n",
              "    }\n",
              "\n",
              "    [theme=dark] .colab-df-convert {\n",
              "      background-color: #3B4455;\n",
              "      fill: #D2E3FC;\n",
              "    }\n",
              "\n",
              "    [theme=dark] .colab-df-convert:hover {\n",
              "      background-color: #434B5C;\n",
              "      box-shadow: 0px 1px 3px 1px rgba(0, 0, 0, 0.15);\n",
              "      filter: drop-shadow(0px 1px 2px rgba(0, 0, 0, 0.3));\n",
              "      fill: #FFFFFF;\n",
              "    }\n",
              "  </style>\n",
              "\n",
              "      <script>\n",
              "        const buttonEl =\n",
              "          document.querySelector('#df-8ae79b1d-ab9a-4303-95b5-e756bbbda0fa button.colab-df-convert');\n",
              "        buttonEl.style.display =\n",
              "          google.colab.kernel.accessAllowed ? 'block' : 'none';\n",
              "\n",
              "        async function convertToInteractive(key) {\n",
              "          const element = document.querySelector('#df-8ae79b1d-ab9a-4303-95b5-e756bbbda0fa');\n",
              "          const dataTable =\n",
              "            await google.colab.kernel.invokeFunction('convertToInteractive',\n",
              "                                                     [key], {});\n",
              "          if (!dataTable) return;\n",
              "\n",
              "          const docLinkHtml = 'Like what you see? Visit the ' +\n",
              "            '<a target=\"_blank\" href=https://colab.research.google.com/notebooks/data_table.ipynb>data table notebook</a>'\n",
              "            + ' to learn more about interactive tables.';\n",
              "          element.innerHTML = '';\n",
              "          dataTable['output_type'] = 'display_data';\n",
              "          await google.colab.output.renderOutput(dataTable, element);\n",
              "          const docLink = document.createElement('div');\n",
              "          docLink.innerHTML = docLinkHtml;\n",
              "          element.appendChild(docLink);\n",
              "        }\n",
              "      </script>\n",
              "    </div>\n",
              "  </div>\n",
              "  "
            ]
          },
          "metadata": {},
          "execution_count": 8
        }
      ]
    },
    {
      "cell_type": "markdown",
      "source": [
        "Split into Train and Test sets"
      ],
      "metadata": {
        "id": "ZQWFSA-IfpEe"
      }
    },
    {
      "cell_type": "code",
      "source": [
        "# Create train_test_split\n",
        "X=df.loc[:, df.columns != 'all_star']\n",
        "y=df['all_star']\n",
        "X_train, X_test, y_train, y_test = train_test_split(X, y, test_size=.2, random_state=1)"
      ],
      "metadata": {
        "id": "frmZKju9fuPi"
      },
      "execution_count": 9,
      "outputs": []
    },
    {
      "cell_type": "markdown",
      "source": [
        "Standardize the data"
      ],
      "metadata": {
        "id": "MUIDk3jWfLBa"
      }
    },
    {
      "cell_type": "code",
      "source": [
        "# Instantiate StandardScaler\n",
        "scaler = StandardScaler()\n",
        "\n",
        "# Fit scaler to the training data\n",
        "scaler.fit(X_train)\n",
        "\n",
        "# Transform the train and test data\n",
        "X_train = scaler.transform(X_train)\n",
        "X_test = scaler.transform(X_test)"
      ],
      "metadata": {
        "id": "jbVUGpckfJMg"
      },
      "execution_count": 10,
      "outputs": []
    },
    {
      "cell_type": "markdown",
      "source": [
        "#Modeling goals:\n",
        "1. Review the types of models that would be appropriate given your modeling response and the features in your dataset.\n",
        "\n",
        "2. build two to three models and identify the best one.\n",
        "\n",
        "3. implement both an entropy model and a Gini impurity model.\n",
        "\n",
        "4. For hyperparameter tuning, think of methods like cross-validation\n",
        "\n",
        "5. use standard model evaluation metrics such as accuracy, recall, precision, and F1."
      ],
      "metadata": {
        "id": "poEo1Sum6ht4"
      }
    },
    {
      "cell_type": "code",
      "source": [
        "import numpy as np\n",
        "from matplotlib import pyplot as plt\n",
        "from sklearn.metrics import precision_recall_curve\n",
        "from sklearn.metrics import f1_score\n",
        "from sklearn.metrics import auc\n",
        "from sklearn.metrics import classification_report,confusion_matrix,roc_curve,roc_auc_score\n",
        "from sklearn.metrics import accuracy_score,log_loss\n",
        "from sklearn.metrics import precision_score\n",
        "from sklearn.ensemble import RandomForestClassifier"
      ],
      "metadata": {
        "id": "jhOIklsy6g6y"
      },
      "execution_count": 11,
      "outputs": []
    },
    {
      "cell_type": "code",
      "source": [
        "# create function to output classification reports and confusion matrixes\n",
        "from sklearn.metrics import ConfusionMatrixDisplay\n",
        "from sklearn.metrics import classification_report\n",
        "\n",
        "def report(model):\n",
        "    y_pred = model.predict(X_test)\n",
        "    print(classification_report(y_test, y_pred))\n",
        "    cm = confusion_matrix(y_test, y_pred)\n",
        "    display = ConfusionMatrixDisplay(confusion_matrix=cm, display_labels=model.classes_)\n",
        "    display.plot()\n",
        "    plt.show()"
      ],
      "metadata": {
        "id": "_7eyPSlSITqt"
      },
      "execution_count": 17,
      "outputs": []
    },
    {
      "cell_type": "code",
      "source": [
        "# this is a basic RandomForestClassifier attempt with no tuning\n",
        "basic_RFC = RandomForestClassifier(n_estimators=300, random_state = 1,n_jobs=-1)\n",
        "basic_RFC.fit(X_train, y_train)\n",
        "\n",
        "print(\"BASIC RANDOM FOREST CLASSIFIER\")\n",
        "report(basic_RFC)"
      ],
      "metadata": {
        "colab": {
          "base_uri": "https://localhost:8080/",
          "height": 623
        },
        "id": "rbNO1h3S6u26",
        "outputId": "938731af-9a32-4ebd-ac94-fe4b4bf1fb52"
      },
      "execution_count": 18,
      "outputs": [
        {
          "output_type": "stream",
          "name": "stdout",
          "text": [
            "BASIC RANDOM FOREST CLASSIFIER\n",
            "              precision    recall  f1-score   support\n",
            "\n",
            "           0       0.99      1.00      0.99      4122\n",
            "           1       0.80      0.74      0.77       104\n",
            "\n",
            "    accuracy                           0.99      4226\n",
            "   macro avg       0.90      0.87      0.88      4226\n",
            "weighted avg       0.99      0.99      0.99      4226\n",
            "\n"
          ]
        },
        {
          "output_type": "display_data",
          "data": {
            "text/plain": [
              "<Figure size 640x480 with 2 Axes>"
            ],
            "image/png": "[encoded data removed]"
          },
          "metadata": {}
        }
      ]
    },
    {
      "cell_type": "code",
      "source": [
        "# Using RandomSearchCV to tune hyperparameters for RandomForestClassifier\n",
        "# Took example from here: https://towardsdatascience.com/hyperparameter-tuning-the-random-forest-in-python-using-scikit-learn-28d2aa77dd74\n",
        "\n",
        "from sklearn.model_selection import RandomizedSearchCV\n",
        "# Number of trees in random forest\n",
        "n_estimators = [int(x) for x in np.linspace(start = 200, stop = 2000, num = 10)]\n",
        "# Number of features to consider at every split\n",
        "max_features = ['auto', 'sqrt']\n",
        "# Maximum number of levels in tree\n",
        "max_depth = [int(x) for x in np.linspace(10, 110, num = 11)]\n",
        "max_depth.append(None)\n",
        "# Minimum number of samples required to split a node\n",
        "min_samples_split = [2, 5, 10]\n",
        "# Minimum number of samples required at each leaf node\n",
        "min_samples_leaf = [1, 2, 4]\n",
        "# Method of selecting samples for training each tree\n",
        "bootstrap = [True, False]\n",
        "# Create the random grid\n",
        "random_grid = {'n_estimators': n_estimators,\n",
        "               'max_features': max_features,\n",
        "               'max_depth': max_depth,\n",
        "               'min_samples_split': min_samples_split,\n",
        "               'min_samples_leaf': min_samples_leaf,\n",
        "               'bootstrap': bootstrap}"
      ],
      "metadata": {
        "id": "1lFfxX6t-N5v"
      },
      "execution_count": 19,
      "outputs": []
    },
    {
      "cell_type": "code",
      "source": [
        "# Use the random grid to search for best hyperparameters (takes 56 min)\n",
        "# First create the base model to tune\n",
        "rf = RandomForestClassifier()\n",
        "# Random search of parameters, using 3 fold cross validation, \n",
        "# search across 100 different combinations, and use all available cores\n",
        "# A note from my mentor: n_iter argument (100 is too high, maybe 50)\n",
        "RFC_random = RandomizedSearchCV(estimator = rf, param_distributions = random_grid, n_iter = 50, cv = 3, verbose=2, random_state=42, n_jobs = -1)\n",
        "# Fit the random search model\n",
        "RFC_random.fit(X_train, y_train)"
      ],
      "metadata": {
        "colab": {
          "base_uri": "https://localhost:8080/",
          "height": 133
        },
        "id": "zOHGAXUr_dBG",
        "outputId": "fd38ce43-71ea-4bb7-8f8c-bd611cd92fcb"
      },
      "execution_count": 20,
      "outputs": [
        {
          "output_type": "stream",
          "name": "stdout",
          "text": [
            "Fitting 3 folds for each of 50 candidates, totalling 150 fits\n"
          ]
        },
        {
          "output_type": "execute_result",
          "data": {
            "text/plain": [
              "RandomizedSearchCV(cv=3, estimator=RandomForestClassifier(), n_iter=50,\n",
              "                   n_jobs=-1,\n",
              "                   param_distributions={'bootstrap': [True, False],\n",
              "                                        'max_depth': [10, 20, 30, 40, 50, 60,\n",
              "                                                      70, 80, 90, 100, 110,\n",
              "                                                      None],\n",
              "                                        'max_features': ['auto', 'sqrt'],\n",
              "                                        'min_samples_leaf': [1, 2, 4],\n",
              "                                        'min_samples_split': [2, 5, 10],\n",
              "                                        'n_estimators': [200, 400, 600, 800,\n",
              "                                                         1000, 1200, 1400, 1600,\n",
              "                                                         1800, 2000]},\n",
              "                   random_state=42, verbose=2)"
            ],
            "text/html": [
              "<style>#sk-container-id-2 {color: black;background-color: white;}#sk-container-id-2 pre{padding: 0;}#sk-container-id-2 div.sk-toggleable {background-color: white;}#sk-container-id-2 label.sk-toggleable__label {cursor: pointer;display: block;width: 100%;margin-bottom: 0;padding: 0.3em;box-sizing: border-box;text-align: center;}#sk-container-id-2 label.sk-toggleable__label-arrow:before {content: \"▸\";float: left;margin-right: 0.25em;color: #696969;}#sk-container-id-2 label.sk-toggleable__label-arrow:hover:before {color: black;}#sk-container-id-2 div.sk-estimator:hover label.sk-toggleable__label-arrow:before {color: black;}#sk-container-id-2 div.sk-toggleable__content {max-height: 0;max-width: 0;overflow: hidden;text-align: left;background-color: #f0f8ff;}#sk-container-id-2 div.sk-toggleable__content pre {margin: 0.2em;color: black;border-radius: 0.25em;background-color: #f0f8ff;}#sk-container-id-2 input.sk-toggleable__control:checked~div.sk-toggleable__content {max-height: 200px;max-width: 100%;overflow: auto;}#sk-container-id-2 input.sk-toggleable__control:checked~label.sk-toggleable__label-arrow:before {content: \"▾\";}#sk-container-id-2 div.sk-estimator input.sk-toggleable__control:checked~label.sk-toggleable__label {background-color: #d4ebff;}#sk-container-id-2 div.sk-label input.sk-toggleable__control:checked~label.sk-toggleable__label {background-color: #d4ebff;}#sk-container-id-2 input.sk-hidden--visually {border: 0;clip: rect(1px 1px 1px 1px);clip: rect(1px, 1px, 1px, 1px);height: 1px;margin: -1px;overflow: hidden;padding: 0;position: absolute;width: 1px;}#sk-container-id-2 div.sk-estimator {font-family: monospace;background-color: #f0f8ff;border: 1px dotted black;border-radius: 0.25em;box-sizing: border-box;margin-bottom: 0.5em;}#sk-container-id-2 div.sk-estimator:hover {background-color: #d4ebff;}#sk-container-id-2 div.sk-parallel-item::after {content: \"\";width: 100%;border-bottom: 1px solid gray;flex-grow: 1;}#sk-container-id-2 div.sk-label:hover label.sk-toggleable__label {background-color: #d4ebff;}#sk-container-id-2 div.sk-serial::before {content: \"\";position: absolute;border-left: 1px solid gray;box-sizing: border-box;top: 0;bottom: 0;left: 50%;z-index: 0;}#sk-container-id-2 div.sk-serial {display: flex;flex-direction: column;align-items: center;background-color: white;padding-right: 0.2em;padding-left: 0.2em;position: relative;}#sk-container-id-2 div.sk-item {position: relative;z-index: 1;}#sk-container-id-2 div.sk-parallel {display: flex;align-items: stretch;justify-content: center;background-color: white;position: relative;}#sk-container-id-2 div.sk-item::before, #sk-container-id-2 div.sk-parallel-item::before {content: \"\";position: absolute;border-left: 1px solid gray;box-sizing: border-box;top: 0;bottom: 0;left: 50%;z-index: -1;}#sk-container-id-2 div.sk-parallel-item {display: flex;flex-direction: column;z-index: 1;position: relative;background-color: white;}#sk-container-id-2 div.sk-parallel-item:first-child::after {align-self: flex-end;width: 50%;}#sk-container-id-2 div.sk-parallel-item:last-child::after {align-self: flex-start;width: 50%;}#sk-container-id-2 div.sk-parallel-item:only-child::after {width: 0;}#sk-container-id-2 div.sk-dashed-wrapped {border: 1px dashed gray;margin: 0 0.4em 0.5em 0.4em;box-sizing: border-box;padding-bottom: 0.4em;background-color: white;}#sk-container-id-2 div.sk-label label {font-family: monospace;font-weight: bold;display: inline-block;line-height: 1.2em;}#sk-container-id-2 div.sk-label-container {text-align: center;}#sk-container-id-2 div.sk-container {/* jupyter's `normalize.less` sets `[hidden] { display: none; }` but bootstrap.min.css set `[hidden] { display: none !important; }` so we also need the `!important` here to be able to override the default hidden behavior on the sphinx rendered scikit-learn.org. See: https://github.com/scikit-learn/scikit-learn/issues/21755 */display: inline-block !important;position: relative;}#sk-container-id-2 div.sk-text-repr-fallback {display: none;}</style><div id=\"sk-container-id-2\" class=\"sk-top-container\"><div class=\"sk-text-repr-fallback\"><pre>RandomizedSearchCV(cv=3, estimator=RandomForestClassifier(), n_iter=50,\n",
              "                   n_jobs=-1,\n",
              "                   param_distributions={&#x27;bootstrap&#x27;: [True, False],\n",
              "                                        &#x27;max_depth&#x27;: [10, 20, 30, 40, 50, 60,\n",
              "                                                      70, 80, 90, 100, 110,\n",
              "                                                      None],\n",
              "                                        &#x27;max_features&#x27;: [&#x27;auto&#x27;, &#x27;sqrt&#x27;],\n",
              "                                        &#x27;min_samples_leaf&#x27;: [1, 2, 4],\n",
              "                                        &#x27;min_samples_split&#x27;: [2, 5, 10],\n",
              "                                        &#x27;n_estimators&#x27;: [200, 400, 600, 800,\n",
              "                                                         1000, 1200, 1400, 1600,\n",
              "                                                         1800, 2000]},\n",
              "                   random_state=42, verbose=2)</pre><b>In a Jupyter environment, please rerun this cell to show the HTML representation or trust the notebook. <br />On GitHub, the HTML representation is unable to render, please try loading this page with nbviewer.org.</b></div><div class=\"sk-container\" hidden><div class=\"sk-item sk-dashed-wrapped\"><div class=\"sk-label-container\"><div class=\"sk-label sk-toggleable\"><input class=\"sk-toggleable__control sk-hidden--visually\" id=\"sk-estimator-id-2\" type=\"checkbox\" ><label for=\"sk-estimator-id-2\" class=\"sk-toggleable__label sk-toggleable__label-arrow\">RandomizedSearchCV</label><div class=\"sk-toggleable__content\"><pre>RandomizedSearchCV(cv=3, estimator=RandomForestClassifier(), n_iter=50,\n",
              "                   n_jobs=-1,\n",
              "                   param_distributions={&#x27;bootstrap&#x27;: [True, False],\n",
              "                                        &#x27;max_depth&#x27;: [10, 20, 30, 40, 50, 60,\n",
              "                                                      70, 80, 90, 100, 110,\n",
              "                                                      None],\n",
              "                                        &#x27;max_features&#x27;: [&#x27;auto&#x27;, &#x27;sqrt&#x27;],\n",
              "                                        &#x27;min_samples_leaf&#x27;: [1, 2, 4],\n",
              "                                        &#x27;min_samples_split&#x27;: [2, 5, 10],\n",
              "                                        &#x27;n_estimators&#x27;: [200, 400, 600, 800,\n",
              "                                                         1000, 1200, 1400, 1600,\n",
              "                                                         1800, 2000]},\n",
              "                   random_state=42, verbose=2)</pre></div></div></div><div class=\"sk-parallel\"><div class=\"sk-parallel-item\"><div class=\"sk-item\"><div class=\"sk-label-container\"><div class=\"sk-label sk-toggleable\"><input class=\"sk-toggleable__control sk-hidden--visually\" id=\"sk-estimator-id-3\" type=\"checkbox\" ><label for=\"sk-estimator-id-3\" class=\"sk-toggleable__label sk-toggleable__label-arrow\">estimator: RandomForestClassifier</label><div class=\"sk-toggleable__content\"><pre>RandomForestClassifier()</pre></div></div></div><div class=\"sk-serial\"><div class=\"sk-item\"><div class=\"sk-estimator sk-toggleable\"><input class=\"sk-toggleable__control sk-hidden--visually\" id=\"sk-estimator-id-4\" type=\"checkbox\" ><label for=\"sk-estimator-id-4\" class=\"sk-toggleable__label sk-toggleable__label-arrow\">RandomForestClassifier</label><div class=\"sk-toggleable__content\"><pre>RandomForestClassifier()</pre></div></div></div></div></div></div></div></div></div></div>"
            ]
          },
          "metadata": {},
          "execution_count": 20
        }
      ]
    },
    {
      "cell_type": "code",
      "source": [
        "RFC_random.best_params_"
      ],
      "metadata": {
        "colab": {
          "base_uri": "https://localhost:8080/"
        },
        "id": "e8G45DGjAVPS",
        "outputId": "28d5ddf6-ea39-4aca-a8da-a161ba715953"
      },
      "execution_count": 22,
      "outputs": [
        {
          "output_type": "execute_result",
          "data": {
            "text/plain": [
              "{'n_estimators': 400,\n",
              " 'min_samples_split': 10,\n",
              " 'min_samples_leaf': 4,\n",
              " 'max_features': 'sqrt',\n",
              " 'max_depth': 80,\n",
              " 'bootstrap': False}"
            ]
          },
          "metadata": {},
          "execution_count": 22
        }
      ]
    },
    {
      "cell_type": "code",
      "source": [
        "# Run Random Forest Classifier with best hyperparameters\n",
        "tuned_RFC = RFC_random.best_estimator_\n",
        "tuned_RFC.fit(X_train, y_train)\n",
        "\n",
        "print(\"TUNED RANDOM FOREST CLASSIFIER\")\n",
        "report(tuned_RFC)"
      ],
      "metadata": {
        "colab": {
          "base_uri": "https://localhost:8080/",
          "height": 623
        },
        "id": "NdFlsiOgByA7",
        "outputId": "216a7541-5607-4fd1-dbd3-38bd4273de0c"
      },
      "execution_count": 23,
      "outputs": [
        {
          "output_type": "stream",
          "name": "stdout",
          "text": [
            "TUNED RANDOM FOREST CLASSIFIER\n",
            "              precision    recall  f1-score   support\n",
            "\n",
            "           0       0.99      1.00      0.99      4122\n",
            "           1       0.80      0.73      0.76       104\n",
            "\n",
            "    accuracy                           0.99      4226\n",
            "   macro avg       0.90      0.86      0.88      4226\n",
            "weighted avg       0.99      0.99      0.99      4226\n",
            "\n"
          ]
        },
        {
          "output_type": "display_data",
          "data": {
            "text/plain": [
              "<Figure size 640x480 with 2 Axes>"
            ],
            "image/png": "[encoded data removed]"
          },
          "metadata": {}
        }
      ]
    },
    {
      "cell_type": "code",
      "source": [
        "# These were best parameters from 100 n_iter randomsearchCV\n",
        "RFC3 = RandomForestClassifier(n_estimators=1400, random_state = 1,n_jobs=-1,\n",
        "                              min_samples_split= 2,\n",
        "                              min_samples_leaf= 4,\n",
        "                              max_features= 'sqrt',\n",
        "                              max_depth= 80,\n",
        "                              bootstrap= False)\n",
        "RFC3.fit(X_train, y_train)\n",
        "\n",
        "print(\"TUNED RANDOM FOREST CLASSIFIER\")\n",
        "report(RFC3)"
      ],
      "metadata": {
        "colab": {
          "base_uri": "https://localhost:8080/",
          "height": 623
        },
        "id": "svHR3el4jniA",
        "outputId": "7886f401-85e6-4f26-fd8f-b2b4957b25cf"
      },
      "execution_count": 25,
      "outputs": [
        {
          "output_type": "stream",
          "name": "stdout",
          "text": [
            "TUNED RANDOM FOREST CLASSIFIER\n",
            "              precision    recall  f1-score   support\n",
            "\n",
            "           0       0.99      1.00      0.99      4122\n",
            "           1       0.79      0.73      0.76       104\n",
            "\n",
            "    accuracy                           0.99      4226\n",
            "   macro avg       0.89      0.86      0.88      4226\n",
            "weighted avg       0.99      0.99      0.99      4226\n",
            "\n"
          ]
        },
        {
          "output_type": "display_data",
          "data": {
            "text/plain": [
              "<Figure size 640x480 with 2 Axes>"
            ],
            "image/png": "[encoded data removed]"
          },
          "metadata": {}
        }
      ]
    },
    {
      "cell_type": "code",
      "source": [
        "from sklearn.metrics import precision_recall_curve\n",
        "# y_pred, needs to be probability (check documentation)\n",
        "y_score = RFC3.predict_proba(X_test)[:,1]\n",
        "precision, recall, thresholds = precision_recall_curve(y_test, y_score)\n",
        "plt.fill_between(recall, precision)\n",
        "plt.ylabel(\"Precision\")\n",
        "plt.xlabel(\"Recall\")\n",
        "plt.title(\"Train Precision-Recall curve for Tuned RFC\");"
      ],
      "metadata": {
        "colab": {
          "base_uri": "https://localhost:8080/",
          "height": 472
        },
        "id": "ejfnzGaSlGy3",
        "outputId": "17adafb0-aa2d-428f-fae6-15af28048543"
      },
      "execution_count": 27,
      "outputs": [
        {
          "output_type": "display_data",
          "data": {
            "text/plain": [
              "<Figure size 640x480 with 1 Axes>"
            ],
            "image/png": "[encoded data removed]"
          },
          "metadata": {}
        }
      ]
    },
    {
      "cell_type": "markdown",
      "source": [
        "My next model will be Logistic Regression, but first I need to deal with class imbalance. I will refer to this article:\n",
        "\n",
        "https://heartbeat.comet.ml/dealing-with-imbalanced-data-226dc84589c8"
      ],
      "metadata": {
        "id": "pFfhUtJZEod3"
      }
    },
    {
      "cell_type": "code",
      "source": [
        "# Use SMOTE and Tomek to undersample non all-stars and oversample all-stars\n",
        "from imblearn.combine import SMOTETomek\n",
        "smt= SMOTETomek()\n",
        "X_res, y_res= smt.fit_resample(X_train, y_train)"
      ],
      "metadata": {
        "id": "oQYp2AJ-GJk6"
      },
      "execution_count": 28,
      "outputs": []
    },
    {
      "cell_type": "markdown",
      "source": [
        "# LOGISTIC REGRESSION"
      ],
      "metadata": {
        "id": "vB1R53BdJyeJ"
      }
    },
    {
      "cell_type": "code",
      "source": [
        "##build baseline logistic regression\n",
        "from sklearn.linear_model import LogisticRegression\n",
        "lr_model = LogisticRegression(solver='saga')\n",
        "lr_model.fit(X_res, y_res)"
      ],
      "metadata": {
        "colab": {
          "base_uri": "https://localhost:8080/",
          "height": 129
        },
        "id": "q6z-gFnuoJje",
        "outputId": "92dc6fa0-4a10-4361-81a3-0ec632556369"
      },
      "execution_count": 15,
      "outputs": [
        {
          "output_type": "stream",
          "name": "stderr",
          "text": [
            "/usr/local/lib/python3.9/dist-packages/sklearn/linear_model/_sag.py:350: ConvergenceWarning: The max_iter was reached which means the coef_ did not converge\n",
            "  warnings.warn(\n"
          ]
        },
        {
          "output_type": "execute_result",
          "data": {
            "text/plain": [
              "LogisticRegression(solver='saga')"
            ],
            "text/html": [
              "<style>#sk-container-id-1 {color: black;background-color: white;}#sk-container-id-1 pre{padding: 0;}#sk-container-id-1 div.sk-toggleable {background-color: white;}#sk-container-id-1 label.sk-toggleable__label {cursor: pointer;display: block;width: 100%;margin-bottom: 0;padding: 0.3em;box-sizing: border-box;text-align: center;}#sk-container-id-1 label.sk-toggleable__label-arrow:before {content: \"▸\";float: left;margin-right: 0.25em;color: #696969;}#sk-container-id-1 label.sk-toggleable__label-arrow:hover:before {color: black;}#sk-container-id-1 div.sk-estimator:hover label.sk-toggleable__label-arrow:before {color: black;}#sk-container-id-1 div.sk-toggleable__content {max-height: 0;max-width: 0;overflow: hidden;text-align: left;background-color: #f0f8ff;}#sk-container-id-1 div.sk-toggleable__content pre {margin: 0.2em;color: black;border-radius: 0.25em;background-color: #f0f8ff;}#sk-container-id-1 input.sk-toggleable__control:checked~div.sk-toggleable__content {max-height: 200px;max-width: 100%;overflow: auto;}#sk-container-id-1 input.sk-toggleable__control:checked~label.sk-toggleable__label-arrow:before {content: \"▾\";}#sk-container-id-1 div.sk-estimator input.sk-toggleable__control:checked~label.sk-toggleable__label {background-color: #d4ebff;}#sk-container-id-1 div.sk-label input.sk-toggleable__control:checked~label.sk-toggleable__label {background-color: #d4ebff;}#sk-container-id-1 input.sk-hidden--visually {border: 0;clip: rect(1px 1px 1px 1px);clip: rect(1px, 1px, 1px, 1px);height: 1px;margin: -1px;overflow: hidden;padding: 0;position: absolute;width: 1px;}#sk-container-id-1 div.sk-estimator {font-family: monospace;background-color: #f0f8ff;border: 1px dotted black;border-radius: 0.25em;box-sizing: border-box;margin-bottom: 0.5em;}#sk-container-id-1 div.sk-estimator:hover {background-color: #d4ebff;}#sk-container-id-1 div.sk-parallel-item::after {content: \"\";width: 100%;border-bottom: 1px solid gray;flex-grow: 1;}#sk-container-id-1 div.sk-label:hover label.sk-toggleable__label {background-color: #d4ebff;}#sk-container-id-1 div.sk-serial::before {content: \"\";position: absolute;border-left: 1px solid gray;box-sizing: border-box;top: 0;bottom: 0;left: 50%;z-index: 0;}#sk-container-id-1 div.sk-serial {display: flex;flex-direction: column;align-items: center;background-color: white;padding-right: 0.2em;padding-left: 0.2em;position: relative;}#sk-container-id-1 div.sk-item {position: relative;z-index: 1;}#sk-container-id-1 div.sk-parallel {display: flex;align-items: stretch;justify-content: center;background-color: white;position: relative;}#sk-container-id-1 div.sk-item::before, #sk-container-id-1 div.sk-parallel-item::before {content: \"\";position: absolute;border-left: 1px solid gray;box-sizing: border-box;top: 0;bottom: 0;left: 50%;z-index: -1;}#sk-container-id-1 div.sk-parallel-item {display: flex;flex-direction: column;z-index: 1;position: relative;background-color: white;}#sk-container-id-1 div.sk-parallel-item:first-child::after {align-self: flex-end;width: 50%;}#sk-container-id-1 div.sk-parallel-item:last-child::after {align-self: flex-start;width: 50%;}#sk-container-id-1 div.sk-parallel-item:only-child::after {width: 0;}#sk-container-id-1 div.sk-dashed-wrapped {border: 1px dashed gray;margin: 0 0.4em 0.5em 0.4em;box-sizing: border-box;padding-bottom: 0.4em;background-color: white;}#sk-container-id-1 div.sk-label label {font-family: monospace;font-weight: bold;display: inline-block;line-height: 1.2em;}#sk-container-id-1 div.sk-label-container {text-align: center;}#sk-container-id-1 div.sk-container {/* jupyter's `normalize.less` sets `[hidden] { display: none; }` but bootstrap.min.css set `[hidden] { display: none !important; }` so we also need the `!important` here to be able to override the default hidden behavior on the sphinx rendered scikit-learn.org. See: https://github.com/scikit-learn/scikit-learn/issues/21755 */display: inline-block !important;position: relative;}#sk-container-id-1 div.sk-text-repr-fallback {display: none;}</style><div id=\"sk-container-id-1\" class=\"sk-top-container\"><div class=\"sk-text-repr-fallback\"><pre>LogisticRegression(solver=&#x27;saga&#x27;)</pre><b>In a Jupyter environment, please rerun this cell to show the HTML representation or trust the notebook. <br />On GitHub, the HTML representation is unable to render, please try loading this page with nbviewer.org.</b></div><div class=\"sk-container\" hidden><div class=\"sk-item\"><div class=\"sk-estimator sk-toggleable\"><input class=\"sk-toggleable__control sk-hidden--visually\" id=\"sk-estimator-id-1\" type=\"checkbox\" checked><label for=\"sk-estimator-id-1\" class=\"sk-toggleable__label sk-toggleable__label-arrow\">LogisticRegression</label><div class=\"sk-toggleable__content\"><pre>LogisticRegression(solver=&#x27;saga&#x27;)</pre></div></div></div></div></div>"
            ]
          },
          "metadata": {},
          "execution_count": 15
        }
      ]
    },
    {
      "cell_type": "code",
      "source": [
        "print(\"BASIC LOGISTIC REGRESSION MODEL\")\n",
        "report(lr_model)"
      ],
      "metadata": {
        "colab": {
          "base_uri": "https://localhost:8080/",
          "height": 623
        },
        "id": "AmxLSWinoc_e",
        "outputId": "2b41d5d7-8723-4209-cbde-3088d78542df"
      },
      "execution_count": 29,
      "outputs": [
        {
          "output_type": "stream",
          "name": "stdout",
          "text": [
            "BASIC LOGISTIC REGRESSION MODEL\n",
            "              precision    recall  f1-score   support\n",
            "\n",
            "           0       1.00      0.96      0.98      4122\n",
            "           1       0.39      0.99      0.56       104\n",
            "\n",
            "    accuracy                           0.96      4226\n",
            "   macro avg       0.69      0.98      0.77      4226\n",
            "weighted avg       0.98      0.96      0.97      4226\n",
            "\n"
          ]
        },
        {
          "output_type": "display_data",
          "data": {
            "text/plain": [
              "<Figure size 640x480 with 2 Axes>"
            ],
            "image/png": "[encoded data removed]"
          },
          "metadata": {}
        }
      ]
    },
    {
      "cell_type": "code",
      "source": [
        "# Use the random grid to search for best hyperparameters\n",
        "from scipy.stats import uniform\n",
        "lr = LogisticRegression(solver='saga', tol=1e-2, max_iter=200, random_state=1)\n",
        "distributions = dict(C=uniform(loc=0, scale=4), penalty=['l2', 'l1'])\n",
        "# Random search of parameters, using 3 fold cross validation, \n",
        "# search across 100 different combinations, and use all available cores\n",
        "lr_random = RandomizedSearchCV(estimator = lr, param_distributions=distributions, random_state=1, n_jobs = -1)\n",
        "# Fit the random search model\n",
        "lr_model_tuned = lr_random.fit(X_train, y_train)\n",
        "lr_model_tuned.best_params_"
      ],
      "metadata": {
        "colab": {
          "base_uri": "https://localhost:8080/"
        },
        "id": "Gkunihx98tGo",
        "outputId": "f579566e-3413-4c70-95aa-768580e311f2"
      },
      "execution_count": 30,
      "outputs": [
        {
          "output_type": "execute_result",
          "data": {
            "text/plain": [
              "{'C': 3.730229437354635, 'penalty': 'l1'}"
            ]
          },
          "metadata": {},
          "execution_count": 30
        }
      ]
    },
    {
      "cell_type": "code",
      "source": [
        "# Run Logistic Regression with best hyperparameters\n",
        "tuned_lr = LogisticRegression(solver='saga',C=3.730229437354635, penalty='l1')\n",
        "tuned_lr.fit(X_res, y_res)\n",
        "\n",
        "\n",
        "print(\"TUNED LOGISTIC REGRESSION MODEL\")\n",
        "report(tuned_lr)"
      ],
      "metadata": {
        "colab": {
          "base_uri": "https://localhost:8080/",
          "height": 677
        },
        "id": "wLx0G55__gwT",
        "outputId": "eaab3a98-44b6-451d-9422-ef8d75a3c1f9"
      },
      "execution_count": 31,
      "outputs": [
        {
          "output_type": "stream",
          "name": "stderr",
          "text": [
            "/usr/local/lib/python3.9/dist-packages/sklearn/linear_model/_sag.py:350: ConvergenceWarning: The max_iter was reached which means the coef_ did not converge\n",
            "  warnings.warn(\n"
          ]
        },
        {
          "output_type": "stream",
          "name": "stdout",
          "text": [
            "TUNED LOGISTIC REGRESSION MODEL\n",
            "              precision    recall  f1-score   support\n",
            "\n",
            "           0       1.00      0.96      0.98      4122\n",
            "           1       0.39      0.99      0.56       104\n",
            "\n",
            "    accuracy                           0.96      4226\n",
            "   macro avg       0.69      0.98      0.77      4226\n",
            "weighted avg       0.98      0.96      0.97      4226\n",
            "\n"
          ]
        },
        {
          "output_type": "display_data",
          "data": {
            "text/plain": [
              "<Figure size 640x480 with 2 Axes>"
            ],
            "image/png": "[encoded data removed]"
          },
          "metadata": {}
        }
      ]
    },
    {
      "cell_type": "markdown",
      "source": [
        "#Naive Bayes"
      ],
      "metadata": {
        "id": "aw3q3roAkEZo"
      }
    },
    {
      "cell_type": "code",
      "source": [
        "from sklearn.naive_bayes import GaussianNB\n",
        "NB = GaussianNB()\n",
        "# fit to resampled data\n",
        "NB.fit(X_res, y_res)\n",
        "\n",
        "print(\"BASIC NAIVE BAYES MODEL\")\n",
        "report(NB)"
      ],
      "metadata": {
        "colab": {
          "base_uri": "https://localhost:8080/",
          "height": 623
        },
        "id": "1np69VohkMW7",
        "outputId": "60443146-ce53-4021-da23-20ea154c9a36"
      },
      "execution_count": 32,
      "outputs": [
        {
          "output_type": "stream",
          "name": "stdout",
          "text": [
            "BASIC NAIVE BAYES MODEL\n",
            "              precision    recall  f1-score   support\n",
            "\n",
            "           0       1.00      0.13      0.24      4122\n",
            "           1       0.03      1.00      0.06       104\n",
            "\n",
            "    accuracy                           0.16      4226\n",
            "   macro avg       0.51      0.57      0.15      4226\n",
            "weighted avg       0.98      0.16      0.23      4226\n",
            "\n"
          ]
        },
        {
          "output_type": "display_data",
          "data": {
            "text/plain": [
              "<Figure size 640x480 with 2 Axes>"
            ],
            "image/png": "[encoded data removed]"
          },
          "metadata": {}
        }
      ]
    },
    {
      "cell_type": "code",
      "source": [
        "# What hyperparameter tuning should I do for Naive Bayes?\n",
        "# https://medium.com/analytics-vidhya/how-to-improve-naive-bayes-9fa698e14cba\n",
        "from sklearn.model_selection import GridSearchCV\n",
        "param_grid_nb = {'var_smoothing': np.logspace(0,-9, num=100)}\n",
        "\n",
        "nbModel_grid = GridSearchCV(estimator=GaussianNB(), param_grid=param_grid_nb, verbose=1, cv=10, n_jobs=-1)\n",
        "nbModel_grid.fit(X_res, y_res)\n",
        "print(nbModel_grid.best_estimator_)"
      ],
      "metadata": {
        "colab": {
          "base_uri": "https://localhost:8080/"
        },
        "id": "SIeo5KS4lsv4",
        "outputId": "3250f56c-bafe-491f-c5b2-a85e07b567a2"
      },
      "execution_count": 33,
      "outputs": [
        {
          "output_type": "stream",
          "name": "stdout",
          "text": [
            "Fitting 10 folds for each of 100 candidates, totalling 1000 fits\n",
            "GaussianNB(var_smoothing=1.0)\n"
          ]
        }
      ]
    },
    {
      "cell_type": "code",
      "source": [
        "tuned_NB = GaussianNB(var_smoothing=1.0)\n",
        "tuned_NB.fit(X_res, y_res)\n",
        "\n",
        "print(\"TUNED NAIVE BAYES MODEL\")\n",
        "report(tuned_NB)"
      ],
      "metadata": {
        "colab": {
          "base_uri": "https://localhost:8080/",
          "height": 623
        },
        "id": "4yoPGSDbpBaP",
        "outputId": "aabaf114-98dd-4a59-e794-33245ca4cfba"
      },
      "execution_count": 34,
      "outputs": [
        {
          "output_type": "stream",
          "name": "stdout",
          "text": [
            "TUNED NAIVE BAYES MODEL\n",
            "              precision    recall  f1-score   support\n",
            "\n",
            "           0       1.00      0.88      0.93      4122\n",
            "           1       0.17      1.00      0.29       104\n",
            "\n",
            "    accuracy                           0.88      4226\n",
            "   macro avg       0.58      0.94      0.61      4226\n",
            "weighted avg       0.98      0.88      0.92      4226\n",
            "\n"
          ]
        },
        {
          "output_type": "display_data",
          "data": {
            "text/plain": [
              "<Figure size 640x480 with 2 Axes>"
            ],
            "image/png": "[encoded data removed]"
          },
          "metadata": {}
        }
      ]
    },
    {
      "cell_type": "markdown",
      "source": [
        "# SVM\n"
      ],
      "metadata": {
        "id": "9Xl_ahL9q6Ax"
      }
    },
    {
      "cell_type": "code",
      "source": [
        "from sklearn import svm\n",
        "SVM = svm.SVC(kernel= 'linear', random_state=1, C=0.1)\n",
        "SVM.fit(X_res, y_res)\n",
        "\n",
        "print(\"BASIC SVM MODEL\")\n",
        "report(SVM)"
      ],
      "metadata": {
        "colab": {
          "base_uri": "https://localhost:8080/",
          "height": 623
        },
        "id": "WUoEVlSPq_P1",
        "outputId": "7d887878-ae7c-4310-b766-339124206e36"
      },
      "execution_count": 35,
      "outputs": [
        {
          "output_type": "stream",
          "name": "stdout",
          "text": [
            "BASIC SVM MODEL\n",
            "              precision    recall  f1-score   support\n",
            "\n",
            "           0       1.00      0.96      0.98      4122\n",
            "           1       0.41      0.97      0.58       104\n",
            "\n",
            "    accuracy                           0.96      4226\n",
            "   macro avg       0.70      0.97      0.78      4226\n",
            "weighted avg       0.98      0.96      0.97      4226\n",
            "\n"
          ]
        },
        {
          "output_type": "display_data",
          "data": {
            "text/plain": [
              "<Figure size 640x480 with 2 Axes>"
            ],
            "image/png": "[encoded data removed]"
          },
          "metadata": {}
        }
      ]
    },
    {
      "cell_type": "code",
      "source": [
        "# Hyperparameter tuning for SVM\n",
        "# https://medium.com/grabngoinfo/support-vector-machine-svm-hyperparameter-tuning-in-python-a65586289bcb\n",
        "\n",
        "from sklearn.model_selection import StratifiedKFold\n",
        "\n",
        "# List of C values\n",
        "C_range = np.logspace(-1, 1, 3)\n",
        "# List of gamma values\n",
        "gamma_range = np.logspace(-1, 1, 3)\n",
        "\n",
        "# Define the search space\n",
        "param_grid = { \"C\": C_range, \"kernel\": ['rbf', 'poly'], \"gamma\": gamma_range.tolist()+['scale', 'auto']\n",
        "              }\n",
        "# Set up score\n",
        "scoring = ['accuracy']\n",
        "# Set up the k-fold cross-validation\n",
        "kfold = StratifiedKFold(n_splits=3, shuffle=True, random_state=1)\n",
        "\n",
        "# Define grid search\n",
        "grid_search = GridSearchCV(estimator= svm.SVC(), \n",
        "                           param_grid=param_grid, \n",
        "                           scoring=scoring, \n",
        "                           refit='accuracy', \n",
        "                           n_jobs=-1, \n",
        "                           cv=kfold, \n",
        "                           verbose=0)\n",
        "# Fit grid search\n",
        "grid_result = grid_search.fit(X_res, y_res)\n",
        "# Print grid search summary\n",
        "print(grid_result)"
      ],
      "metadata": {
        "colab": {
          "base_uri": "https://localhost:8080/"
        },
        "id": "86dIvwd1sN4A",
        "outputId": "ad807eb2-b57b-438d-dcab-85b5fb5ba2ee"
      },
      "execution_count": 36,
      "outputs": [
        {
          "output_type": "stream",
          "name": "stdout",
          "text": [
            "GridSearchCV(cv=StratifiedKFold(n_splits=3, random_state=1, shuffle=True),\n",
            "             estimator=SVC(), n_jobs=-1,\n",
            "             param_grid={'C': array([ 0.1,  1. , 10. ]),\n",
            "                         'gamma': [0.1, 1.0, 10.0, 'scale', 'auto'],\n",
            "                         'kernel': ['rbf', 'poly']},\n",
            "             refit='accuracy', scoring=['accuracy'])\n"
          ]
        }
      ]
    },
    {
      "cell_type": "code",
      "source": [
        "print(grid_result.best_estimator_)"
      ],
      "metadata": {
        "colab": {
          "base_uri": "https://localhost:8080/"
        },
        "id": "8_oolZ422rBo",
        "outputId": "4f2ba50e-094a-44b1-80f1-869b55c68b51"
      },
      "execution_count": 37,
      "outputs": [
        {
          "output_type": "stream",
          "name": "stdout",
          "text": [
            "SVC(C=10.0, gamma=0.1)\n"
          ]
        }
      ]
    },
    {
      "cell_type": "code",
      "source": [
        "# Run Tuned SVM model\n",
        "tuned_SVM = svm.SVC(C=10.0, gamma=0.1, random_state=1)\n",
        "tuned_SVM.fit(X_res, y_res)\n",
        "\n",
        "print(\"TUNED SVM MODEL\")\n",
        "report(tuned_SVM)"
      ],
      "metadata": {
        "colab": {
          "base_uri": "https://localhost:8080/",
          "height": 623
        },
        "id": "59jELxW9tzoz",
        "outputId": "64141182-64d2-4b72-e2d3-4ddc7a36c5d7"
      },
      "execution_count": 38,
      "outputs": [
        {
          "output_type": "stream",
          "name": "stdout",
          "text": [
            "TUNED SVM MODEL\n",
            "              precision    recall  f1-score   support\n",
            "\n",
            "           0       0.99      0.99      0.99      4122\n",
            "           1       0.71      0.64      0.67       104\n",
            "\n",
            "    accuracy                           0.98      4226\n",
            "   macro avg       0.85      0.82      0.83      4226\n",
            "weighted avg       0.98      0.98      0.98      4226\n",
            "\n"
          ]
        },
        {
          "output_type": "display_data",
          "data": {
            "text/plain": [
              "<Figure size 640x480 with 2 Axes>"
            ],
            "image/png": "[encoded data removed]"
          },
          "metadata": {}
        }
      ]
    },
    {
      "cell_type": "markdown",
      "source": [
        "The basic Random Forest Classifier (with 300 estimators) performed the best with a macro F1 score of 0.88. It made 1 more correct prediction that the other two Random Forest Classifiers.\n",
        "\n",
        "I wonder if there was a way to do the resampling more effectively, because the RFC was the only model that did not rely on resampled data, and it performed the best."
      ],
      "metadata": {
        "id": "Dx6o6W_4vKe2"
      }
    }
  ]
}
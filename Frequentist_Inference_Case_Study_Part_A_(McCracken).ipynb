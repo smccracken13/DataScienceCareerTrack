{
  "cells": [
    {
      "cell_type": "markdown",
      "metadata": {
        "id": "view-in-github",
        "colab_type": "text"
      },
      "source": [
        "<a href=\"https://colab.research.google.com/github/smccracken13/DataScienceCareerTrack/blob/main/Frequentist_Inference_Case_Study_Part_A_(McCracken).ipynb\" target=\"_parent\"><img src=\"https://colab.research.google.com/assets/colab-badge.svg\" alt=\"Open In Colab\"/></a>"
      ]
    },
    {
      "cell_type": "markdown",
      "metadata": {
        "id": "HecD7H-6-wGN"
      },
      "source": [
        "# Frequentist Inference Case Study - Part A "
      ]
    },
    {
      "cell_type": "markdown",
      "metadata": {
        "id": "VklW7Iri-wGP"
      },
      "source": [
        "## 1. Learning objectives"
      ]
    },
    {
      "cell_type": "markdown",
      "metadata": {
        "id": "qcMuE0JA-wGP"
      },
      "source": [
        "Welcome to part A of the Frequentist inference case study! The purpose of this case study is to help you apply the concepts associated with Frequentist inference in Python. Frequentist inference is the process of deriving conclusions about an underlying distribution via the observation of data. In particular, you'll practice writing Python code to apply the following statistical concepts: \n",
        "* the _z_-statistic\n",
        "* the _t_-statistic\n",
        "* the difference and relationship between the two\n",
        "* the Central Limit Theorem, including its assumptions and consequences\n",
        "* how to estimate the population mean and standard deviation from a sample\n",
        "* the concept of a sampling distribution of a test statistic, particularly for the mean\n",
        "* how to combine these concepts to calculate a confidence interval"
      ]
    },
    {
      "cell_type": "markdown",
      "metadata": {
        "id": "Ne_NF73M-wGQ"
      },
      "source": [
        "## Prerequisites"
      ]
    },
    {
      "cell_type": "markdown",
      "metadata": {
        "id": "pj7aZhSP-wGQ"
      },
      "source": [
        "To be able to complete this notebook, you are expected to have a basic understanding of:\n",
        "* what a random variable is (p.400 of Professor Spiegelhalter's *The Art of Statistics, hereinafter AoS*)\n",
        "* what a population, and a population distribution, are (p. 397 of *AoS*)\n",
        "* a high-level sense of what the normal distribution is (p. 394 of *AoS*)\n",
        "* what the t-statistic is (p. 275 of *AoS*)\n",
        "\n",
        "Happily, these should all be concepts with which you are reasonably familiar after having read ten chapters of Professor Spiegelhalter's book, *The Art of Statistics*.\n",
        "\n",
        "We'll try to relate the concepts in this case study back to page numbers in *The Art of Statistics* so that you can focus on the Python aspects of this case study. The second part (part B) of this case study will involve another, more real-world application of these tools. "
      ]
    },
    {
      "cell_type": "markdown",
      "metadata": {
        "id": "sAfjc2Pn-wGQ"
      },
      "source": [
        "For this notebook, we will use data sampled from a known normal distribution. This allows us to compare our results with theoretical expectations."
      ]
    },
    {
      "cell_type": "markdown",
      "metadata": {
        "id": "rTjZd27w-wGQ"
      },
      "source": [
        "## 2. An introduction to sampling from the normal distribution"
      ]
    },
    {
      "cell_type": "markdown",
      "metadata": {
        "id": "9sOvnyRp-wGQ"
      },
      "source": [
        "First, let's explore the ways we can generate the normal distribution. While there's a fair amount of interest in [sklearn](https://scikit-learn.org/stable/) within the machine learning community, you're likely to have heard of [scipy](https://docs.scipy.org/doc/scipy-0.15.1/reference/index.html) if you're coming from the sciences. For this assignment, you'll use [scipy.stats](https://docs.scipy.org/doc/scipy-0.15.1/reference/tutorial/stats.html) to complete your work. \n",
        "\n",
        "This assignment will require some digging around and getting your hands dirty (your learning is maximized that way)! You should have the research skills and the tenacity to do these tasks independently, but if you struggle, reach out to your immediate community and your mentor for help. "
      ]
    },
    {
      "cell_type": "code",
      "execution_count": 2,
      "metadata": {
        "id": "qr4v-iyr-wGR"
      },
      "outputs": [],
      "source": [
        "from scipy.stats import norm\n",
        "from scipy.stats import t\n",
        "import numpy as np\n",
        "import pandas as pd\n",
        "from numpy.random import seed\n",
        "import matplotlib.pyplot as plt"
      ]
    },
    {
      "cell_type": "markdown",
      "metadata": {
        "id": "PFajJVjw-wGS"
      },
      "source": [
        "__Q1:__ Call up the documentation for the `norm` function imported above. (Hint: that documentation is [here](https://docs.scipy.org/doc/scipy/reference/generated/scipy.stats.norm.html)). What is the second listed method?"
      ]
    },
    {
      "cell_type": "code",
      "execution_count": null,
      "metadata": {
        "id": "59fJOm6t-wGS",
        "outputId": "6d52b097-afba-4a1b-8c23-0b720af65d9f",
        "colab": {
          "base_uri": "https://localhost:8080/"
        }
      },
      "outputs": [
        {
          "output_type": "stream",
          "name": "stdout",
          "text": [
            "Help on norm_gen in module scipy.stats._continuous_distns object:\n",
            "\n",
            "class norm_gen(scipy.stats._distn_infrastructure.rv_continuous)\n",
            " |  norm_gen(momtype=1, a=None, b=None, xtol=1e-14, badvalue=None, name=None, longname=None, shapes=None, extradoc=None, seed=None)\n",
            " |  \n",
            " |  A normal continuous random variable.\n",
            " |  \n",
            " |  The location (``loc``) keyword specifies the mean.\n",
            " |  The scale (``scale``) keyword specifies the standard deviation.\n",
            " |  \n",
            " |  %(before_notes)s\n",
            " |  \n",
            " |  Notes\n",
            " |  -----\n",
            " |  The probability density function for `norm` is:\n",
            " |  \n",
            " |  .. math::\n",
            " |  \n",
            " |      f(x) = \\frac{\\exp(-x^2/2)}{\\sqrt{2\\pi}}\n",
            " |  \n",
            " |  for a real number :math:`x`.\n",
            " |  \n",
            " |  %(after_notes)s\n",
            " |  \n",
            " |  %(example)s\n",
            " |  \n",
            " |  Method resolution order:\n",
            " |      norm_gen\n",
            " |      scipy.stats._distn_infrastructure.rv_continuous\n",
            " |      scipy.stats._distn_infrastructure.rv_generic\n",
            " |      builtins.object\n",
            " |  \n",
            " |  Methods defined here:\n",
            " |  \n",
            " |  fit = wrapper(self, *args, **kwds)\n",
            " |      # if fit method is overridden only for MLE and doesn't specify what to do\n",
            " |      # if method == 'mm', this decorator calls generic implementation\n",
            " |  \n",
            " |  ----------------------------------------------------------------------\n",
            " |  Methods inherited from scipy.stats._distn_infrastructure.rv_continuous:\n",
            " |  \n",
            " |  __getstate__(self)\n",
            " |  \n",
            " |  __init__(self, momtype=1, a=None, b=None, xtol=1e-14, badvalue=None, name=None, longname=None, shapes=None, extradoc=None, seed=None)\n",
            " |      Initialize self.  See help(type(self)) for accurate signature.\n",
            " |  \n",
            " |  cdf(self, x, *args, **kwds)\n",
            " |      Cumulative distribution function of the given RV.\n",
            " |      \n",
            " |      Parameters\n",
            " |      ----------\n",
            " |      x : array_like\n",
            " |          quantiles\n",
            " |      arg1, arg2, arg3,... : array_like\n",
            " |          The shape parameter(s) for the distribution (see docstring of the\n",
            " |          instance object for more information)\n",
            " |      loc : array_like, optional\n",
            " |          location parameter (default=0)\n",
            " |      scale : array_like, optional\n",
            " |          scale parameter (default=1)\n",
            " |      \n",
            " |      Returns\n",
            " |      -------\n",
            " |      cdf : ndarray\n",
            " |          Cumulative distribution function evaluated at `x`\n",
            " |  \n",
            " |  expect(self, func=None, args=(), loc=0, scale=1, lb=None, ub=None, conditional=False, **kwds)\n",
            " |      Calculate expected value of a function with respect to the\n",
            " |      distribution by numerical integration.\n",
            " |      \n",
            " |      The expected value of a function ``f(x)`` with respect to a\n",
            " |      distribution ``dist`` is defined as::\n",
            " |      \n",
            " |                  ub\n",
            " |          E[f(x)] = Integral(f(x) * dist.pdf(x)),\n",
            " |                  lb\n",
            " |      \n",
            " |      where ``ub`` and ``lb`` are arguments and ``x`` has the ``dist.pdf(x)``\n",
            " |      distribution. If the bounds ``lb`` and ``ub`` correspond to the\n",
            " |      support of the distribution, e.g. ``[-inf, inf]`` in the default\n",
            " |      case, then the integral is the unrestricted expectation of ``f(x)``.\n",
            " |      Also, the function ``f(x)`` may be defined such that ``f(x)`` is ``0``\n",
            " |      outside a finite interval in which case the expectation is\n",
            " |      calculated within the finite range ``[lb, ub]``.\n",
            " |      \n",
            " |      Parameters\n",
            " |      ----------\n",
            " |      func : callable, optional\n",
            " |          Function for which integral is calculated. Takes only one argument.\n",
            " |          The default is the identity mapping f(x) = x.\n",
            " |      args : tuple, optional\n",
            " |          Shape parameters of the distribution.\n",
            " |      loc : float, optional\n",
            " |          Location parameter (default=0).\n",
            " |      scale : float, optional\n",
            " |          Scale parameter (default=1).\n",
            " |      lb, ub : scalar, optional\n",
            " |          Lower and upper bound for integration. Default is set to the\n",
            " |          support of the distribution.\n",
            " |      conditional : bool, optional\n",
            " |          If True, the integral is corrected by the conditional probability\n",
            " |          of the integration interval.  The return value is the expectation\n",
            " |          of the function, conditional on being in the given interval.\n",
            " |          Default is False.\n",
            " |      \n",
            " |      Additional keyword arguments are passed to the integration routine.\n",
            " |      \n",
            " |      Returns\n",
            " |      -------\n",
            " |      expect : float\n",
            " |          The calculated expected value.\n",
            " |      \n",
            " |      Notes\n",
            " |      -----\n",
            " |      The integration behavior of this function is inherited from\n",
            " |      `scipy.integrate.quad`. Neither this function nor\n",
            " |      `scipy.integrate.quad` can verify whether the integral exists or is\n",
            " |      finite. For example ``cauchy(0).mean()`` returns ``np.nan`` and\n",
            " |      ``cauchy(0).expect()`` returns ``0.0``.\n",
            " |      \n",
            " |      The function is not vectorized.\n",
            " |      \n",
            " |      Examples\n",
            " |      --------\n",
            " |      \n",
            " |      To understand the effect of the bounds of integration consider\n",
            " |      \n",
            " |      >>> from scipy.stats import expon\n",
            " |      >>> expon(1).expect(lambda x: 1, lb=0.0, ub=2.0)\n",
            " |      0.6321205588285578\n",
            " |      \n",
            " |      This is close to\n",
            " |      \n",
            " |      >>> expon(1).cdf(2.0) - expon(1).cdf(0.0)\n",
            " |      0.6321205588285577\n",
            " |      \n",
            " |      If ``conditional=True``\n",
            " |      \n",
            " |      >>> expon(1).expect(lambda x: 1, lb=0.0, ub=2.0, conditional=True)\n",
            " |      1.0000000000000002\n",
            " |      \n",
            " |      The slight deviation from 1 is due to numerical integration.\n",
            " |  \n",
            " |  fit_loc_scale(self, data, *args)\n",
            " |      Estimate loc and scale parameters from data using 1st and 2nd moments.\n",
            " |      \n",
            " |      Parameters\n",
            " |      ----------\n",
            " |      data : array_like\n",
            " |          Data to fit.\n",
            " |      arg1, arg2, arg3,... : array_like\n",
            " |          The shape parameter(s) for the distribution (see docstring of the\n",
            " |          instance object for more information).\n",
            " |      \n",
            " |      Returns\n",
            " |      -------\n",
            " |      Lhat : float\n",
            " |          Estimated location parameter for the data.\n",
            " |      Shat : float\n",
            " |          Estimated scale parameter for the data.\n",
            " |  \n",
            " |  isf(self, q, *args, **kwds)\n",
            " |      Inverse survival function (inverse of `sf`) at q of the given RV.\n",
            " |      \n",
            " |      Parameters\n",
            " |      ----------\n",
            " |      q : array_like\n",
            " |          upper tail probability\n",
            " |      arg1, arg2, arg3,... : array_like\n",
            " |          The shape parameter(s) for the distribution (see docstring of the\n",
            " |          instance object for more information)\n",
            " |      loc : array_like, optional\n",
            " |          location parameter (default=0)\n",
            " |      scale : array_like, optional\n",
            " |          scale parameter (default=1)\n",
            " |      \n",
            " |      Returns\n",
            " |      -------\n",
            " |      x : ndarray or scalar\n",
            " |          Quantile corresponding to the upper tail probability q.\n",
            " |  \n",
            " |  logcdf(self, x, *args, **kwds)\n",
            " |      Log of the cumulative distribution function at x of the given RV.\n",
            " |      \n",
            " |      Parameters\n",
            " |      ----------\n",
            " |      x : array_like\n",
            " |          quantiles\n",
            " |      arg1, arg2, arg3,... : array_like\n",
            " |          The shape parameter(s) for the distribution (see docstring of the\n",
            " |          instance object for more information)\n",
            " |      loc : array_like, optional\n",
            " |          location parameter (default=0)\n",
            " |      scale : array_like, optional\n",
            " |          scale parameter (default=1)\n",
            " |      \n",
            " |      Returns\n",
            " |      -------\n",
            " |      logcdf : array_like\n",
            " |          Log of the cumulative distribution function evaluated at x\n",
            " |  \n",
            " |  logpdf(self, x, *args, **kwds)\n",
            " |      Log of the probability density function at x of the given RV.\n",
            " |      \n",
            " |      This uses a more numerically accurate calculation if available.\n",
            " |      \n",
            " |      Parameters\n",
            " |      ----------\n",
            " |      x : array_like\n",
            " |          quantiles\n",
            " |      arg1, arg2, arg3,... : array_like\n",
            " |          The shape parameter(s) for the distribution (see docstring of the\n",
            " |          instance object for more information)\n",
            " |      loc : array_like, optional\n",
            " |          location parameter (default=0)\n",
            " |      scale : array_like, optional\n",
            " |          scale parameter (default=1)\n",
            " |      \n",
            " |      Returns\n",
            " |      -------\n",
            " |      logpdf : array_like\n",
            " |          Log of the probability density function evaluated at x\n",
            " |  \n",
            " |  logsf(self, x, *args, **kwds)\n",
            " |      Log of the survival function of the given RV.\n",
            " |      \n",
            " |      Returns the log of the \"survival function,\" defined as (1 - `cdf`),\n",
            " |      evaluated at `x`.\n",
            " |      \n",
            " |      Parameters\n",
            " |      ----------\n",
            " |      x : array_like\n",
            " |          quantiles\n",
            " |      arg1, arg2, arg3,... : array_like\n",
            " |          The shape parameter(s) for the distribution (see docstring of the\n",
            " |          instance object for more information)\n",
            " |      loc : array_like, optional\n",
            " |          location parameter (default=0)\n",
            " |      scale : array_like, optional\n",
            " |          scale parameter (default=1)\n",
            " |      \n",
            " |      Returns\n",
            " |      -------\n",
            " |      logsf : ndarray\n",
            " |          Log of the survival function evaluated at `x`.\n",
            " |  \n",
            " |  nnlf(self, theta, x)\n",
            " |      Negative loglikelihood function.\n",
            " |      \n",
            " |      Notes\n",
            " |      -----\n",
            " |      This is ``-sum(log pdf(x, theta), axis=0)`` where `theta` are the\n",
            " |      parameters (including loc and scale).\n",
            " |  \n",
            " |  pdf(self, x, *args, **kwds)\n",
            " |      Probability density function at x of the given RV.\n",
            " |      \n",
            " |      Parameters\n",
            " |      ----------\n",
            " |      x : array_like\n",
            " |          quantiles\n",
            " |      arg1, arg2, arg3,... : array_like\n",
            " |          The shape parameter(s) for the distribution (see docstring of the\n",
            " |          instance object for more information)\n",
            " |      loc : array_like, optional\n",
            " |          location parameter (default=0)\n",
            " |      scale : array_like, optional\n",
            " |          scale parameter (default=1)\n",
            " |      \n",
            " |      Returns\n",
            " |      -------\n",
            " |      pdf : ndarray\n",
            " |          Probability density function evaluated at x\n",
            " |  \n",
            " |  ppf(self, q, *args, **kwds)\n",
            " |      Percent point function (inverse of `cdf`) at q of the given RV.\n",
            " |      \n",
            " |      Parameters\n",
            " |      ----------\n",
            " |      q : array_like\n",
            " |          lower tail probability\n",
            " |      arg1, arg2, arg3,... : array_like\n",
            " |          The shape parameter(s) for the distribution (see docstring of the\n",
            " |          instance object for more information)\n",
            " |      loc : array_like, optional\n",
            " |          location parameter (default=0)\n",
            " |      scale : array_like, optional\n",
            " |          scale parameter (default=1)\n",
            " |      \n",
            " |      Returns\n",
            " |      -------\n",
            " |      x : array_like\n",
            " |          quantile corresponding to the lower tail probability q.\n",
            " |  \n",
            " |  sf(self, x, *args, **kwds)\n",
            " |      Survival function (1 - `cdf`) at x of the given RV.\n",
            " |      \n",
            " |      Parameters\n",
            " |      ----------\n",
            " |      x : array_like\n",
            " |          quantiles\n",
            " |      arg1, arg2, arg3,... : array_like\n",
            " |          The shape parameter(s) for the distribution (see docstring of the\n",
            " |          instance object for more information)\n",
            " |      loc : array_like, optional\n",
            " |          location parameter (default=0)\n",
            " |      scale : array_like, optional\n",
            " |          scale parameter (default=1)\n",
            " |      \n",
            " |      Returns\n",
            " |      -------\n",
            " |      sf : array_like\n",
            " |          Survival function evaluated at x\n",
            " |  \n",
            " |  ----------------------------------------------------------------------\n",
            " |  Methods inherited from scipy.stats._distn_infrastructure.rv_generic:\n",
            " |  \n",
            " |  __call__(self, *args, **kwds)\n",
            " |      Freeze the distribution for the given arguments.\n",
            " |      \n",
            " |      Parameters\n",
            " |      ----------\n",
            " |      arg1, arg2, arg3,... : array_like\n",
            " |          The shape parameter(s) for the distribution.  Should include all\n",
            " |          the non-optional arguments, may include ``loc`` and ``scale``.\n",
            " |      \n",
            " |      Returns\n",
            " |      -------\n",
            " |      rv_frozen : rv_frozen instance\n",
            " |          The frozen distribution.\n",
            " |  \n",
            " |  __setstate__(self, state)\n",
            " |  \n",
            " |  entropy(self, *args, **kwds)\n",
            " |      Differential entropy of the RV.\n",
            " |      \n",
            " |      Parameters\n",
            " |      ----------\n",
            " |      arg1, arg2, arg3,... : array_like\n",
            " |          The shape parameter(s) for the distribution (see docstring of the\n",
            " |          instance object for more information).\n",
            " |      loc : array_like, optional\n",
            " |          Location parameter (default=0).\n",
            " |      scale : array_like, optional  (continuous distributions only).\n",
            " |          Scale parameter (default=1).\n",
            " |      \n",
            " |      Notes\n",
            " |      -----\n",
            " |      Entropy is defined base `e`:\n",
            " |      \n",
            " |      >>> drv = rv_discrete(values=((0, 1), (0.5, 0.5)))\n",
            " |      >>> np.allclose(drv.entropy(), np.log(2.0))\n",
            " |      True\n",
            " |  \n",
            " |  freeze(self, *args, **kwds)\n",
            " |      Freeze the distribution for the given arguments.\n",
            " |      \n",
            " |      Parameters\n",
            " |      ----------\n",
            " |      arg1, arg2, arg3,... : array_like\n",
            " |          The shape parameter(s) for the distribution.  Should include all\n",
            " |          the non-optional arguments, may include ``loc`` and ``scale``.\n",
            " |      \n",
            " |      Returns\n",
            " |      -------\n",
            " |      rv_frozen : rv_frozen instance\n",
            " |          The frozen distribution.\n",
            " |  \n",
            " |  interval(self, alpha, *args, **kwds)\n",
            " |      Confidence interval with equal areas around the median.\n",
            " |      \n",
            " |      Parameters\n",
            " |      ----------\n",
            " |      alpha : array_like of float\n",
            " |          Probability that an rv will be drawn from the returned range.\n",
            " |          Each value should be in the range [0, 1].\n",
            " |      arg1, arg2, ... : array_like\n",
            " |          The shape parameter(s) for the distribution (see docstring of the\n",
            " |          instance object for more information).\n",
            " |      loc : array_like, optional\n",
            " |          location parameter, Default is 0.\n",
            " |      scale : array_like, optional\n",
            " |          scale parameter, Default is 1.\n",
            " |      \n",
            " |      Returns\n",
            " |      -------\n",
            " |      a, b : ndarray of float\n",
            " |          end-points of range that contain ``100 * alpha %`` of the rv's\n",
            " |          possible values.\n",
            " |  \n",
            " |  mean(self, *args, **kwds)\n",
            " |      Mean of the distribution.\n",
            " |      \n",
            " |      Parameters\n",
            " |      ----------\n",
            " |      arg1, arg2, arg3,... : array_like\n",
            " |          The shape parameter(s) for the distribution (see docstring of the\n",
            " |          instance object for more information)\n",
            " |      loc : array_like, optional\n",
            " |          location parameter (default=0)\n",
            " |      scale : array_like, optional\n",
            " |          scale parameter (default=1)\n",
            " |      \n",
            " |      Returns\n",
            " |      -------\n",
            " |      mean : float\n",
            " |          the mean of the distribution\n",
            " |  \n",
            " |  median(self, *args, **kwds)\n",
            " |      Median of the distribution.\n",
            " |      \n",
            " |      Parameters\n",
            " |      ----------\n",
            " |      arg1, arg2, arg3,... : array_like\n",
            " |          The shape parameter(s) for the distribution (see docstring of the\n",
            " |          instance object for more information)\n",
            " |      loc : array_like, optional\n",
            " |          Location parameter, Default is 0.\n",
            " |      scale : array_like, optional\n",
            " |          Scale parameter, Default is 1.\n",
            " |      \n",
            " |      Returns\n",
            " |      -------\n",
            " |      median : float\n",
            " |          The median of the distribution.\n",
            " |      \n",
            " |      See Also\n",
            " |      --------\n",
            " |      rv_discrete.ppf\n",
            " |          Inverse of the CDF\n",
            " |  \n",
            " |  moment(self, n, *args, **kwds)\n",
            " |      n-th order non-central moment of distribution.\n",
            " |      \n",
            " |      Parameters\n",
            " |      ----------\n",
            " |      n : int, n >= 1\n",
            " |          Order of moment.\n",
            " |      arg1, arg2, arg3,... : float\n",
            " |          The shape parameter(s) for the distribution (see docstring of the\n",
            " |          instance object for more information).\n",
            " |      loc : array_like, optional\n",
            " |          location parameter (default=0)\n",
            " |      scale : array_like, optional\n",
            " |          scale parameter (default=1)\n",
            " |  \n",
            " |  rvs(self, *args, **kwds)\n",
            " |      Random variates of given type.\n",
            " |      \n",
            " |      Parameters\n",
            " |      ----------\n",
            " |      arg1, arg2, arg3,... : array_like\n",
            " |          The shape parameter(s) for the distribution (see docstring of the\n",
            " |          instance object for more information).\n",
            " |      loc : array_like, optional\n",
            " |          Location parameter (default=0).\n",
            " |      scale : array_like, optional\n",
            " |          Scale parameter (default=1).\n",
            " |      size : int or tuple of ints, optional\n",
            " |          Defining number of random variates (default is 1).\n",
            " |      random_state : {None, int, `numpy.random.Generator`,\n",
            " |                      `numpy.random.RandomState`}, optional\n",
            " |      \n",
            " |          If `seed` is None (or `np.random`), the `numpy.random.RandomState`\n",
            " |          singleton is used.\n",
            " |          If `seed` is an int, a new ``RandomState`` instance is used,\n",
            " |          seeded with `seed`.\n",
            " |          If `seed` is already a ``Generator`` or ``RandomState`` instance\n",
            " |          then that instance is used.\n",
            " |      \n",
            " |      Returns\n",
            " |      -------\n",
            " |      rvs : ndarray or scalar\n",
            " |          Random variates of given `size`.\n",
            " |  \n",
            " |  stats(self, *args, **kwds)\n",
            " |      Some statistics of the given RV.\n",
            " |      \n",
            " |      Parameters\n",
            " |      ----------\n",
            " |      arg1, arg2, arg3,... : array_like\n",
            " |          The shape parameter(s) for the distribution (see docstring of the\n",
            " |          instance object for more information)\n",
            " |      loc : array_like, optional\n",
            " |          location parameter (default=0)\n",
            " |      scale : array_like, optional (continuous RVs only)\n",
            " |          scale parameter (default=1)\n",
            " |      moments : str, optional\n",
            " |          composed of letters ['mvsk'] defining which moments to compute:\n",
            " |          'm' = mean,\n",
            " |          'v' = variance,\n",
            " |          's' = (Fisher's) skew,\n",
            " |          'k' = (Fisher's) kurtosis.\n",
            " |          (default is 'mv')\n",
            " |      \n",
            " |      Returns\n",
            " |      -------\n",
            " |      stats : sequence\n",
            " |          of requested moments.\n",
            " |  \n",
            " |  std(self, *args, **kwds)\n",
            " |      Standard deviation of the distribution.\n",
            " |      \n",
            " |      Parameters\n",
            " |      ----------\n",
            " |      arg1, arg2, arg3,... : array_like\n",
            " |          The shape parameter(s) for the distribution (see docstring of the\n",
            " |          instance object for more information)\n",
            " |      loc : array_like, optional\n",
            " |          location parameter (default=0)\n",
            " |      scale : array_like, optional\n",
            " |          scale parameter (default=1)\n",
            " |      \n",
            " |      Returns\n",
            " |      -------\n",
            " |      std : float\n",
            " |          standard deviation of the distribution\n",
            " |  \n",
            " |  support(self, *args, **kwargs)\n",
            " |      Support of the distribution.\n",
            " |      \n",
            " |      Parameters\n",
            " |      ----------\n",
            " |      arg1, arg2, ... : array_like\n",
            " |          The shape parameter(s) for the distribution (see docstring of the\n",
            " |          instance object for more information).\n",
            " |      loc : array_like, optional\n",
            " |          location parameter, Default is 0.\n",
            " |      scale : array_like, optional\n",
            " |          scale parameter, Default is 1.\n",
            " |      \n",
            " |      Returns\n",
            " |      -------\n",
            " |      a, b : array_like\n",
            " |          end-points of the distribution's support.\n",
            " |  \n",
            " |  var(self, *args, **kwds)\n",
            " |      Variance of the distribution.\n",
            " |      \n",
            " |      Parameters\n",
            " |      ----------\n",
            " |      arg1, arg2, arg3,... : array_like\n",
            " |          The shape parameter(s) for the distribution (see docstring of the\n",
            " |          instance object for more information)\n",
            " |      loc : array_like, optional\n",
            " |          location parameter (default=0)\n",
            " |      scale : array_like, optional\n",
            " |          scale parameter (default=1)\n",
            " |      \n",
            " |      Returns\n",
            " |      -------\n",
            " |      var : float\n",
            " |          the variance of the distribution\n",
            " |  \n",
            " |  ----------------------------------------------------------------------\n",
            " |  Data descriptors inherited from scipy.stats._distn_infrastructure.rv_generic:\n",
            " |  \n",
            " |  __dict__\n",
            " |      dictionary for instance variables (if defined)\n",
            " |  \n",
            " |  __weakref__\n",
            " |      list of weak references to the object (if defined)\n",
            " |  \n",
            " |  random_state\n",
            " |      Get or set the generator object for generating random variates.\n",
            " |      \n",
            " |      If `seed` is None (or `np.random`), the `numpy.random.RandomState`\n",
            " |      singleton is used.\n",
            " |      If `seed` is an int, a new ``RandomState`` instance is used,\n",
            " |      seeded with `seed`.\n",
            " |      If `seed` is already a ``Generator`` or ``RandomState`` instance then\n",
            " |      that instance is used.\n",
            "\n"
          ]
        }
      ],
      "source": [
        "help(norm)"
      ]
    },
    {
      "cell_type": "markdown",
      "metadata": {
        "id": "Q5wf23po-wGS"
      },
      "source": [
        "__A:__On the site you linked the second listed method is pdf(). When I call help(norm), the methods are listed alphabetically."
      ]
    },
    {
      "cell_type": "markdown",
      "metadata": {
        "id": "Z7vYnJPD-wGS"
      },
      "source": [
        "__Q2:__ Use the method that generates random variates to draw five samples from the standard normal distribution. "
      ]
    },
    {
      "cell_type": "markdown",
      "metadata": {
        "id": "sRtMdPRp-wGS"
      },
      "source": [
        "__A:__"
      ]
    },
    {
      "cell_type": "code",
      "execution_count": 3,
      "metadata": {
        "id": "O-C37WiQ-wGS",
        "outputId": "624147a6-5935-4a40-d959-7238c7ac1935",
        "colab": {
          "base_uri": "https://localhost:8080/"
        }
      },
      "outputs": [
        {
          "output_type": "stream",
          "name": "stdout",
          "text": [
            "[-0.84800948  1.30590636  0.92420797  0.6404118  -1.05473698]\n"
          ]
        }
      ],
      "source": [
        "seed(47)\n",
        "# draw five samples here\n",
        "sampleof5 = norm.rvs(size=5)\n",
        "print(sampleof5)"
      ]
    },
    {
      "cell_type": "markdown",
      "metadata": {
        "id": "S5hzlw26-wGS"
      },
      "source": [
        "__Q3:__ What is the mean of this sample? Is it exactly equal to the value you expected? Hint: the sample was drawn from the standard normal distribution. If you want a reminder of the properties of this distribution, check out p. 85 of *AoS*. "
      ]
    },
    {
      "cell_type": "markdown",
      "metadata": {
        "id": "KwGU3HOE-wGT"
      },
      "source": [
        "__A:__0.19355593334131074. This is a little higher than expected, since the mean of the normal distribution is 0."
      ]
    },
    {
      "cell_type": "code",
      "execution_count": null,
      "metadata": {
        "id": "Qo9797ds-wGT",
        "outputId": "06fa1903-5d68-486b-8c76-b47b0865a5f6",
        "colab": {
          "base_uri": "https://localhost:8080/"
        }
      },
      "outputs": [
        {
          "output_type": "stream",
          "name": "stdout",
          "text": [
            "0.19355593334131074\n"
          ]
        }
      ],
      "source": [
        "# Calculate and print the mean here, hint: use np.mean()\n",
        "sof5mean = np.mean(sampleof5)\n",
        "print(sof5mean)"
      ]
    },
    {
      "cell_type": "markdown",
      "metadata": {
        "id": "8r02rPVF-wGT"
      },
      "source": [
        "__Q4:__ What is the standard deviation of these numbers? Calculate this manually here as $\\sqrt{\\frac{\\sum_i(x_i - \\bar{x})^2}{n}}$ (This is just the definition of **standard deviation** given by Professor Spiegelhalter on p.403 of *AoS*). Hint: np.sqrt() and np.sum() will be useful here and remember that numPy supports [broadcasting](https://docs.scipy.org/doc/numpy/user/basics.broadcasting.html)."
      ]
    },
    {
      "cell_type": "markdown",
      "metadata": {
        "id": "KAUirlVL-wGT"
      },
      "source": [
        "__A:__0.9606195639478641"
      ]
    },
    {
      "cell_type": "code",
      "execution_count": null,
      "metadata": {
        "id": "zn4hPD6j-wGT",
        "outputId": "80d368e5-88c5-4e27-cbad-c8d2a975f96f",
        "colab": {
          "base_uri": "https://localhost:8080/"
        }
      },
      "outputs": [
        {
          "output_type": "stream",
          "name": "stdout",
          "text": [
            "0.9606195639478641\n"
          ]
        }
      ],
      "source": [
        "sof5std = np.sqrt(np.sum([(x - sof5mean)**2 for x in sampleof5])/5)\n",
        "print(sof5std)"
      ]
    },
    {
      "cell_type": "markdown",
      "metadata": {
        "id": "xX2dTOzT-wGT"
      },
      "source": [
        "Here we have calculated the actual standard deviation of a small data set (of size 5). But in this case, this small data set is actually a sample from our larger (infinite) population. In this case, the population is infinite because we could keep drawing our normal random variates until our computers die! \n",
        "\n",
        "In general, the sample mean we calculate will not be equal to the population mean (as we saw above). A consequence of this is that the sum of squares of the deviations from the _population_ mean will be bigger than the sum of squares of the deviations from the _sample_ mean. In other words, the sum of squares of the deviations from the _sample_ mean is too small to give an unbiased estimate of the _population_ variance. An example of this effect is given [here](https://en.wikipedia.org/wiki/Bessel%27s_correction#Source_of_bias). Scaling our estimate of the variance by the factor $n/(n-1)$ gives an unbiased estimator of the population variance. This factor is known as [Bessel's correction](https://en.wikipedia.org/wiki/Bessel%27s_correction). The consequence of this is that the $n$ in the denominator is replaced by $n-1$.\n",
        "\n",
        "You can see Bessel's correction reflected in Professor Spiegelhalter's definition of **variance** on p. 405 of *AoS*.\n",
        "\n",
        "__Q5:__ If all we had to go on was our five samples, what would be our best estimate of the population standard deviation? Use Bessel's correction ($n-1$ in the denominator), thus $\\sqrt{\\frac{\\sum_i(x_i - \\bar{x})^2}{n-1}}$."
      ]
    },
    {
      "cell_type": "markdown",
      "metadata": {
        "id": "q14MX79y-wGT"
      },
      "source": [
        "__A:__1.0740053227518152"
      ]
    },
    {
      "cell_type": "code",
      "execution_count": null,
      "metadata": {
        "id": "L7WwLtj--wGT",
        "outputId": "2dbb1db7-362e-4a82-9755-f844a0fca657",
        "colab": {
          "base_uri": "https://localhost:8080/"
        }
      },
      "outputs": [
        {
          "output_type": "stream",
          "name": "stdout",
          "text": [
            "1.0740053227518152\n"
          ]
        }
      ],
      "source": [
        "Besselsof5 = sof5std = np.sqrt(np.sum([(x - sof5mean)**2 for x in sampleof5])/(5-1))\n",
        "print(Besselsof5)"
      ]
    },
    {
      "cell_type": "markdown",
      "metadata": {
        "id": "cf-APcS7-wGT"
      },
      "source": [
        "__Q6:__ Now use numpy's std function to calculate the standard deviation of our random samples. Which of the above standard deviations did it return?"
      ]
    },
    {
      "cell_type": "markdown",
      "metadata": {
        "id": "meqc8yxe-wGT"
      },
      "source": [
        "__A:__It returned the standard deviation without Bessel's correction."
      ]
    },
    {
      "cell_type": "code",
      "execution_count": null,
      "metadata": {
        "id": "VpDgFGFi-wGT",
        "outputId": "b32e69d0-4cdb-4533-cebf-08af42eedd6b",
        "colab": {
          "base_uri": "https://localhost:8080/"
        }
      },
      "outputs": [
        {
          "output_type": "execute_result",
          "data": {
            "text/plain": [
              "0.9606195639478641"
            ]
          },
          "metadata": {},
          "execution_count": 40
        }
      ],
      "source": [
        "np.std(sampleof5)"
      ]
    },
    {
      "cell_type": "markdown",
      "metadata": {
        "id": "gNox86yP-wGU"
      },
      "source": [
        "__Q7:__ Consult the documentation for np.std() to see how to apply the correction for estimating the population parameter and verify this produces the expected result."
      ]
    },
    {
      "cell_type": "markdown",
      "metadata": {
        "id": "VTakojwO-wGU"
      },
      "source": [
        "__A:__"
      ]
    },
    {
      "cell_type": "code",
      "execution_count": null,
      "metadata": {
        "id": "0JzC2Pb3-wGU",
        "outputId": "ec100a75-d0bc-4e3b-e0a0-deb82c66b8f3",
        "colab": {
          "base_uri": "https://localhost:8080/"
        }
      },
      "outputs": [
        {
          "output_type": "stream",
          "name": "stdout",
          "text": [
            "Help on function std in module numpy:\n",
            "\n",
            "std(a, axis=None, dtype=None, out=None, ddof=0, keepdims=<no value>, *, where=<no value>)\n",
            "    Compute the standard deviation along the specified axis.\n",
            "    \n",
            "    Returns the standard deviation, a measure of the spread of a distribution,\n",
            "    of the array elements. The standard deviation is computed for the\n",
            "    flattened array by default, otherwise over the specified axis.\n",
            "    \n",
            "    Parameters\n",
            "    ----------\n",
            "    a : array_like\n",
            "        Calculate the standard deviation of these values.\n",
            "    axis : None or int or tuple of ints, optional\n",
            "        Axis or axes along which the standard deviation is computed. The\n",
            "        default is to compute the standard deviation of the flattened array.\n",
            "    \n",
            "        .. versionadded:: 1.7.0\n",
            "    \n",
            "        If this is a tuple of ints, a standard deviation is performed over\n",
            "        multiple axes, instead of a single axis or all the axes as before.\n",
            "    dtype : dtype, optional\n",
            "        Type to use in computing the standard deviation. For arrays of\n",
            "        integer type the default is float64, for arrays of float types it is\n",
            "        the same as the array type.\n",
            "    out : ndarray, optional\n",
            "        Alternative output array in which to place the result. It must have\n",
            "        the same shape as the expected output but the type (of the calculated\n",
            "        values) will be cast if necessary.\n",
            "    ddof : int, optional\n",
            "        Means Delta Degrees of Freedom.  The divisor used in calculations\n",
            "        is ``N - ddof``, where ``N`` represents the number of elements.\n",
            "        By default `ddof` is zero.\n",
            "    keepdims : bool, optional\n",
            "        If this is set to True, the axes which are reduced are left\n",
            "        in the result as dimensions with size one. With this option,\n",
            "        the result will broadcast correctly against the input array.\n",
            "    \n",
            "        If the default value is passed, then `keepdims` will not be\n",
            "        passed through to the `std` method of sub-classes of\n",
            "        `ndarray`, however any non-default value will be.  If the\n",
            "        sub-class' method does not implement `keepdims` any\n",
            "        exceptions will be raised.\n",
            "    \n",
            "    where : array_like of bool, optional\n",
            "        Elements to include in the standard deviation.\n",
            "        See `~numpy.ufunc.reduce` for details.\n",
            "    \n",
            "        .. versionadded:: 1.20.0\n",
            "    \n",
            "    Returns\n",
            "    -------\n",
            "    standard_deviation : ndarray, see dtype parameter above.\n",
            "        If `out` is None, return a new array containing the standard deviation,\n",
            "        otherwise return a reference to the output array.\n",
            "    \n",
            "    See Also\n",
            "    --------\n",
            "    var, mean, nanmean, nanstd, nanvar\n",
            "    :ref:`ufuncs-output-type`\n",
            "    \n",
            "    Notes\n",
            "    -----\n",
            "    The standard deviation is the square root of the average of the squared\n",
            "    deviations from the mean, i.e., ``std = sqrt(mean(x))``, where\n",
            "    ``x = abs(a - a.mean())**2``.\n",
            "    \n",
            "    The average squared deviation is typically calculated as ``x.sum() / N``,\n",
            "    where ``N = len(x)``. If, however, `ddof` is specified, the divisor\n",
            "    ``N - ddof`` is used instead. In standard statistical practice, ``ddof=1``\n",
            "    provides an unbiased estimator of the variance of the infinite population.\n",
            "    ``ddof=0`` provides a maximum likelihood estimate of the variance for\n",
            "    normally distributed variables. The standard deviation computed in this\n",
            "    function is the square root of the estimated variance, so even with\n",
            "    ``ddof=1``, it will not be an unbiased estimate of the standard deviation\n",
            "    per se.\n",
            "    \n",
            "    Note that, for complex numbers, `std` takes the absolute\n",
            "    value before squaring, so that the result is always real and nonnegative.\n",
            "    \n",
            "    For floating-point input, the *std* is computed using the same\n",
            "    precision the input has. Depending on the input data, this can cause\n",
            "    the results to be inaccurate, especially for float32 (see example below).\n",
            "    Specifying a higher-accuracy accumulator using the `dtype` keyword can\n",
            "    alleviate this issue.\n",
            "    \n",
            "    Examples\n",
            "    --------\n",
            "    >>> a = np.array([[1, 2], [3, 4]])\n",
            "    >>> np.std(a)\n",
            "    1.1180339887498949 # may vary\n",
            "    >>> np.std(a, axis=0)\n",
            "    array([1.,  1.])\n",
            "    >>> np.std(a, axis=1)\n",
            "    array([0.5,  0.5])\n",
            "    \n",
            "    In single precision, std() can be inaccurate:\n",
            "    \n",
            "    >>> a = np.zeros((2, 512*512), dtype=np.float32)\n",
            "    >>> a[0, :] = 1.0\n",
            "    >>> a[1, :] = 0.1\n",
            "    >>> np.std(a)\n",
            "    0.45000005\n",
            "    \n",
            "    Computing the standard deviation in float64 is more accurate:\n",
            "    \n",
            "    >>> np.std(a, dtype=np.float64)\n",
            "    0.44999999925494177 # may vary\n",
            "    \n",
            "    Specifying a where argument:\n",
            "    \n",
            "    >>> a = np.array([[14, 8, 11, 10], [7, 9, 10, 11], [10, 15, 5, 10]])\n",
            "    >>> np.std(a)\n",
            "    2.614064523559687 # may vary\n",
            "    >>> np.std(a, where=[[True], [True], [False]])\n",
            "    2.0\n",
            "\n"
          ]
        }
      ],
      "source": [
        "help(np.std)"
      ]
    },
    {
      "cell_type": "code",
      "execution_count": null,
      "metadata": {
        "id": "es2YQ41f-wGU",
        "outputId": "3862f470-03dd-4797-98ed-a66dd74cc0e8",
        "colab": {
          "base_uri": "https://localhost:8080/"
        }
      },
      "outputs": [
        {
          "output_type": "execute_result",
          "data": {
            "text/plain": [
              "1.0740053227518152"
            ]
          },
          "metadata": {},
          "execution_count": 44
        }
      ],
      "source": [
        "np.std(sampleof5, ddof=1)"
      ]
    },
    {
      "cell_type": "markdown",
      "metadata": {
        "id": "1wKq0kJv-wGU"
      },
      "source": [
        "### Summary of section"
      ]
    },
    {
      "cell_type": "markdown",
      "metadata": {
        "id": "IHzz_1AB-wGU"
      },
      "source": [
        "In this section, you've been introduced to the scipy.stats package and used it to draw a small sample from the standard normal distribution. You've calculated the average (the mean) of this sample and seen that this is not exactly equal to the expected population parameter (which we know because we're generating the random variates from a specific, known distribution). You've been introduced to two ways of calculating the standard deviation; one uses $n$ in the denominator and the other uses $n-1$ (Bessel's correction). You've also seen which of these calculations np.std() performs by default and how to get it to generate the other."
      ]
    },
    {
      "cell_type": "markdown",
      "metadata": {
        "id": "ne0_j8LR-wGU"
      },
      "source": [
        "You use $n$ as the denominator if you want to calculate the standard deviation of a sequence of numbers. You use $n-1$ if you are using this sequence of numbers to estimate the population parameter. This brings us to some terminology that can be a little confusing.\n",
        "\n",
        "The population parameter is traditionally written as $\\sigma$ and the sample statistic as $s$. Rather unhelpfully, $s$ is also called the sample standard deviation (using $n-1$) whereas the standard deviation of the sample uses $n$. That's right, we have the sample standard deviation and the standard deviation of the sample and they're not the same thing!\n",
        "\n",
        "The sample standard deviation\n",
        "\\begin{equation}\n",
        "s = \\sqrt{\\frac{\\sum_i(x_i - \\bar{x})^2}{n-1}} \\approx \\sigma,\n",
        "\\end{equation}\n",
        "is our best (unbiased) estimate of the population parameter ($\\sigma$).\n",
        "\n",
        "If your dataset _is_ your entire population, you simply want to calculate the population parameter, $\\sigma$, via\n",
        "\\begin{equation}\n",
        "\\sigma = \\sqrt{\\frac{\\sum_i(x_i - \\bar{x})^2}{n}}\n",
        "\\end{equation}\n",
        "as you have complete, full knowledge of your population. In other words, your sample _is_ your population. It's worth noting that we're dealing with what Professor Spiegehalter describes on p. 92 of *AoS* as a **metaphorical population**: we have all the data, and we act as if the data-point is taken from a population at random. We can think of this population as an imaginary space of possibilities. \n",
        "\n",
        "If, however, you have sampled _from_ your population, you only have partial knowledge of the state of your population. In this case, the standard deviation of your sample is not an unbiased estimate of the standard deviation of the population, in which case you seek to estimate that population parameter via the sample standard deviation, which uses the $n-1$ denominator."
      ]
    },
    {
      "cell_type": "markdown",
      "metadata": {
        "id": "43OTRhmZ-wGU"
      },
      "source": [
        "Great work so far! Now let's dive deeper."
      ]
    },
    {
      "cell_type": "markdown",
      "metadata": {
        "id": "GZWavs7n-wGU"
      },
      "source": [
        "## 3. Sampling distributions"
      ]
    },
    {
      "cell_type": "markdown",
      "metadata": {
        "id": "HFhYKBFP-wGU"
      },
      "source": [
        "So far we've been dealing with the concept of taking a sample from a population to infer the population parameters. One statistic we calculated for a sample was the mean. As our samples will be expected to vary from one draw to another, so will our sample statistics. If we were to perform repeat draws of size $n$ and calculate the mean of each, we would expect to obtain a distribution of values. This is the sampling distribution of the mean. **The Central Limit Theorem (CLT)** tells us that such a distribution will approach a normal distribution as $n$ increases (the intuitions behind the CLT are covered in full on p. 236 of *AoS*). For the sampling distribution of the mean, the standard deviation of this distribution is given by\n",
        "\n",
        "\\begin{equation}\n",
        "\\sigma_{mean} = \\frac{\\sigma}{\\sqrt n}\n",
        "\\end{equation}\n",
        "\n",
        "where $\\sigma_{mean}$ is the standard deviation of the sampling distribution of the mean and $\\sigma$ is the standard deviation of the population (the population parameter)."
      ]
    },
    {
      "cell_type": "markdown",
      "metadata": {
        "id": "_gqAcjaW-wGU"
      },
      "source": [
        "This is important because typically we are dealing with samples from populations and all we know about the population is what we see in the sample. From this sample, we want to make inferences about the population. We may do this, for example, by looking at the histogram of the values and by calculating the mean and standard deviation (as estimates of the population parameters), and so we are intrinsically interested in how these quantities vary across samples. \n",
        "\n",
        "In other words, now that we've taken one sample of size $n$ and made some claims about the general population, what if we were to take another sample of size $n$? Would we get the same result? Would we make the same claims about the general population? This brings us to a fundamental question: _when we make some inference about a population based on our sample, how confident can we be that we've got it 'right'?_\n",
        "\n",
        "We need to think about **estimates and confidence intervals**: those concepts covered in Chapter 7, p. 189, of *AoS*."
      ]
    },
    {
      "cell_type": "markdown",
      "metadata": {
        "id": "nXTOE_MD-wGU"
      },
      "source": [
        "Now, the standard normal distribution (with its variance equal to its standard deviation of one) would not be a great illustration of a key point. Instead, let's imagine we live in a town of 50,000 people and we know the height of everyone in this town. We will have 50,000 numbers that tell us everything about our population. We'll simulate these numbers now and put ourselves in one particular town, called 'town 47', where the population mean height is 172 cm and population standard deviation is 5 cm."
      ]
    },
    {
      "cell_type": "code",
      "execution_count": 4,
      "metadata": {
        "id": "uIwxcTLj-wGU"
      },
      "outputs": [],
      "source": [
        "seed(47)\n",
        "pop_heights = norm.rvs(172, 5, size=50000)"
      ]
    },
    {
      "cell_type": "code",
      "execution_count": 5,
      "metadata": {
        "id": "mA_nlKZi-wGV",
        "outputId": "9b6abb5a-f8b4-4365-d776-15639018d675",
        "colab": {
          "base_uri": "https://localhost:8080/",
          "height": 295
        }
      },
      "outputs": [
        {
          "output_type": "display_data",
          "data": {
            "text/plain": [
              "<Figure size 432x288 with 1 Axes>"
            ],
            "image/png": "[encoded data removed]"
          },
          "metadata": {
            "needs_background": "light"
          }
        }
      ],
      "source": [
        "_ = plt.hist(pop_heights, bins=30)\n",
        "_ = plt.xlabel('height (cm)')\n",
        "_ = plt.ylabel('number of people')\n",
        "_ = plt.title('Distribution of heights in entire town population')\n",
        "_ = plt.axvline(172, color='r')\n",
        "_ = plt.axvline(172+5, color='r', linestyle='--')\n",
        "_ = plt.axvline(172-5, color='r', linestyle='--')\n",
        "_ = plt.axvline(172+10, color='r', linestyle='-.')\n",
        "_ = plt.axvline(172-10, color='r', linestyle='-.')"
      ]
    },
    {
      "cell_type": "markdown",
      "metadata": {
        "id": "op_pwgJ1-wGV"
      },
      "source": [
        "Now, 50,000 people is rather a lot to chase after with a tape measure. If all you want to know is the average height of the townsfolk, then can you just go out and measure a sample to get a pretty good estimate of the average height?"
      ]
    },
    {
      "cell_type": "code",
      "execution_count": 6,
      "metadata": {
        "id": "hr16OuoE-wGV"
      },
      "outputs": [],
      "source": [
        "def townsfolk_sampler(n):\n",
        "    return np.random.choice(pop_heights, n)"
      ]
    },
    {
      "cell_type": "markdown",
      "metadata": {
        "id": "3DIK2TDt-wGV"
      },
      "source": [
        "Let's say you go out one day and randomly sample 10 people to measure."
      ]
    },
    {
      "cell_type": "code",
      "execution_count": 7,
      "metadata": {
        "id": "kruUQ0Iz-wGV"
      },
      "outputs": [],
      "source": [
        "seed(47)\n",
        "daily_sample1 = townsfolk_sampler(10)"
      ]
    },
    {
      "cell_type": "code",
      "execution_count": 8,
      "metadata": {
        "id": "NptkpSOd-wGV",
        "outputId": "51d4072d-361c-493d-b209-ad28380f5eca",
        "colab": {
          "base_uri": "https://localhost:8080/",
          "height": 295
        }
      },
      "outputs": [
        {
          "output_type": "display_data",
          "data": {
            "text/plain": [
              "<Figure size 432x288 with 1 Axes>"
            ],
            "image/png": "[encoded data removed]"
          },
          "metadata": {
            "needs_background": "light"
          }
        }
      ],
      "source": [
        "_ = plt.hist(daily_sample1, bins=10)\n",
        "_ = plt.xlabel('height (cm)')\n",
        "_ = plt.ylabel('number of people')\n",
        "_ = plt.title('Distribution of heights in sample size 10')"
      ]
    },
    {
      "cell_type": "markdown",
      "metadata": {
        "id": "YUF2opc9-wGV"
      },
      "source": [
        "The sample distribution doesn't resemble what we take the population distribution to be. What do we get for the mean?"
      ]
    },
    {
      "cell_type": "code",
      "execution_count": 9,
      "metadata": {
        "id": "WG9TJm9d-wGV",
        "outputId": "70cf0cc3-e8df-4a15-b7d5-508daf04dc2a",
        "colab": {
          "base_uri": "https://localhost:8080/"
        }
      },
      "outputs": [
        {
          "output_type": "execute_result",
          "data": {
            "text/plain": [
              "173.47911444163503"
            ]
          },
          "metadata": {},
          "execution_count": 9
        }
      ],
      "source": [
        "np.mean(daily_sample1)"
      ]
    },
    {
      "cell_type": "markdown",
      "metadata": {
        "id": "xwowvx_6-wGV"
      },
      "source": [
        "And if we went out and repeated this experiment?"
      ]
    },
    {
      "cell_type": "code",
      "execution_count": 10,
      "metadata": {
        "id": "NEWSQ9f7-wGV"
      },
      "outputs": [],
      "source": [
        "daily_sample2 = townsfolk_sampler(10)"
      ]
    },
    {
      "cell_type": "code",
      "execution_count": 11,
      "metadata": {
        "id": "3HIsxo0y-wGW",
        "outputId": "c9d70602-31ff-405e-8554-9ae8215fbeb6",
        "colab": {
          "base_uri": "https://localhost:8080/"
        }
      },
      "outputs": [
        {
          "output_type": "execute_result",
          "data": {
            "text/plain": [
              "173.7317666636263"
            ]
          },
          "metadata": {},
          "execution_count": 11
        }
      ],
      "source": [
        "np.mean(daily_sample2)"
      ]
    },
    {
      "cell_type": "markdown",
      "metadata": {
        "id": "hxBFsjZn-wGW"
      },
      "source": [
        "__Q8:__ Simulate performing this random trial every day for a year, calculating the mean of each daily sample of 10, and plot the resultant sampling distribution of the mean."
      ]
    },
    {
      "cell_type": "markdown",
      "metadata": {
        "id": "JEDR_nQa-wGW"
      },
      "source": [
        "__A:__"
      ]
    },
    {
      "cell_type": "code",
      "execution_count": 41,
      "metadata": {
        "id": "QVbDhRDh-wGW"
      },
      "outputs": [],
      "source": [
        "def yearly_sample_means(sample_size):\n",
        "  yearly_sample_means = []\n",
        "  for i in range(365):\n",
        "    daily_sample_mean = np.mean(townsfolk_sampler(sample_size))\n",
        "    yearly_sample_means.append(daily_sample_mean)\n",
        "  return yearly_sample_means"
      ]
    },
    {
      "cell_type": "code",
      "execution_count": 42,
      "metadata": {
        "id": "v54c519T-wGW",
        "colab": {
          "base_uri": "https://localhost:8080/",
          "height": 295
        },
        "outputId": "13430ad8-33dc-451c-c6bd-1f128bbe5b21"
      },
      "outputs": [
        {
          "output_type": "display_data",
          "data": {
            "text/plain": [
              "<Figure size 432x288 with 1 Axes>"
            ],
            "image/png": "[encoded data removed]"
          },
          "metadata": {
            "needs_background": "light"
          }
        }
      ],
      "source": [
        "seed(47)\n",
        "# take your samples here\n",
        "_ = plt.hist(yearly_sample_means(10), bins=10)\n",
        "_ = plt.xlabel('mean height (cm)')\n",
        "_ = plt.ylabel('number of samples')\n",
        "_ = plt.title('Distribution of mean heights in 365 samples of size 10')"
      ]
    },
    {
      "cell_type": "code",
      "execution_count": 43,
      "metadata": {
        "id": "iwnPiRqT-wGW",
        "colab": {
          "base_uri": "https://localhost:8080/"
        },
        "outputId": "eed2d5fd-c0e9-4b21-a219-669d24a1fc98"
      },
      "outputs": [
        {
          "output_type": "stream",
          "name": "stdout",
          "text": [
            "Mean:  171.8660049358649\n",
            "Std:  1.592249322525351\n"
          ]
        }
      ],
      "source": [
        "seed(47)\n",
        "print('Mean: ',np.mean(yearly_sample_means(10)))\n",
        "print('Std: ',np.std(yearly_sample_means(10)))"
      ]
    },
    {
      "cell_type": "markdown",
      "metadata": {
        "id": "-vfQmVq5-wGW"
      },
      "source": [
        "The above is the distribution of the means of samples of size 10 taken from our population. The Central Limit Theorem tells us the expected mean of this distribution will be equal to the population mean, and standard deviation will be $\\sigma / \\sqrt n$, which, in this case, should be approximately 1.58."
      ]
    },
    {
      "cell_type": "markdown",
      "metadata": {
        "id": "xGuYys1W-wGW"
      },
      "source": [
        "__Q9:__ Verify the above results from the CLT."
      ]
    },
    {
      "cell_type": "markdown",
      "metadata": {
        "id": "n2AGu1GB-wGW"
      },
      "source": [
        "__A:__My year of samples had a mean of 171.86, close to the population mean of 172. It had a std of 1.59, instead of the expected value of 1.58."
      ]
    },
    {
      "cell_type": "code",
      "execution_count": null,
      "metadata": {
        "id": "ZclM8UgO-wGW"
      },
      "outputs": [],
      "source": []
    },
    {
      "cell_type": "code",
      "execution_count": null,
      "metadata": {
        "id": "hXFvrYAK-wGW"
      },
      "outputs": [],
      "source": []
    },
    {
      "cell_type": "markdown",
      "metadata": {
        "id": "IkEpRvWM-wGW"
      },
      "source": [
        "Remember, in this instance, we knew our population parameters, that the average height really is 172 cm and the standard deviation is 5 cm, and we see some of our daily estimates of the population mean were as low as around 168 and some as high as 176."
      ]
    },
    {
      "cell_type": "markdown",
      "metadata": {
        "id": "Uouje7j1-wGW"
      },
      "source": [
        "__Q10:__ Repeat the above year's worth of samples but for a sample size of 50 (perhaps you had a bigger budget for conducting surveys that year)! Would you expect your distribution of sample means to be wider (more variable) or narrower (more consistent)? Compare your resultant summary statistics to those predicted by the CLT."
      ]
    },
    {
      "cell_type": "markdown",
      "metadata": {
        "id": "XeXW0Oyu-wGW"
      },
      "source": [
        "__A:__"
      ]
    },
    {
      "cell_type": "code",
      "execution_count": 44,
      "metadata": {
        "id": "zwNd4yWd-wGW",
        "colab": {
          "base_uri": "https://localhost:8080/",
          "height": 295
        },
        "outputId": "dcf388b5-219f-4c70-8474-d02314dfc76c"
      },
      "outputs": [
        {
          "output_type": "display_data",
          "data": {
            "text/plain": [
              "<Figure size 432x288 with 1 Axes>"
            ],
            "image/png": "[encoded data removed]"
          },
          "metadata": {
            "needs_background": "light"
          }
        }
      ],
      "source": [
        "seed(47)\n",
        "# calculate daily means from the larger sample size here\n",
        "_ = plt.hist(yearly_sample_means(50), bins=10)\n",
        "_ = plt.xlabel('mean height (cm)')\n",
        "_ = plt.ylabel('number of samples')\n",
        "_ = plt.title('Distribution of mean heights in 365 samples of size 50')"
      ]
    },
    {
      "cell_type": "code",
      "execution_count": 47,
      "metadata": {
        "id": "VGv-Yrms-wGW",
        "colab": {
          "base_uri": "https://localhost:8080/"
        },
        "outputId": "be310224-f3a1-473f-c538-7bc3eadf731e"
      },
      "outputs": [
        {
          "output_type": "stream",
          "name": "stdout",
          "text": [
            "Mean and std for means of 365 samples of size 50\n",
            "Mean:  171.94366080916114\n",
            "Std:  0.7081664563114447\n"
          ]
        }
      ],
      "source": [
        "seed(47)\n",
        "print('Mean and std for means of 365 samples of size 50')\n",
        "print('Mean: ',np.mean(yearly_sample_means(50)))\n",
        "print('Std: ',np.std(yearly_sample_means(50)))"
      ]
    },
    {
      "cell_type": "markdown",
      "metadata": {
        "id": "LJ_lNlN8-wGW"
      },
      "source": [
        "What we've seen so far, then, is that we can estimate population parameters from a sample from the population, and that samples have their own distributions. Furthermore, the larger the sample size, the narrower are those sampling distributions."
      ]
    },
    {
      "cell_type": "markdown",
      "metadata": {
        "id": "XMhsrEeu-wGW"
      },
      "source": [
        "### Normally testing time!"
      ]
    },
    {
      "cell_type": "markdown",
      "metadata": {
        "id": "vLi-cEHo-wGW"
      },
      "source": [
        "All of the above is well and good. We've been sampling from a population we know is normally distributed, we've come to understand when to use $n$ and when to use $n-1$ in the denominator to calculate the spread of a distribution, and we've  seen the Central Limit Theorem in action for a sampling distribution. All seems very well behaved in Frequentist land. But, well, why should we really care?"
      ]
    },
    {
      "cell_type": "markdown",
      "metadata": {
        "id": "ZUVjAhJY-wGW"
      },
      "source": [
        "Remember, we rarely (if ever) actually know our population parameters but we still have to estimate them somehow. If we want to make inferences to conclusions like \"this observation is unusual\" or \"my population mean has changed\" then we need to have some idea of what the underlying distribution is so we can calculate relevant probabilities. In frequentist inference, we use the formulae above to deduce these population parameters. Take a moment in the next part of this assignment to refresh your understanding of how these probabilities work."
      ]
    },
    {
      "cell_type": "markdown",
      "metadata": {
        "id": "szbbrqRE-wGW"
      },
      "source": [
        "Recall some basic properties of the standard normal distribution, such as that about 68% of observations are within plus or minus 1 standard deviation of the mean. Check out the precise definition of a normal distribution on p. 394 of *AoS*. \n",
        "\n",
        "__Q11:__ Using this fact, calculate the probability of observing the value 1 or less in a single observation from the standard normal distribution. Hint: you may find it helpful to sketch the standard normal distribution (the familiar bell shape) and mark the number of standard deviations from the mean on the x-axis and shade the regions of the curve that contain certain percentages of the population."
      ]
    },
    {
      "cell_type": "markdown",
      "metadata": {
        "id": "z281PkvA-wGX"
      },
      "source": [
        "__A:__84%\n",
        "\n"
      ]
    },
    {
      "cell_type": "markdown",
      "metadata": {
        "id": "PD2fqHF4-wGX"
      },
      "source": [
        "Calculating this probability involved calculating the area under the curve from the value of 1 and below. To put it in mathematical terms, we need to *integrate* the probability density function. We could just add together the known areas of chunks (from -Inf to 0 and then 0 to $+\\sigma$ in the example above). One way to do this is to look up tables (literally). Fortunately, scipy has this functionality built in with the cdf() function."
      ]
    },
    {
      "cell_type": "markdown",
      "metadata": {
        "id": "fcFvsFg_-wGX"
      },
      "source": [
        "__Q12:__ Use the cdf() function to answer the question above again and verify you get the same answer."
      ]
    },
    {
      "cell_type": "markdown",
      "metadata": {
        "id": "ReIwEWB--wGX"
      },
      "source": [
        "__A:__Yes, we get 84.134%"
      ]
    },
    {
      "cell_type": "code",
      "execution_count": 52,
      "metadata": {
        "id": "uqfHn3qF-wGX",
        "colab": {
          "base_uri": "https://localhost:8080/"
        },
        "outputId": "b742f904-f6a6-458b-96c6-a10ce257e83b"
      },
      "outputs": [
        {
          "output_type": "execute_result",
          "data": {
            "text/plain": [
              "0.8413447460685429"
            ]
          },
          "metadata": {},
          "execution_count": 52
        }
      ],
      "source": [
        "norm.cdf(1)"
      ]
    },
    {
      "cell_type": "markdown",
      "metadata": {
        "id": "a5QoPzWZ-wGX"
      },
      "source": [
        "__Q13:__ Using our knowledge of the population parameters for our townsfolks' heights, what is the probability of selecting one person at random and their height being 177 cm or less? Calculate this using both of the approaches given above."
      ]
    },
    {
      "cell_type": "markdown",
      "metadata": {
        "id": "rpfyPOVn-wGX"
      },
      "source": [
        "__A:__84%, since 177cm is +1 std away from the mean"
      ]
    },
    {
      "cell_type": "code",
      "execution_count": 54,
      "metadata": {
        "id": "FC7VYe7Q-wGX",
        "colab": {
          "base_uri": "https://localhost:8080/"
        },
        "outputId": "49c05fdc-e8e4-4886-d6b8-4bc18c6ecbe7"
      },
      "outputs": [
        {
          "output_type": "execute_result",
          "data": {
            "text/plain": [
              "0.8413447460685429"
            ]
          },
          "metadata": {},
          "execution_count": 54
        }
      ],
      "source": [
        "norm.cdf(177,172,5)"
      ]
    },
    {
      "cell_type": "markdown",
      "metadata": {
        "id": "WveZOPug-wGX"
      },
      "source": [
        "__Q14:__ Turning this question around — suppose we randomly pick one person and measure their height and find they are 2.00 m tall. How surprised should we be at this result, given what we know about the population distribution? In other words, how likely would it be to obtain a value at least as extreme as this? Express this as a probability. "
      ]
    },
    {
      "cell_type": "markdown",
      "metadata": {
        "id": "a1B5Afgg-wGX"
      },
      "source": [
        "__A:__This would be extremely unlikely. The probability is 0.00000001 that we would get a more extreme result."
      ]
    },
    {
      "cell_type": "code",
      "execution_count": 56,
      "metadata": {
        "id": "nkj32Ab9-wGX",
        "colab": {
          "base_uri": "https://localhost:8080/"
        },
        "outputId": "9fdd0f10-535e-4d6b-ac6f-37d5a38e263c"
      },
      "outputs": [
        {
          "output_type": "execute_result",
          "data": {
            "text/plain": [
              "1.0717590259723409e-08"
            ]
          },
          "metadata": {},
          "execution_count": 56
        }
      ],
      "source": [
        "1-norm.cdf(200,172,5)"
      ]
    },
    {
      "cell_type": "markdown",
      "metadata": {
        "id": "1Lt9Q3gh-wGX"
      },
      "source": [
        "What we've just done is calculate the ***p-value*** of the observation of someone 2.00m tall (review *p*-values if you need to on p. 399 of *AoS*). We could calculate this probability by virtue of knowing the population parameters. We were then able to use the known properties of the relevant normal distribution to calculate the probability of observing a value at least as extreme as our test value."
      ]
    },
    {
      "cell_type": "markdown",
      "metadata": {
        "id": "ZtW3Mc4E-wGX"
      },
      "source": [
        "We're about to come to a pinch, though. We've said a couple of times that we rarely, if ever, know the true population parameters; we have to estimate them from our sample and we cannot even begin to estimate the standard deviation from a single observation. \n",
        "\n",
        "This is very true and usually we have sample sizes larger than one. This means we can calculate the mean of the sample as our best estimate of the population mean and the standard deviation as our best estimate of the population standard deviation. \n",
        "\n",
        "In other words, we are now coming to deal with the sampling distributions we mentioned above as we are generally concerned with the properties of the sample means we obtain. \n",
        "\n",
        "Above, we highlighted one result from the CLT, whereby the sampling distribution (of the mean) becomes narrower and narrower with the square root of the sample size. We remind ourselves that another result from the CLT is that _even if the underlying population distribution is not normal, the sampling distribution will tend to become normal with sufficiently large sample size_. (**Check out p. 199 of AoS if you need to revise this**). This is the key driver for us 'requiring' a certain sample size, for example you may frequently see a minimum sample size of 30 stated in many places. In reality this is simply a rule of thumb; if the underlying distribution is approximately normal then your sampling distribution will already be pretty normal, but if the underlying distribution is heavily skewed then you'd want to increase your sample size."
      ]
    },
    {
      "cell_type": "markdown",
      "metadata": {
        "id": "TyciPX4V-wGX"
      },
      "source": [
        "__Q15:__ Let's now start from the position of knowing nothing about the heights of people in our town.\n",
        "* Use the random seed of 47, to randomly sample the heights of 50 townsfolk\n",
        "* Estimate the population mean using np.mean\n",
        "* Estimate the population standard deviation using np.std (remember which denominator to use!)\n",
        "* Calculate the (95%) [margin of error](https://www.statisticshowto.datasciencecentral.com/probability-and-statistics/hypothesis-testing/margin-of-error/#WhatMofE) (use the exact critial z value to 2 decimal places - [look this up](https://www.statisticshowto.datasciencecentral.com/probability-and-statistics/find-critical-values/) or use norm.ppf()) Recall that the ***margin of error*** is mentioned on p. 189 of the *AoS* and discussed in depth in that chapter). \n",
        "* Calculate the 95% Confidence Interval of the mean (***confidence intervals*** are defined on p. 385 of *AoS*) \n",
        "* Does this interval include the true population mean?"
      ]
    },
    {
      "cell_type": "markdown",
      "metadata": {
        "id": "09k0l4gx-wGX"
      },
      "source": [
        "__A:__The 95% CI is 170.83  -  173.05. We are 95% confident this interval contains the true mean."
      ]
    },
    {
      "cell_type": "code",
      "execution_count": 57,
      "metadata": {
        "id": "o4CoBdbc-wGX"
      },
      "outputs": [],
      "source": [
        "seed(47)\n",
        "# take your sample now\n",
        "s = yearly_sample_means(50)"
      ]
    },
    {
      "cell_type": "code",
      "execution_count": 58,
      "metadata": {
        "id": "9SiMiQRC-wGX",
        "colab": {
          "base_uri": "https://localhost:8080/"
        },
        "outputId": "1470db8f-46d9-4621-8a61-25d5f147b2d3"
      },
      "outputs": [
        {
          "output_type": "execute_result",
          "data": {
            "text/plain": [
              "171.94366080916114"
            ]
          },
          "metadata": {},
          "execution_count": 58
        }
      ],
      "source": [
        "np.mean(s)"
      ]
    },
    {
      "cell_type": "code",
      "execution_count": 60,
      "metadata": {
        "id": "4h8Dt6cz-wGX",
        "colab": {
          "base_uri": "https://localhost:8080/"
        },
        "outputId": "0d3e0e8f-f65f-4aeb-c6ff-4c4e7cefe8e4"
      },
      "outputs": [
        {
          "output_type": "execute_result",
          "data": {
            "text/plain": [
              "0.6745354088447525"
            ]
          },
          "metadata": {},
          "execution_count": 60
        }
      ],
      "source": [
        "np.std(s, ddof=1)"
      ]
    },
    {
      "cell_type": "code",
      "execution_count": 65,
      "metadata": {
        "id": "Ej4gkSti-wGX",
        "colab": {
          "base_uri": "https://localhost:8080/"
        },
        "outputId": "4e956e22-1894-42af-c2e0-67a36efaccea"
      },
      "outputs": [
        {
          "output_type": "stream",
          "name": "stdout",
          "text": [
            "CI:  170.83414879541567  -  173.05317282290662\n"
          ]
        }
      ],
      "source": [
        "min,max = norm.ppf(0.05,np.mean(s),np.std(s,ddof=1)),norm.ppf(0.95,np.mean(s),np.std(s,ddof=1))\n",
        "print('CI: ',min, ' - ', max)"
      ]
    },
    {
      "cell_type": "markdown",
      "metadata": {
        "id": "9FPgWvvL-wGY"
      },
      "source": [
        "__Q16:__ Above, we calculated the confidence interval using the critical z value. What is the problem with this? What requirement, or requirements, are we (strictly) failing?"
      ]
    },
    {
      "cell_type": "markdown",
      "metadata": {
        "id": "gISs5t8K-wGY"
      },
      "source": [
        "__A:__We do not know the true population standard deviation."
      ]
    },
    {
      "cell_type": "markdown",
      "metadata": {
        "id": "b5Yvy2sM-wGY"
      },
      "source": [
        "__Q17:__ Calculate the 95% confidence interval for the mean using the _t_ distribution. Is this wider or narrower than that based on the normal distribution above? If you're unsure, you may find this [resource](https://www.statisticshowto.datasciencecentral.com/probability-and-statistics/confidence-interval/) useful. For calculating the critical value, remember how you could calculate this for the normal distribution using norm.ppf()."
      ]
    },
    {
      "cell_type": "markdown",
      "metadata": {
        "id": "UXhLg8vI-wGY"
      },
      "source": [
        "__A:__The CI.95 is (170.6171851949219, 173.2701364234004). This is wider than the one based on the normal distribution."
      ]
    },
    {
      "cell_type": "code",
      "execution_count": 70,
      "metadata": {
        "id": "Nv7XGcLd-wGY",
        "colab": {
          "base_uri": "https://localhost:8080/"
        },
        "outputId": "dd883a04-4e06-4db7-80b7-663c8ec221f3"
      },
      "outputs": [
        {
          "output_type": "execute_result",
          "data": {
            "text/plain": [
              "(170.6171851949219, 173.2701364234004)"
            ]
          },
          "metadata": {},
          "execution_count": 70
        }
      ],
      "source": [
        "t.interval(alpha=0.95, df=len(s)-1, loc=np.mean(s), scale=np.std(s, ddof=1)) "
      ]
    },
    {
      "cell_type": "markdown",
      "metadata": {
        "id": "82JUOD3u-wGY"
      },
      "source": [
        "This is slightly wider than the previous confidence interval. This reflects the greater uncertainty given that we are estimating population parameters from a sample."
      ]
    },
    {
      "cell_type": "markdown",
      "metadata": {
        "id": "fe9FQU5O-wGY"
      },
      "source": [
        "## 4. Learning outcomes"
      ]
    },
    {
      "cell_type": "markdown",
      "metadata": {
        "id": "zZ07_bM0-wGY"
      },
      "source": [
        "Having completed this project notebook, you now have hands-on experience:\n",
        "* sampling and calculating probabilities from a normal distribution\n",
        "* identifying the correct way to estimate the standard deviation of a population (the population parameter) from a sample\n",
        "* with sampling distribution and now know how the Central Limit Theorem applies\n",
        "* with how to calculate critical values and confidence intervals"
      ]
    },
    {
      "cell_type": "code",
      "execution_count": null,
      "metadata": {
        "id": "TccRVYXJ-wGY"
      },
      "outputs": [],
      "source": []
    }
  ],
  "metadata": {
    "kernelspec": {
      "display_name": "Python 3",
      "language": "python",
      "name": "python3"
    },
    "language_info": {
      "codemirror_mode": {
        "name": "ipython",
        "version": 3
      },
      "file_extension": ".py",
      "mimetype": "text/x-python",
      "name": "python",
      "nbconvert_exporter": "python",
      "pygments_lexer": "ipython3",
      "version": "3.7.3"
    },
    "colab": {
      "provenance": [],
      "include_colab_link": true
    }
  },
  "nbformat": 4,
  "nbformat_minor": 0
}